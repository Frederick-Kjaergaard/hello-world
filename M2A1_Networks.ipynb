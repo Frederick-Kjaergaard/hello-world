{
  "nbformat": 4,
  "nbformat_minor": 0,
  "metadata": {
    "colab": {
      "name": "M2A1 Networks.ipynb",
      "provenance": [],
      "collapsed_sections": []
    },
    "kernelspec": {
      "name": "python3",
      "display_name": "Python 3"
    }
  },
  "cells": [
    {
      "cell_type": "markdown",
      "metadata": {
        "id": "ZtdRQgVmy3JZ",
        "colab_type": "text"
      },
      "source": [
        "Here is the link for Peergrade: https://colab.research.google.com/drive/1G5YydyhH462uuwCUQK_DpTkzDhLjTwex\n"
      ]
    },
    {
      "cell_type": "markdown",
      "metadata": {
        "id": "VrUWWlyRNef-",
        "colab_type": "text"
      },
      "source": [
        "#0. Importing & Loading"
      ]
    },
    {
      "cell_type": "code",
      "metadata": {
        "id": "dM-omJivMp0c",
        "colab_type": "code",
        "colab": {}
      },
      "source": [
        "#Network packages\n",
        "import networkx as nx\n",
        "from networkx.algorithms import bipartite \n",
        "import itertools\n",
        "\n",
        "# Normal data-sci packages\n",
        "import pandas as pd\n",
        "import numpy as np\n",
        "import matplotlib.pyplot as plt"
      ],
      "execution_count": 0,
      "outputs": []
    },
    {
      "cell_type": "code",
      "metadata": {
        "id": "q-mLH9oBNdy3",
        "colab_type": "code",
        "colab": {}
      },
      "source": [
        "#Loading files, naming columns and removing first nan column from txt files\n",
        "df_att = pd.read_csv('https://github.com/SDS-AAU/M2-2018/raw/master/assignments/assignment_1/data/Krack-High-Tec-Attributes.csv')\n",
        "df_att.columns = [column.lower() for column in df_att.columns]\n",
        "\n",
        "df_advice = pd.read_csv('https://github.com/SDS-AAU/M2-2018/raw/master/assignments/assignment_1/data/Krack-High-Tec-edgelist-Advice.txt', sep=' ', header = None)\n",
        "df_advice = df_advice.iloc[:,1:]\n",
        "df_advice.columns = ['ego', 'alter', 'advice_edge']\n",
        "\n",
        "df_friendship = pd.read_csv('https://github.com/SDS-AAU/M2-2018/raw/master/assignments/assignment_1/data/Krack-High-Tec-edgelist-Friendship.txt', sep=' ', header = None)\n",
        "df_friendship = df_friendship.iloc[:,1:]\n",
        "df_friendship.columns = ['ego', 'alter', 'friendship_edge']\n",
        "\n",
        "df_reports = pd.read_csv('https://github.com/SDS-AAU/M2-2018/raw/master/assignments/assignment_1/data/Krack-High-Tec-edgelist-ReportsTo.txt', sep=' ', header = None)\n",
        "df_reports = df_reports.iloc[:,1:]\n",
        "df_reports.columns = ['ego', 'alter', 'reports_edge']"
      ],
      "execution_count": 0,
      "outputs": []
    },
    {
      "cell_type": "code",
      "metadata": {
        "id": "QRTBrvXuP9PD",
        "colab_type": "code",
        "outputId": "b2c0b9a3-a2fe-4009-9b14-a89faf41c85a",
        "colab": {
          "base_uri": "https://localhost:8080/",
          "height": 206
        }
      },
      "source": [
        "#Setting index of attributes to id\n",
        "df_att.set_index('id', inplace=True)\n",
        "#Checking df for structure\n",
        "df_advice.head()"
      ],
      "execution_count": 3,
      "outputs": [
        {
          "output_type": "execute_result",
          "data": {
            "text/html": [
              "<div>\n",
              "<style scoped>\n",
              "    .dataframe tbody tr th:only-of-type {\n",
              "        vertical-align: middle;\n",
              "    }\n",
              "\n",
              "    .dataframe tbody tr th {\n",
              "        vertical-align: top;\n",
              "    }\n",
              "\n",
              "    .dataframe thead th {\n",
              "        text-align: right;\n",
              "    }\n",
              "</style>\n",
              "<table border=\"1\" class=\"dataframe\">\n",
              "  <thead>\n",
              "    <tr style=\"text-align: right;\">\n",
              "      <th></th>\n",
              "      <th>ego</th>\n",
              "      <th>alter</th>\n",
              "      <th>advice_edge</th>\n",
              "    </tr>\n",
              "  </thead>\n",
              "  <tbody>\n",
              "    <tr>\n",
              "      <th>0</th>\n",
              "      <td>1</td>\n",
              "      <td>1</td>\n",
              "      <td>0</td>\n",
              "    </tr>\n",
              "    <tr>\n",
              "      <th>1</th>\n",
              "      <td>1</td>\n",
              "      <td>2</td>\n",
              "      <td>1</td>\n",
              "    </tr>\n",
              "    <tr>\n",
              "      <th>2</th>\n",
              "      <td>1</td>\n",
              "      <td>3</td>\n",
              "      <td>0</td>\n",
              "    </tr>\n",
              "    <tr>\n",
              "      <th>3</th>\n",
              "      <td>1</td>\n",
              "      <td>4</td>\n",
              "      <td>1</td>\n",
              "    </tr>\n",
              "    <tr>\n",
              "      <th>4</th>\n",
              "      <td>1</td>\n",
              "      <td>5</td>\n",
              "      <td>0</td>\n",
              "    </tr>\n",
              "  </tbody>\n",
              "</table>\n",
              "</div>"
            ],
            "text/plain": [
              "   ego  alter  advice_edge\n",
              "0    1      1            0\n",
              "1    1      2            1\n",
              "2    1      3            0\n",
              "3    1      4            1\n",
              "4    1      5            0"
            ]
          },
          "metadata": {
            "tags": []
          },
          "execution_count": 3
        }
      ]
    },
    {
      "cell_type": "markdown",
      "metadata": {
        "id": "GRdxlc0GOYMT",
        "colab_type": "text"
      },
      "source": [
        "#1. Create a network"
      ]
    },
    {
      "cell_type": "code",
      "metadata": {
        "id": "rMUXfd4SVOxb",
        "colab_type": "code",
        "colab": {}
      },
      "source": [
        "#Creating DiGraphs in which to fill with edges and nodes\n",
        "A = nx.DiGraph()\n",
        "F = nx.DiGraph()\n",
        "R = nx.DiGraph()\n",
        "G = nx.DiGraph()"
      ],
      "execution_count": 0,
      "outputs": []
    },
    {
      "cell_type": "code",
      "metadata": {
        "id": "Es3Iq6-_ZhH8",
        "colab_type": "code",
        "colab": {}
      },
      "source": [
        "#Remove entries in df without edge\n",
        "df_advice_1 = df_advice[df_advice.advice_edge == 1]\n",
        "#Add edges from df columns, use zip function to make them itterable so they can fit into the add_edges function\n",
        "A.add_edges_from(zip(df_advice_1.ego, df_advice_1.alter), advice_edge=1)\n",
        "\n",
        "#Do the same as before but for friendship\n",
        "df_friendship_1 = df_friendship[df_friendship.friendship_edge == 1]\n",
        "F.add_edges_from(zip(df_friendship_1.ego, df_friendship_1.alter), friendship_edge=1)\n",
        "\n",
        "#Same as before\n",
        "df_reports_1 = df_reports[df_reports.reports_edge == 1]\n",
        "R.add_edges_from(zip(df_reports_1.ego, df_reports_1.alter), reports_edge=1)\n"
      ],
      "execution_count": 0,
      "outputs": []
    },
    {
      "cell_type": "code",
      "metadata": {
        "id": "vZ5dOTpz31zD",
        "colab_type": "code",
        "colab": {}
      },
      "source": [
        "#Creat a single graph with\n",
        "G.add_edges_from(A.edges())\n",
        "G.add_edges_from(F.edges())\n",
        "G.add_edges_from(R.edges())"
      ],
      "execution_count": 0,
      "outputs": []
    },
    {
      "cell_type": "code",
      "metadata": {
        "id": "LT6gpNPHax09",
        "colab_type": "code",
        "colab": {}
      },
      "source": [
        "# Creating a dictionary from the Dataframe transponse that we can pass as note attributes for our graph\n",
        "# Change type first to avoide, non type error\n",
        "df_att = df_att.round().astype(int)\n",
        "dict_att = df_att.T.to_dict()\n",
        "\n",
        "# Setting node attributes\n",
        "nx.set_node_attributes(G, dict_att)\n",
        "nx.set_node_attributes(F, dict_att)\n",
        "nx.set_node_attributes(A, dict_att)"
      ],
      "execution_count": 0,
      "outputs": []
    },
    {
      "cell_type": "markdown",
      "metadata": {
        "id": "fxh5chlffHwb",
        "colab_type": "text"
      },
      "source": [
        "# 2.1 Analysis of network\n",
        "Getting the data ready for analysis"
      ]
    },
    {
      "cell_type": "code",
      "metadata": {
        "id": "qx1VN1RZc-Am",
        "colab_type": "code",
        "colab": {}
      },
      "source": [
        "#Calculate degre-centrality and assign it as a node-attribute\n",
        "degree_centrality = nx.degree_centrality(G)\n",
        "nx.set_node_attributes(G, degree_centrality, 'degree')\n",
        "\n",
        "#Calculate in-degre-centrality and assign it as a node-attribute\n",
        "indegree_centrality = nx.in_degree_centrality(G)\n",
        "nx.set_node_attributes(G, indegree_centrality, 'inner')\n",
        "\n",
        "#Calculate out-degre-centrality and assign it as a node-attribute\n",
        "outdegree_centrality = nx.out_degree_centrality(G)\n",
        "nx.set_node_attributes(G, outdegree_centrality, 'outer')\n",
        "\n",
        "#Calculate transistivity and assign it as a node-attribute\n",
        "transistivity = nx.transitivity(G)\n",
        "nx.set_node_attributes(G, transistivity, 'transistivity')\n",
        "#Calculate reciprocity and assign it as a node-attribute\n",
        "reciprocity = nx.reciprocity(G)\n",
        "nx.set_node_attributes(G, reciprocity, 'reciprocity')\n",
        "\n",
        "#Calculate in-degre-centrality for later analysis\n",
        "indegree_centrality_A = nx.in_degree_centrality(A)\n",
        "nx.set_node_attributes(A, indegree_centrality_A, 'inner')\n",
        "indegree_centrality_F = nx.in_degree_centrality(F)\n",
        "nx.set_node_attributes(F, indegree_centrality_F, 'inner')\n",
        "degree_centrality_A = nx.degree_centrality(A)\n",
        "nx.set_node_attributes(A, degree_centrality, 'degree')\n",
        "degree_centrality_F = nx.degree_centrality(F)\n",
        "nx.set_node_attributes(F, degree_centrality, 'degree')\n"
      ],
      "execution_count": 0,
      "outputs": []
    },
    {
      "cell_type": "code",
      "metadata": {
        "id": "TcVRkLebgGUo",
        "colab_type": "code",
        "colab": {}
      },
      "source": [
        "#Store new impormation about the network in Tabular form\n",
        "graph_G_df = pd.DataFrame(dict(G.nodes(data=True))).T\n",
        "graph_A_df = pd.DataFrame(dict(A.nodes(data=True))).T\n",
        "graph_F_df = pd.DataFrame(dict(F.nodes(data=True))).T"
      ],
      "execution_count": 0,
      "outputs": []
    },
    {
      "cell_type": "code",
      "metadata": {
        "id": "oDukQO_ugaDk",
        "colab_type": "code",
        "outputId": "b9a66837-cd6e-4fea-f58e-1c6e8cf080fa",
        "colab": {
          "base_uri": "https://localhost:8080/",
          "height": 206
        }
      },
      "source": [
        "#Examine the new information\n",
        "graph_G_df.head()"
      ],
      "execution_count": 10,
      "outputs": [
        {
          "output_type": "execute_result",
          "data": {
            "text/html": [
              "<div>\n",
              "<style scoped>\n",
              "    .dataframe tbody tr th:only-of-type {\n",
              "        vertical-align: middle;\n",
              "    }\n",
              "\n",
              "    .dataframe tbody tr th {\n",
              "        vertical-align: top;\n",
              "    }\n",
              "\n",
              "    .dataframe thead th {\n",
              "        text-align: right;\n",
              "    }\n",
              "</style>\n",
              "<table border=\"1\" class=\"dataframe\">\n",
              "  <thead>\n",
              "    <tr style=\"text-align: right;\">\n",
              "      <th></th>\n",
              "      <th>age</th>\n",
              "      <th>degree</th>\n",
              "      <th>dept</th>\n",
              "      <th>inner</th>\n",
              "      <th>level</th>\n",
              "      <th>outer</th>\n",
              "      <th>reciprocity</th>\n",
              "      <th>tenure</th>\n",
              "      <th>transistivity</th>\n",
              "    </tr>\n",
              "  </thead>\n",
              "  <tbody>\n",
              "    <tr>\n",
              "      <th>1</th>\n",
              "      <td>33.0</td>\n",
              "      <td>1.10</td>\n",
              "      <td>4.0</td>\n",
              "      <td>0.75</td>\n",
              "      <td>3.0</td>\n",
              "      <td>0.35</td>\n",
              "      <td>0.62931</td>\n",
              "      <td>9.0</td>\n",
              "      <td>0.560993</td>\n",
              "    </tr>\n",
              "    <tr>\n",
              "      <th>2</th>\n",
              "      <td>42.0</td>\n",
              "      <td>1.20</td>\n",
              "      <td>4.0</td>\n",
              "      <td>0.95</td>\n",
              "      <td>2.0</td>\n",
              "      <td>0.25</td>\n",
              "      <td>0.62931</td>\n",
              "      <td>20.0</td>\n",
              "      <td>0.560993</td>\n",
              "    </tr>\n",
              "    <tr>\n",
              "      <th>4</th>\n",
              "      <td>33.0</td>\n",
              "      <td>1.10</td>\n",
              "      <td>4.0</td>\n",
              "      <td>0.50</td>\n",
              "      <td>3.0</td>\n",
              "      <td>0.60</td>\n",
              "      <td>0.62931</td>\n",
              "      <td>8.0</td>\n",
              "      <td>0.560993</td>\n",
              "    </tr>\n",
              "    <tr>\n",
              "      <th>8</th>\n",
              "      <td>34.0</td>\n",
              "      <td>1.00</td>\n",
              "      <td>1.0</td>\n",
              "      <td>0.60</td>\n",
              "      <td>3.0</td>\n",
              "      <td>0.40</td>\n",
              "      <td>0.62931</td>\n",
              "      <td>11.0</td>\n",
              "      <td>0.560993</td>\n",
              "    </tr>\n",
              "    <tr>\n",
              "      <th>16</th>\n",
              "      <td>27.0</td>\n",
              "      <td>0.65</td>\n",
              "      <td>4.0</td>\n",
              "      <td>0.45</td>\n",
              "      <td>3.0</td>\n",
              "      <td>0.20</td>\n",
              "      <td>0.62931</td>\n",
              "      <td>5.0</td>\n",
              "      <td>0.560993</td>\n",
              "    </tr>\n",
              "  </tbody>\n",
              "</table>\n",
              "</div>"
            ],
            "text/plain": [
              "     age  degree  dept  inner  level  outer  reciprocity  tenure  transistivity\n",
              "1   33.0    1.10   4.0   0.75    3.0   0.35      0.62931     9.0       0.560993\n",
              "2   42.0    1.20   4.0   0.95    2.0   0.25      0.62931    20.0       0.560993\n",
              "4   33.0    1.10   4.0   0.50    3.0   0.60      0.62931     8.0       0.560993\n",
              "8   34.0    1.00   1.0   0.60    3.0   0.40      0.62931    11.0       0.560993\n",
              "16  27.0    0.65   4.0   0.45    3.0   0.20      0.62931     5.0       0.560993"
            ]
          },
          "metadata": {
            "tags": []
          },
          "execution_count": 10
        }
      ]
    },
    {
      "cell_type": "markdown",
      "metadata": {
        "id": "S9HxZRuUpEcS",
        "colab_type": "text"
      },
      "source": [
        "# A: Network level characteristics\n",
        "    \n"
      ]
    },
    {
      "cell_type": "code",
      "metadata": {
        "id": "RqnipwiXgnT0",
        "colab_type": "code",
        "outputId": "84c07f31-68d7-4ac4-cb4b-a7c3dbd266cf",
        "colab": {
          "base_uri": "https://localhost:8080/",
          "height": 72
        }
      },
      "source": [
        "print(\"the average degree of centrality is \"+str(graph_G_df.degree.mean()))\n",
        "print(\"the average reciprocity is \"+str(nx.reciprocity(G)))\n",
        "print(\"the average transistivity is \"+str(nx.transitivity(G)))\n"
      ],
      "execution_count": 11,
      "outputs": [
        {
          "output_type": "stream",
          "text": [
            "the average degree of centrality is 1.1047619047619048\n",
            "the average reciprocity is 0.6293103448275862\n",
            "the average transistivity is 0.5609929078014184\n"
          ],
          "name": "stdout"
        }
      ]
    },
    {
      "cell_type": "markdown",
      "metadata": {
        "id": "oNcIfrtWwVI4",
        "colab_type": "text"
      },
      "source": [
        "Degree centrality of the total network doesn't make since, since there are three different notworks, so degree centrality for each of those networks is much more interesting."
      ]
    },
    {
      "cell_type": "code",
      "metadata": {
        "id": "6KUv7peN3EWb",
        "colab_type": "code",
        "outputId": "81610df0-bf71-404f-de9d-0dac057df0f6",
        "colab": {
          "base_uri": "https://localhost:8080/",
          "height": 35
        }
      },
      "source": [
        "#Are relationships like friendship and advice giving usually reciprocal?\n",
        "print('friendship reciprocity '+str(nx.reciprocity(F))+' '+'advice reciprocity '+str(nx.reciprocity(A)))\n"
      ],
      "execution_count": 12,
      "outputs": [
        {
          "output_type": "stream",
          "text": [
            "friendship reciprocity 0.45098039215686275 advice reciprocity 0.47368421052631576\n"
          ],
          "name": "stdout"
        }
      ]
    },
    {
      "cell_type": "code",
      "metadata": {
        "id": "neXInXR-4tfG",
        "colab_type": "code",
        "outputId": "f7fccb7d-4d07-4247-e4fb-79028858e239",
        "colab": {
          "base_uri": "https://localhost:8080/",
          "height": 35
        }
      },
      "source": [
        "#    Are friends of your friends also your friends?\n",
        "print('friendship transitivity '+str(nx.transitivity(F)))"
      ],
      "execution_count": 13,
      "outputs": [
        {
          "output_type": "stream",
          "text": [
            "friendship transitivity 0.27581863979848864\n"
          ],
          "name": "stdout"
        }
      ]
    },
    {
      "cell_type": "markdown",
      "metadata": {
        "id": "na4HvFQzw5cr",
        "colab_type": "text"
      },
      "source": [
        "Its is more likely that friends of your friends are not your friends."
      ]
    },
    {
      "cell_type": "code",
      "metadata": {
        "id": "RaMUUo7e6BR_",
        "colab_type": "code",
        "outputId": "738261d1-3186-4122-d421-c2010d5d7511",
        "colab": {
          "base_uri": "https://localhost:8080/",
          "height": 35
        }
      },
      "source": [
        "#Are the employees generally more likely to be in a friendship or advice-seeking relationship?\n",
        "print('friendship centrality '+str(graph_F_df.degree.mean())+' '+'advice centrality '+str(graph_A_df.degree.mean()))"
      ],
      "execution_count": 14,
      "outputs": [
        {
          "output_type": "stream",
          "text": [
            "friendship centrality 1.1047619047619053 advice centrality 1.1047619047619048\n"
          ],
          "name": "stdout"
        }
      ]
    },
    {
      "cell_type": "markdown",
      "metadata": {
        "id": "lsNDuiwApXUN",
        "colab_type": "text"
      },
      "source": [
        "#B: Node level characteristics\n",
        "\n",
        "    Who is most popular in the networks. Who is the most wanted friend, and advice giver?\n",
        "    \n",
        "    Are managers in higher hirarchy more popular as friend, and advice giver?\n"
      ]
    },
    {
      "cell_type": "code",
      "metadata": {
        "id": "SO9eiTx-hpvN",
        "colab_type": "code",
        "outputId": "92a02f15-d608-4377-939c-dd2d500e3659",
        "colab": {
          "base_uri": "https://localhost:8080/",
          "height": 206
        }
      },
      "source": [
        "#Who is most popular in the networks. Who is the most wanted friend, and advice giver?\n",
        "#Find most popular person to ask for advice using in-degree centrality\n",
        "graph_A_df.sort_values(by=['inner'], ascending=False).head()"
      ],
      "execution_count": 15,
      "outputs": [
        {
          "output_type": "execute_result",
          "data": {
            "text/html": [
              "<div>\n",
              "<style scoped>\n",
              "    .dataframe tbody tr th:only-of-type {\n",
              "        vertical-align: middle;\n",
              "    }\n",
              "\n",
              "    .dataframe tbody tr th {\n",
              "        vertical-align: top;\n",
              "    }\n",
              "\n",
              "    .dataframe thead th {\n",
              "        text-align: right;\n",
              "    }\n",
              "</style>\n",
              "<table border=\"1\" class=\"dataframe\">\n",
              "  <thead>\n",
              "    <tr style=\"text-align: right;\">\n",
              "      <th></th>\n",
              "      <th>age</th>\n",
              "      <th>degree</th>\n",
              "      <th>dept</th>\n",
              "      <th>inner</th>\n",
              "      <th>level</th>\n",
              "      <th>tenure</th>\n",
              "    </tr>\n",
              "  </thead>\n",
              "  <tbody>\n",
              "    <tr>\n",
              "      <th>2</th>\n",
              "      <td>42.0</td>\n",
              "      <td>1.2</td>\n",
              "      <td>4.0</td>\n",
              "      <td>0.90</td>\n",
              "      <td>2.0</td>\n",
              "      <td>20.0</td>\n",
              "    </tr>\n",
              "    <tr>\n",
              "      <th>18</th>\n",
              "      <td>33.0</td>\n",
              "      <td>1.7</td>\n",
              "      <td>3.0</td>\n",
              "      <td>0.75</td>\n",
              "      <td>2.0</td>\n",
              "      <td>9.0</td>\n",
              "    </tr>\n",
              "    <tr>\n",
              "      <th>21</th>\n",
              "      <td>36.0</td>\n",
              "      <td>1.3</td>\n",
              "      <td>1.0</td>\n",
              "      <td>0.75</td>\n",
              "      <td>2.0</td>\n",
              "      <td>12.0</td>\n",
              "    </tr>\n",
              "    <tr>\n",
              "      <th>1</th>\n",
              "      <td>33.0</td>\n",
              "      <td>1.1</td>\n",
              "      <td>4.0</td>\n",
              "      <td>0.65</td>\n",
              "      <td>3.0</td>\n",
              "      <td>9.0</td>\n",
              "    </tr>\n",
              "    <tr>\n",
              "      <th>7</th>\n",
              "      <td>55.0</td>\n",
              "      <td>1.1</td>\n",
              "      <td>0.0</td>\n",
              "      <td>0.65</td>\n",
              "      <td>1.0</td>\n",
              "      <td>30.0</td>\n",
              "    </tr>\n",
              "  </tbody>\n",
              "</table>\n",
              "</div>"
            ],
            "text/plain": [
              "     age  degree  dept  inner  level  tenure\n",
              "2   42.0     1.2   4.0   0.90    2.0    20.0\n",
              "18  33.0     1.7   3.0   0.75    2.0     9.0\n",
              "21  36.0     1.3   1.0   0.75    2.0    12.0\n",
              "1   33.0     1.1   4.0   0.65    3.0     9.0\n",
              "7   55.0     1.1   0.0   0.65    1.0    30.0"
            ]
          },
          "metadata": {
            "tags": []
          },
          "execution_count": 15
        }
      ]
    },
    {
      "cell_type": "code",
      "metadata": {
        "id": "qaE9dVWo_7i2",
        "colab_type": "code",
        "outputId": "be920318-b836-4bfc-d857-5ee552646213",
        "colab": {
          "base_uri": "https://localhost:8080/",
          "height": 206
        }
      },
      "source": [
        "graph_F_df.sort_values(by=['inner'], ascending=False).head()"
      ],
      "execution_count": 16,
      "outputs": [
        {
          "output_type": "execute_result",
          "data": {
            "text/html": [
              "<div>\n",
              "<style scoped>\n",
              "    .dataframe tbody tr th:only-of-type {\n",
              "        vertical-align: middle;\n",
              "    }\n",
              "\n",
              "    .dataframe tbody tr th {\n",
              "        vertical-align: top;\n",
              "    }\n",
              "\n",
              "    .dataframe thead th {\n",
              "        text-align: right;\n",
              "    }\n",
              "</style>\n",
              "<table border=\"1\" class=\"dataframe\">\n",
              "  <thead>\n",
              "    <tr style=\"text-align: right;\">\n",
              "      <th></th>\n",
              "      <th>age</th>\n",
              "      <th>degree</th>\n",
              "      <th>dept</th>\n",
              "      <th>inner</th>\n",
              "      <th>level</th>\n",
              "      <th>tenure</th>\n",
              "    </tr>\n",
              "  </thead>\n",
              "  <tbody>\n",
              "    <tr>\n",
              "      <th>2</th>\n",
              "      <td>42.0</td>\n",
              "      <td>1.20</td>\n",
              "      <td>4.0</td>\n",
              "      <td>0.5</td>\n",
              "      <td>2.0</td>\n",
              "      <td>20.0</td>\n",
              "    </tr>\n",
              "    <tr>\n",
              "      <th>1</th>\n",
              "      <td>33.0</td>\n",
              "      <td>1.10</td>\n",
              "      <td>4.0</td>\n",
              "      <td>0.4</td>\n",
              "      <td>3.0</td>\n",
              "      <td>9.0</td>\n",
              "    </tr>\n",
              "    <tr>\n",
              "      <th>12</th>\n",
              "      <td>34.0</td>\n",
              "      <td>0.90</td>\n",
              "      <td>1.0</td>\n",
              "      <td>0.4</td>\n",
              "      <td>3.0</td>\n",
              "      <td>9.0</td>\n",
              "    </tr>\n",
              "    <tr>\n",
              "      <th>11</th>\n",
              "      <td>46.0</td>\n",
              "      <td>1.35</td>\n",
              "      <td>3.0</td>\n",
              "      <td>0.3</td>\n",
              "      <td>3.0</td>\n",
              "      <td>27.0</td>\n",
              "    </tr>\n",
              "    <tr>\n",
              "      <th>9</th>\n",
              "      <td>62.0</td>\n",
              "      <td>1.10</td>\n",
              "      <td>2.0</td>\n",
              "      <td>0.3</td>\n",
              "      <td>3.0</td>\n",
              "      <td>5.0</td>\n",
              "    </tr>\n",
              "  </tbody>\n",
              "</table>\n",
              "</div>"
            ],
            "text/plain": [
              "     age  degree  dept  inner  level  tenure\n",
              "2   42.0    1.20   4.0    0.5    2.0    20.0\n",
              "1   33.0    1.10   4.0    0.4    3.0     9.0\n",
              "12  34.0    0.90   1.0    0.4    3.0     9.0\n",
              "11  46.0    1.35   3.0    0.3    3.0    27.0\n",
              "9   62.0    1.10   2.0    0.3    3.0     5.0"
            ]
          },
          "metadata": {
            "tags": []
          },
          "execution_count": 16
        }
      ]
    },
    {
      "cell_type": "code",
      "metadata": {
        "id": "GJ4nU_RTkbnD",
        "colab_type": "code",
        "outputId": "7f567682-5f68-45e0-9cf0-a7a24205827f",
        "colab": {
          "base_uri": "https://localhost:8080/",
          "height": 175
        }
      },
      "source": [
        "graph_A_df.groupby('level').mean()"
      ],
      "execution_count": 17,
      "outputs": [
        {
          "output_type": "execute_result",
          "data": {
            "text/html": [
              "<div>\n",
              "<style scoped>\n",
              "    .dataframe tbody tr th:only-of-type {\n",
              "        vertical-align: middle;\n",
              "    }\n",
              "\n",
              "    .dataframe tbody tr th {\n",
              "        vertical-align: top;\n",
              "    }\n",
              "\n",
              "    .dataframe thead th {\n",
              "        text-align: right;\n",
              "    }\n",
              "</style>\n",
              "<table border=\"1\" class=\"dataframe\">\n",
              "  <thead>\n",
              "    <tr style=\"text-align: right;\">\n",
              "      <th></th>\n",
              "      <th>age</th>\n",
              "      <th>degree</th>\n",
              "      <th>dept</th>\n",
              "      <th>inner</th>\n",
              "      <th>tenure</th>\n",
              "    </tr>\n",
              "    <tr>\n",
              "      <th>level</th>\n",
              "      <th></th>\n",
              "      <th></th>\n",
              "      <th></th>\n",
              "      <th></th>\n",
              "      <th></th>\n",
              "    </tr>\n",
              "  </thead>\n",
              "  <tbody>\n",
              "    <tr>\n",
              "      <th>1.0</th>\n",
              "      <td>55.0000</td>\n",
              "      <td>1.10000</td>\n",
              "      <td>0.00</td>\n",
              "      <td>0.650000</td>\n",
              "      <td>30.00</td>\n",
              "    </tr>\n",
              "    <tr>\n",
              "      <th>2.0</th>\n",
              "      <td>38.5000</td>\n",
              "      <td>1.25000</td>\n",
              "      <td>2.50</td>\n",
              "      <td>0.725000</td>\n",
              "      <td>12.75</td>\n",
              "    </tr>\n",
              "    <tr>\n",
              "      <th>3.0</th>\n",
              "      <td>39.0625</td>\n",
              "      <td>1.06875</td>\n",
              "      <td>2.25</td>\n",
              "      <td>0.371875</td>\n",
              "      <td>10.25</td>\n",
              "    </tr>\n",
              "  </tbody>\n",
              "</table>\n",
              "</div>"
            ],
            "text/plain": [
              "           age   degree  dept     inner  tenure\n",
              "level                                          \n",
              "1.0    55.0000  1.10000  0.00  0.650000   30.00\n",
              "2.0    38.5000  1.25000  2.50  0.725000   12.75\n",
              "3.0    39.0625  1.06875  2.25  0.371875   10.25"
            ]
          },
          "metadata": {
            "tags": []
          },
          "execution_count": 17
        }
      ]
    },
    {
      "cell_type": "code",
      "metadata": {
        "id": "CrysDnd2_-QO",
        "colab_type": "code",
        "outputId": "410b70a2-cda4-4205-f5a8-db17b234a114",
        "colab": {
          "base_uri": "https://localhost:8080/",
          "height": 175
        }
      },
      "source": [
        "graph_F_df.groupby('level').mean()"
      ],
      "execution_count": 18,
      "outputs": [
        {
          "output_type": "execute_result",
          "data": {
            "text/html": [
              "<div>\n",
              "<style scoped>\n",
              "    .dataframe tbody tr th:only-of-type {\n",
              "        vertical-align: middle;\n",
              "    }\n",
              "\n",
              "    .dataframe tbody tr th {\n",
              "        vertical-align: top;\n",
              "    }\n",
              "\n",
              "    .dataframe thead th {\n",
              "        text-align: right;\n",
              "    }\n",
              "</style>\n",
              "<table border=\"1\" class=\"dataframe\">\n",
              "  <thead>\n",
              "    <tr style=\"text-align: right;\">\n",
              "      <th></th>\n",
              "      <th>age</th>\n",
              "      <th>degree</th>\n",
              "      <th>dept</th>\n",
              "      <th>inner</th>\n",
              "      <th>tenure</th>\n",
              "    </tr>\n",
              "    <tr>\n",
              "      <th>level</th>\n",
              "      <th></th>\n",
              "      <th></th>\n",
              "      <th></th>\n",
              "      <th></th>\n",
              "      <th></th>\n",
              "    </tr>\n",
              "  </thead>\n",
              "  <tbody>\n",
              "    <tr>\n",
              "      <th>1.0</th>\n",
              "      <td>55.0000</td>\n",
              "      <td>1.10000</td>\n",
              "      <td>0.00</td>\n",
              "      <td>0.150000</td>\n",
              "      <td>30.00</td>\n",
              "    </tr>\n",
              "    <tr>\n",
              "      <th>2.0</th>\n",
              "      <td>38.5000</td>\n",
              "      <td>1.25000</td>\n",
              "      <td>2.50</td>\n",
              "      <td>0.300000</td>\n",
              "      <td>12.75</td>\n",
              "    </tr>\n",
              "    <tr>\n",
              "      <th>3.0</th>\n",
              "      <td>39.0625</td>\n",
              "      <td>1.06875</td>\n",
              "      <td>2.25</td>\n",
              "      <td>0.234375</td>\n",
              "      <td>10.25</td>\n",
              "    </tr>\n",
              "  </tbody>\n",
              "</table>\n",
              "</div>"
            ],
            "text/plain": [
              "           age   degree  dept     inner  tenure\n",
              "level                                          \n",
              "1.0    55.0000  1.10000  0.00  0.150000   30.00\n",
              "2.0    38.5000  1.25000  2.50  0.300000   12.75\n",
              "3.0    39.0625  1.06875  2.25  0.234375   10.25"
            ]
          },
          "metadata": {
            "tags": []
          },
          "execution_count": 18
        }
      ]
    },
    {
      "cell_type": "markdown",
      "metadata": {
        "id": "DEgyOkLSpqlR",
        "colab_type": "text"
      },
      "source": [
        "#C: Relational Characteristics\n",
        "\n",
        "    Are managers from the same 1. department, or on the same 2. hirarchy, 3. age, or 4. tenuere more likely to become friends or give advice? (hint: assortiativity related)\n",
        "    \n",
        "    Are friends more likely to give each others advice?\n"
      ]
    },
    {
      "cell_type": "code",
      "metadata": {
        "id": "f3Tho97Uk00J",
        "colab_type": "code",
        "outputId": "50a54fc5-95d2-4241-defb-65ad078c57a4",
        "colab": {
          "base_uri": "https://localhost:8080/",
          "height": 164
        }
      },
      "source": [
        "print('Advice dept '+str(nx.attribute_assortativity_coefficient(A,'dept')))\n",
        "print('Friendship dept '+str(nx.attribute_assortativity_coefficient(F,'dept')))\n",
        "print('Advice level '+str(nx.attribute_assortativity_coefficient(A,'level')))\n",
        "print('Friendship level '+str(nx.attribute_assortativity_coefficient(F,'level')))\n",
        "print('Advice age '+str(nx.attribute_assortativity_coefficient(A,'age')))\n",
        "print('Friendship age '+str(nx.attribute_assortativity_coefficient(F,'age')))\n",
        "print('Advice tenure '+str(nx.attribute_assortativity_coefficient(A,'tenure')))\n",
        "print('Friendship tenure '+str(nx.attribute_assortativity_coefficient(F,'tenure')))"
      ],
      "execution_count": 19,
      "outputs": [
        {
          "output_type": "stream",
          "text": [
            "Advice dept 0.02390296111309304\n",
            "Friendship dept 0.15908798145047023\n",
            "Advice level 0.008073817762398955\n",
            "Friendship level 0.18750000000000006\n",
            "Advice age -0.03149370125974804\n",
            "Friendship age -0.031914893617021274\n",
            "Advice tenure -0.0515842169086782\n",
            "Friendship tenure -0.06077348066298346\n"
          ],
          "name": "stdout"
        }
      ]
    },
    {
      "cell_type": "markdown",
      "metadata": {
        "id": "iF__MfPJHC-4",
        "colab_type": "text"
      },
      "source": [
        "Calculate correlation, for friendship centrality given Advice centrality"
      ]
    },
    {
      "cell_type": "markdown",
      "metadata": {
        "id": "Bc3pYKBOpyek",
        "colab_type": "text"
      },
      "source": [
        "#3. Aggregated Networks\n",
        "Reconstruct the advice and friendship network on the aggregated level of departments, where nodes represent departments and edges the number of cross departmental friendships/advice relationships."
      ]
    },
    {
      "cell_type": "code",
      "metadata": {
        "id": "7Nbq8Vui_Z7L",
        "colab_type": "code",
        "colab": {}
      },
      "source": [
        "#Creates a list of edges with departments as nodes, given that the edge is from different departments\n",
        "agg_F_edges=[(F.nodes[u]['dept'],F.nodes[v]['dept']) for (u,v) in F.edges if F.nodes[u]['dept']!=F.nodes[v]['dept']]"
      ],
      "execution_count": 0,
      "outputs": []
    },
    {
      "cell_type": "code",
      "metadata": {
        "id": "ENpFjz-Vo4al",
        "colab_type": "code",
        "colab": {
          "base_uri": "https://localhost:8080/",
          "height": 1000
        },
        "outputId": "87737ecd-ec9a-44b4-ae72-f90420e9ce74"
      },
      "source": [
        "agg_F_edges"
      ],
      "execution_count": 21,
      "outputs": [
        {
          "output_type": "execute_result",
          "data": {
            "text/plain": [
              "[(4, 1),\n",
              " (4, 1),\n",
              " (4, 3),\n",
              " (4, 1),\n",
              " (4, 1),\n",
              " (4, 1),\n",
              " (4, 1),\n",
              " (1, 4),\n",
              " (1, 4),\n",
              " (1, 4),\n",
              " (3, 4),\n",
              " (1, 4),\n",
              " (1, 3),\n",
              " (2, 0),\n",
              " (2, 4),\n",
              " (2, 4),\n",
              " (2, 3),\n",
              " (2, 1),\n",
              " (1, 4),\n",
              " (1, 4),\n",
              " (1, 2),\n",
              " (1, 4),\n",
              " (1, 2),\n",
              " (1, 0),\n",
              " (1, 2),\n",
              " (1, 3),\n",
              " (1, 3),\n",
              " (1, 2),\n",
              " (1, 2),\n",
              " (1, 4),\n",
              " (1, 2),\n",
              " (1, 2),\n",
              " (2, 4),\n",
              " (2, 3),\n",
              " (2, 1),\n",
              " (2, 1),\n",
              " (3, 4),\n",
              " (3, 4),\n",
              " (3, 2),\n",
              " (3, 4),\n",
              " (3, 2),\n",
              " (3, 1),\n",
              " (3, 2),\n",
              " (3, 1),\n",
              " (3, 2),\n",
              " (3, 2),\n",
              " (3, 1),\n",
              " (3, 2),\n",
              " (1, 4),\n",
              " (1, 0),\n",
              " (1, 2),\n",
              " (3, 2),\n",
              " (3, 2),\n",
              " (3, 1),\n",
              " (3, 2),\n",
              " (3, 1),\n",
              " (3, 4),\n",
              " (3, 2),\n",
              " (2, 3),\n",
              " (2, 3),\n",
              " (2, 3),\n",
              " (2, 4),\n",
              " (2, 1),\n",
              " (2, 3)]"
            ]
          },
          "metadata": {
            "tags": []
          },
          "execution_count": 21
        }
      ]
    },
    {
      "cell_type": "code",
      "metadata": {
        "id": "rwd7JXwnLrHD",
        "colab_type": "code",
        "colab": {}
      },
      "source": [
        "agg_A_edges=[(A.nodes[u]['dept'],A.nodes[v]['dept']) for (u,v) in A.edges if A.nodes[u]['dept']!=A.nodes[v]['dept']]"
      ],
      "execution_count": 0,
      "outputs": []
    },
    {
      "cell_type": "code",
      "metadata": {
        "id": "P_84q-QUo8yH",
        "colab_type": "code",
        "colab": {
          "base_uri": "https://localhost:8080/",
          "height": 1000
        },
        "outputId": "58771a88-988b-47e3-cddc-37cace9a54ed"
      },
      "source": [
        "agg_A_edges"
      ],
      "execution_count": 23,
      "outputs": [
        {
          "output_type": "execute_result",
          "data": {
            "text/plain": [
              "[(4, 1),\n",
              " (4, 3),\n",
              " (4, 1),\n",
              " (4, 1),\n",
              " (4, 0),\n",
              " (4, 1),\n",
              " (4, 1),\n",
              " (4, 1),\n",
              " (4, 3),\n",
              " (4, 3),\n",
              " (4, 1),\n",
              " (4, 1),\n",
              " (4, 3),\n",
              " (4, 2),\n",
              " (4, 1),\n",
              " (1, 4),\n",
              " (1, 4),\n",
              " (1, 0),\n",
              " (1, 3),\n",
              " (1, 3),\n",
              " (1, 3),\n",
              " (4, 3),\n",
              " (4, 3),\n",
              " (3, 4),\n",
              " (3, 4),\n",
              " (3, 2),\n",
              " (3, 4),\n",
              " (3, 2),\n",
              " (3, 0),\n",
              " (3, 1),\n",
              " (3, 2),\n",
              " (3, 2),\n",
              " (3, 2),\n",
              " (3, 2),\n",
              " (3, 4),\n",
              " (3, 2),\n",
              " (3, 2),\n",
              " (3, 1),\n",
              " (1, 4),\n",
              " (1, 2),\n",
              " (1, 4),\n",
              " (1, 0),\n",
              " (1, 2),\n",
              " (1, 3),\n",
              " (1, 2),\n",
              " (0, 4),\n",
              " (0, 1),\n",
              " (0, 3),\n",
              " (0, 1),\n",
              " (0, 2),\n",
              " (0, 1),\n",
              " (0, 3),\n",
              " (0, 1),\n",
              " (2, 4),\n",
              " (2, 4),\n",
              " (2, 4),\n",
              " (2, 1),\n",
              " (2, 0),\n",
              " (2, 1),\n",
              " (2, 3),\n",
              " (2, 3),\n",
              " (2, 1),\n",
              " (2, 1),\n",
              " (2, 3),\n",
              " (2, 1),\n",
              " (2, 4),\n",
              " (2, 4),\n",
              " (2, 1),\n",
              " (2, 0),\n",
              " (2, 1),\n",
              " (2, 3),\n",
              " (2, 3),\n",
              " (2, 1),\n",
              " (2, 4),\n",
              " (2, 1),\n",
              " (2, 3),\n",
              " (2, 1),\n",
              " (3, 4),\n",
              " (3, 4),\n",
              " (3, 2),\n",
              " (3, 4),\n",
              " (3, 2),\n",
              " (3, 1),\n",
              " (3, 2),\n",
              " (3, 2),\n",
              " (3, 4),\n",
              " (3, 1),\n",
              " (3, 2),\n",
              " (3, 2),\n",
              " (3, 4),\n",
              " (3, 4),\n",
              " (3, 0),\n",
              " (1, 0),\n",
              " (2, 4),\n",
              " (2, 0),\n",
              " (2, 3),\n",
              " (2, 1),\n",
              " (1, 4),\n",
              " (1, 4),\n",
              " (1, 4),\n",
              " (1, 0),\n",
              " (2, 4),\n",
              " (2, 4),\n",
              " (2, 1),\n",
              " (2, 1),\n",
              " (2, 3),\n",
              " (2, 1),\n",
              " (2, 4),\n",
              " (2, 1),\n",
              " (2, 3),\n",
              " (2, 1),\n",
              " (2, 4),\n",
              " (2, 4),\n",
              " (2, 1),\n",
              " (2, 0),\n",
              " (2, 1),\n",
              " (2, 3),\n",
              " (2, 3),\n",
              " (2, 4),\n",
              " (2, 1),\n",
              " (2, 3),\n",
              " (2, 1),\n",
              " (2, 4),\n",
              " (2, 4),\n",
              " (2, 3),\n",
              " (2, 4),\n",
              " (2, 4),\n",
              " (2, 0),\n",
              " (2, 3),\n",
              " (2, 3),\n",
              " (2, 3),\n",
              " (2, 4),\n",
              " (2, 4),\n",
              " (2, 4),\n",
              " (2, 1),\n",
              " (2, 0),\n",
              " (2, 1),\n",
              " (2, 3),\n",
              " (2, 3),\n",
              " (2, 1),\n",
              " (2, 4),\n",
              " (2, 1),\n",
              " (2, 3),\n",
              " (2, 1)]"
            ]
          },
          "metadata": {
            "tags": []
          },
          "execution_count": 23
        }
      ]
    },
    {
      "cell_type": "code",
      "metadata": {
        "id": "oAQlTa_AMXDj",
        "colab_type": "code",
        "colab": {}
      },
      "source": [
        "AggN = nx.MultiDiGraph()"
      ],
      "execution_count": 0,
      "outputs": []
    },
    {
      "cell_type": "code",
      "metadata": {
        "id": "I-N9WFU1RZBE",
        "colab_type": "code",
        "colab": {
          "base_uri": "https://localhost:8080/",
          "height": 35
        },
        "outputId": "e82dd0ee-4ab1-4321-da16-b42ca528f30f"
      },
      "source": [
        "AggN.add_edges_from(agg_A_edges)\n",
        "AggN.add_edges_from(agg_F_edges)\n",
        "AggN.nodes()\n",
        "\n"
      ],
      "execution_count": 25,
      "outputs": [
        {
          "output_type": "execute_result",
          "data": {
            "text/plain": [
              "NodeView((4, 1, 3, 0, 2))"
            ]
          },
          "metadata": {
            "tags": []
          },
          "execution_count": 25
        }
      ]
    },
    {
      "cell_type": "code",
      "metadata": {
        "id": "VQZrLObwybA5",
        "colab_type": "code",
        "colab": {
          "base_uri": "https://localhost:8080/",
          "height": 55
        },
        "outputId": "85c88341-46e7-4d2a-cc79-cefcecd42c41"
      },
      "source": [
        "AggN.edges()"
      ],
      "execution_count": 27,
      "outputs": [
        {
          "output_type": "execute_result",
          "data": {
            "text/plain": [
              "OutMultiEdgeDataView([(4, 1), (4, 1), (4, 1), (4, 1), (4, 1), (4, 1), (4, 1), (4, 1), (4, 1), (4, 1), (4, 1), (4, 1), (4, 1), (4, 1), (4, 1), (4, 3), (4, 3), (4, 3), (4, 3), (4, 3), (4, 3), (4, 3), (4, 0), (4, 2), (1, 4), (1, 4), (1, 4), (1, 4), (1, 4), (1, 4), (1, 4), (1, 4), (1, 4), (1, 4), (1, 4), (1, 4), (1, 4), (1, 4), (1, 4), (1, 4), (1, 0), (1, 0), (1, 0), (1, 0), (1, 0), (1, 0), (1, 3), (1, 3), (1, 3), (1, 3), (1, 3), (1, 3), (1, 3), (1, 2), (1, 2), (1, 2), (1, 2), (1, 2), (1, 2), (1, 2), (1, 2), (1, 2), (1, 2), (1, 2), (3, 4), (3, 4), (3, 4), (3, 4), (3, 4), (3, 4), (3, 4), (3, 4), (3, 4), (3, 4), (3, 4), (3, 4), (3, 4), (3, 4), (3, 4), (3, 2), (3, 2), (3, 2), (3, 2), (3, 2), (3, 2), (3, 2), (3, 2), (3, 2), (3, 2), (3, 2), (3, 2), (3, 2), (3, 2), (3, 2), (3, 2), (3, 2), (3, 2), (3, 2), (3, 2), (3, 2), (3, 2), (3, 2), (3, 2), (3, 0), (3, 0), (3, 1), (3, 1), (3, 1), (3, 1), (3, 1), (3, 1), (3, 1), (3, 1), (3, 1), (0, 4), (0, 1), (0, 1), (0, 1), (0, 1), (0, 3), (0, 3), (0, 2), (2, 4), (2, 4), (2, 4), (2, 4), (2, 4), (2, 4), (2, 4), (2, 4), (2, 4), (2, 4), (2, 4), (2, 4), (2, 4), (2, 4), (2, 4), (2, 4), (2, 4), (2, 4), (2, 4), (2, 4), (2, 4), (2, 4), (2, 4), (2, 4), (2, 4), (2, 1), (2, 1), (2, 1), (2, 1), (2, 1), (2, 1), (2, 1), (2, 1), (2, 1), (2, 1), (2, 1), (2, 1), (2, 1), (2, 1), (2, 1), (2, 1), (2, 1), (2, 1), (2, 1), (2, 1), (2, 1), (2, 1), (2, 1), (2, 1), (2, 1), (2, 1), (2, 1), (2, 1), (2, 1), (2, 0), (2, 0), (2, 0), (2, 0), (2, 0), (2, 0), (2, 0), (2, 3), (2, 3), (2, 3), (2, 3), (2, 3), (2, 3), (2, 3), (2, 3), (2, 3), (2, 3), (2, 3), (2, 3), (2, 3), (2, 3), (2, 3), (2, 3), (2, 3), (2, 3), (2, 3), (2, 3), (2, 3), (2, 3), (2, 3), (2, 3), (2, 3)])"
            ]
          },
          "metadata": {
            "tags": []
          },
          "execution_count": 27
        }
      ]
    },
    {
      "cell_type": "code",
      "metadata": {
        "id": "7p-U2q-7s_Sh",
        "colab_type": "code",
        "colab": {
          "base_uri": "https://localhost:8080/",
          "height": 319
        },
        "outputId": "a2c30339-06d2-4bdd-9a9b-94a8cc19e096"
      },
      "source": [
        "nx.draw(AggN, with_labels=True, node_size=1500, alpha=0.3, arrows=True)"
      ],
      "execution_count": 26,
      "outputs": [
        {
          "output_type": "display_data",
          "data": {
            "image/png": "[encoded data removed]",
            "text/plain": [
              "<Figure size 432x288 with 1 Axes>"
            ]
          },
          "metadata": {
            "tags": []
          }
        }
      ]
    }
  ]
}