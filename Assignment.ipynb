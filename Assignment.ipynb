{
  "nbformat": 4,
  "nbformat_minor": 0,
  "metadata": {
    "colab": {
      "name": "Assignment.ipynb",
      "version": "0.3.2",
      "provenance": [],
      "collapsed_sections": [
        "sEWYmb_BsAsL"
      ]
    },
    "kernelspec": {
      "name": "python3",
      "display_name": "Python 3"
    }
  },
  "cells": [
    {
      "cell_type": "markdown",
      "metadata": {
        "id": "f9oA1Wu-abz9",
        "colab_type": "text"
      },
      "source": [
        "# Pre-assignment preperation\n",
        "Here is the colab link: https://colab.research.google.com/drive/1WOaRWBfNtQ0SQpekLAuH1Xgqrfj94tEv\n"
      ]
    },
    {
      "cell_type": "markdown",
      "metadata": {
        "id": "EGbjhk4_xSnI",
        "colab_type": "text"
      },
      "source": [
        "Importing packages and importing cvs files. The csv files are noted df_ to show remind us that they are dataframes"
      ]
    },
    {
      "cell_type": "code",
      "metadata": {
        "id": "s9PEuqaBv9mM",
        "colab_type": "code",
        "colab": {}
      },
      "source": [
        "import pandas as pd\n",
        "import matplotlib.pyplot as plt\n",
        "import numpy as np"
      ],
      "execution_count": 0,
      "outputs": []
    },
    {
      "cell_type": "code",
      "metadata": {
        "id": "yC1oRIBBwsOm",
        "colab_type": "code",
        "colab": {}
      },
      "source": [
        "df_trips = pd.read_csv('https://github.com/SDS-AAU/M1-2019/raw/master/data/trips.csv')\n",
        "df_travelers = pd.read_csv('https://github.com/SDS-AAU/M1-2019/raw/master/data/people.csv')\n",
        "df_countrylist = pd.read_csv('https://github.com/SDS-AAU/M1-2019/raw/master/data/countrylist.csv')\n"
      ],
      "execution_count": 0,
      "outputs": []
    },
    {
      "cell_type": "markdown",
      "metadata": {
        "id": "k2bvLdIMbLeg",
        "colab_type": "text"
      },
      "source": [
        "\n",
        "# 1. Preprocessing\n",
        "**1a. Trips: transform dates into timestamps & \n",
        "1b.Calculate trip duration in days**\n"
      ]
    },
    {
      "cell_type": "markdown",
      "metadata": {
        "id": "grLDKOzEcLyr",
        "colab_type": "text"
      },
      "source": [
        "\n",
        "I use pd.to_data time to covert the data type of data_start & data_end to datetime from int. I specify the format, and coerce the errors to get it through.\n"
      ]
    },
    {
      "cell_type": "code",
      "metadata": {
        "id": "1Lqd_2upxdC-",
        "colab_type": "code",
        "outputId": "48aaf5b0-575a-4e27-d583-cf9754b772f2",
        "colab": {
          "base_uri": "https://localhost:8080/",
          "height": 348
        }
      },
      "source": [
        "df_trips['date_start'] = pd.to_datetime(df_trips['date_start'], format='%Y-%m-%d',errors='coerce')\n",
        "df_trips['date_end'] = pd.to_datetime(df_trips['date_end'], format='%Y-%m-%d',errors='coerce')\n",
        "df_trips['duration'] = df_trips['date_end'] - df_trips['date_start']\n",
        "print(df_trips.info())"
      ],
      "execution_count": 3,
      "outputs": [
        {
          "output_type": "stream",
          "text": [
            "<class 'pandas.core.frame.DataFrame'>\n",
            "RangeIndex: 46510 entries, 0 to 46509\n",
            "Data columns (total 12 columns):\n",
            "Unnamed: 0      46510 non-null int64\n",
            "username        46510 non-null object\n",
            "country         46473 non-null object\n",
            "country_code    45909 non-null object\n",
            "country_slug    46473 non-null object\n",
            "date_end        46285 non-null datetime64[ns]\n",
            "date_start      46493 non-null datetime64[ns]\n",
            "latitude        46510 non-null int64\n",
            "longitude       46510 non-null int64\n",
            "place           46510 non-null object\n",
            "place_slug      46473 non-null object\n",
            "duration        46275 non-null timedelta64[ns]\n",
            "dtypes: datetime64[ns](2), int64(3), object(6), timedelta64[ns](1)\n",
            "memory usage: 4.3+ MB\n",
            "None\n"
          ],
          "name": "stdout"
        }
      ]
    },
    {
      "cell_type": "markdown",
      "metadata": {
        "id": "fmXUNQyXcvZt",
        "colab_type": "text"
      },
      "source": [
        "**1c. Filter extreme (fake?) observations for durations as well as dates - start and end.**\n",
        "\n",
        "\n",
        "I clean the data frame by dropping rows with na in date_start & date_end\n",
        "\n",
        "I drop all observations where the trip duration is 0 days, since they do not fit the trip duration definition."
      ]
    },
    {
      "cell_type": "code",
      "metadata": {
        "id": "7nd2wBmS7Mib",
        "colab_type": "code",
        "outputId": "abcfac21-4ee9-4e0a-d608-1ea97b46d549",
        "colab": {
          "base_uri": "https://localhost:8080/",
          "height": 366
        }
      },
      "source": [
        "df_trips_clean1 = df_trips.dropna(subset=['date_start', 'date_end'])\n",
        "df_trips_clean1 = df_trips_clean1[df_trips['duration']!= '0 days']\n",
        "df_trips_clean1.info()\n"
      ],
      "execution_count": 4,
      "outputs": [
        {
          "output_type": "stream",
          "text": [
            "<class 'pandas.core.frame.DataFrame'>\n",
            "Int64Index: 44719 entries, 0 to 46509\n",
            "Data columns (total 12 columns):\n",
            "Unnamed: 0      44719 non-null int64\n",
            "username        44719 non-null object\n",
            "country         44686 non-null object\n",
            "country_code    44160 non-null object\n",
            "country_slug    44686 non-null object\n",
            "date_end        44719 non-null datetime64[ns]\n",
            "date_start      44719 non-null datetime64[ns]\n",
            "latitude        44719 non-null int64\n",
            "longitude       44719 non-null int64\n",
            "place           44719 non-null object\n",
            "place_slug      44686 non-null object\n",
            "duration        44719 non-null timedelta64[ns]\n",
            "dtypes: datetime64[ns](2), int64(3), object(6), timedelta64[ns](1)\n",
            "memory usage: 4.4+ MB\n"
          ],
          "name": "stdout"
        },
        {
          "output_type": "stream",
          "text": [
            "/usr/local/lib/python3.6/dist-packages/ipykernel_launcher.py:2: UserWarning: Boolean Series key will be reindexed to match DataFrame index.\n",
            "  \n"
          ],
          "name": "stderr"
        }
      ]
    },
    {
      "cell_type": "markdown",
      "metadata": {
        "id": "568ULMcFeHEj",
        "colab_type": "text"
      },
      "source": [
        "I creat a list 'outlier_duration' and use it to filter out outliers for duration. \n",
        "\n",
        "I filter out observations which data exede 2020 to remove posible date outliers"
      ]
    },
    {
      "cell_type": "code",
      "metadata": {
        "id": "rCAzd4gpFntG",
        "colab_type": "code",
        "colab": {}
      },
      "source": [
        "outlier_duration = np.percentile(df_trips_clean1.duration, [1, 97])\n",
        "df_trips_clean2 = df_trips_clean1[(df_trips_clean1.duration > outlier_duration[0]) & (df_trips_clean1.duration < outlier_duration[1])]\n",
        "df_trips_clean2 = df_trips_clean2[(df_trips_clean2.date_start < '01-01-2020')]\n"
      ],
      "execution_count": 0,
      "outputs": []
    },
    {
      "cell_type": "code",
      "metadata": {
        "id": "zxrdMeLgJv1A",
        "colab_type": "code",
        "outputId": "23d01b8c-4859-45ac-e612-287b068a3060",
        "colab": {
          "base_uri": "https://localhost:8080/",
          "height": 269
        }
      },
      "source": [
        "df_trips_clean2.date_start.plot()\n",
        "plt.show()"
      ],
      "execution_count": 6,
      "outputs": [
        {
          "output_type": "display_data",
          "data": {
            "image/png": "[encoded data removed]",
            "text/plain": [
              "<Figure size 432x288 with 1 Axes>"
            ]
          },
          "metadata": {
            "tags": []
          }
        }
      ]
    },
    {
      "cell_type": "markdown",
      "metadata": {
        "id": "BXk-S3rse-bH",
        "colab_type": "text"
      },
      "source": [
        "**1d. Join the countrylist data to the trips data-frame using the countrycode as a key &**\n",
        "\n",
        "**1e. Set DateTime index as the start date of a trip**\n",
        "\n",
        "d: I left-join countrylist and trips_clean into a new dataframe df_data using pd.merge\n",
        "I rename 'alpha_2' to country_code, so when i join them using the column countrycode them combinde into one columb.\n",
        "\n",
        "e: I set date_start as the index for df_data using the \".set_index method\", and then sort the data via the \".sort_values\" method."
      ]
    },
    {
      "cell_type": "code",
      "metadata": {
        "id": "PoxAxhtDRBkw",
        "colab_type": "code",
        "outputId": "03ed3880-3a0f-4e2e-d692-7d1ebe024cdd",
        "colab": {
          "base_uri": "https://localhost:8080/",
          "height": 377
        }
      },
      "source": [
        "\n",
        "df_countrylist1 = df_countrylist.rename(columns={'alpha_2':'country_code'})\n",
        "df_data=pd.merge(df_trips_clean2, df_countrylist1, how='left', left_on='country_code', right_on='country_code')\n",
        "df_data=df_data.set_index('date_start')\n",
        "df_data=df_data.sort_values('date_start')\n",
        "df_data.head()"
      ],
      "execution_count": 7,
      "outputs": [
        {
          "output_type": "execute_result",
          "data": {
            "text/html": [
              "<div>\n",
              "<style scoped>\n",
              "    .dataframe tbody tr th:only-of-type {\n",
              "        vertical-align: middle;\n",
              "    }\n",
              "\n",
              "    .dataframe tbody tr th {\n",
              "        vertical-align: top;\n",
              "    }\n",
              "\n",
              "    .dataframe thead th {\n",
              "        text-align: right;\n",
              "    }\n",
              "</style>\n",
              "<table border=\"1\" class=\"dataframe\">\n",
              "  <thead>\n",
              "    <tr style=\"text-align: right;\">\n",
              "      <th></th>\n",
              "      <th>Unnamed: 0</th>\n",
              "      <th>username</th>\n",
              "      <th>country</th>\n",
              "      <th>country_code</th>\n",
              "      <th>country_slug</th>\n",
              "      <th>date_end</th>\n",
              "      <th>latitude</th>\n",
              "      <th>longitude</th>\n",
              "      <th>place</th>\n",
              "      <th>place_slug</th>\n",
              "      <th>duration</th>\n",
              "      <th>region</th>\n",
              "      <th>sub_region</th>\n",
              "    </tr>\n",
              "    <tr>\n",
              "      <th>date_start</th>\n",
              "      <th></th>\n",
              "      <th></th>\n",
              "      <th></th>\n",
              "      <th></th>\n",
              "      <th></th>\n",
              "      <th></th>\n",
              "      <th></th>\n",
              "      <th></th>\n",
              "      <th></th>\n",
              "      <th></th>\n",
              "      <th></th>\n",
              "      <th></th>\n",
              "      <th></th>\n",
              "    </tr>\n",
              "  </thead>\n",
              "  <tbody>\n",
              "    <tr>\n",
              "      <th>1979-07-02</th>\n",
              "      <td>40967</td>\n",
              "      <td>@allan</td>\n",
              "      <td>United States</td>\n",
              "      <td>US</td>\n",
              "      <td>united-states</td>\n",
              "      <td>1979-07-05</td>\n",
              "      <td>42</td>\n",
              "      <td>-78</td>\n",
              "      <td>Buffalo</td>\n",
              "      <td>buffalo-ny-united-states</td>\n",
              "      <td>3 days</td>\n",
              "      <td>Americas</td>\n",
              "      <td>Northern America</td>\n",
              "    </tr>\n",
              "    <tr>\n",
              "      <th>1981-07-12</th>\n",
              "      <td>40965</td>\n",
              "      <td>@allan</td>\n",
              "      <td>United States</td>\n",
              "      <td>US</td>\n",
              "      <td>united-states</td>\n",
              "      <td>1981-07-26</td>\n",
              "      <td>25</td>\n",
              "      <td>-80</td>\n",
              "      <td>Miami</td>\n",
              "      <td>miami-fl-united-states</td>\n",
              "      <td>14 days</td>\n",
              "      <td>Americas</td>\n",
              "      <td>Northern America</td>\n",
              "    </tr>\n",
              "    <tr>\n",
              "      <th>1981-07-26</th>\n",
              "      <td>40964</td>\n",
              "      <td>@allan</td>\n",
              "      <td>Canada</td>\n",
              "      <td>CA</td>\n",
              "      <td>canada</td>\n",
              "      <td>1981-12-12</td>\n",
              "      <td>51</td>\n",
              "      <td>-85</td>\n",
              "      <td>Ontario</td>\n",
              "      <td>canada</td>\n",
              "      <td>139 days</td>\n",
              "      <td>Americas</td>\n",
              "      <td>Northern America</td>\n",
              "    </tr>\n",
              "    <tr>\n",
              "      <th>1981-12-12</th>\n",
              "      <td>40963</td>\n",
              "      <td>@allan</td>\n",
              "      <td>Denmark</td>\n",
              "      <td>DK</td>\n",
              "      <td>denmark</td>\n",
              "      <td>1982-01-08</td>\n",
              "      <td>55</td>\n",
              "      <td>9</td>\n",
              "      <td>Hedensted</td>\n",
              "      <td>denmark</td>\n",
              "      <td>27 days</td>\n",
              "      <td>Europe</td>\n",
              "      <td>Northern Europe</td>\n",
              "    </tr>\n",
              "    <tr>\n",
              "      <th>1983-12-12</th>\n",
              "      <td>40961</td>\n",
              "      <td>@allan</td>\n",
              "      <td>Colombia</td>\n",
              "      <td>CO</td>\n",
              "      <td>colombia</td>\n",
              "      <td>1984-01-08</td>\n",
              "      <td>4</td>\n",
              "      <td>-74</td>\n",
              "      <td>Bogota</td>\n",
              "      <td>bogota-colombia</td>\n",
              "      <td>27 days</td>\n",
              "      <td>Americas</td>\n",
              "      <td>Latin America and the Caribbean</td>\n",
              "    </tr>\n",
              "  </tbody>\n",
              "</table>\n",
              "</div>"
            ],
            "text/plain": [
              "            Unnamed: 0 username  ...    region                       sub_region\n",
              "date_start                       ...                                           \n",
              "1979-07-02       40967   @allan  ...  Americas                 Northern America\n",
              "1981-07-12       40965   @allan  ...  Americas                 Northern America\n",
              "1981-07-26       40964   @allan  ...  Americas                 Northern America\n",
              "1981-12-12       40963   @allan  ...    Europe                  Northern Europe\n",
              "1983-12-12       40961   @allan  ...  Americas  Latin America and the Caribbean\n",
              "\n",
              "[5 rows x 13 columns]"
            ]
          },
          "metadata": {
            "tags": []
          },
          "execution_count": 7
        }
      ]
    },
    {
      "cell_type": "markdown",
      "metadata": {
        "id": "jFXlsSdYfxQf",
        "colab_type": "text"
      },
      "source": [
        "# 2. People\n",
        "**2a. How many people have at least a “High School” diploma?**"
      ]
    },
    {
      "cell_type": "markdown",
      "metadata": {
        "id": "lwrN_Xh3hFBt",
        "colab_type": "text"
      },
      "source": [
        "I use the .str.contains method to finde the rows the contain High School.\n",
        "the output of this is a bunch of true and false rows. I then sum those rows which gives me the number of true rows since true has the value 1 and false has the value 0"
      ]
    },
    {
      "cell_type": "code",
      "metadata": {
        "id": "0hBGq54afQYi",
        "colab_type": "code",
        "outputId": "2b446589-54a9-498a-843e-da6cc9faf7f8",
        "colab": {
          "base_uri": "https://localhost:8080/",
          "height": 35
        }
      },
      "source": [
        "df_travelers['education_raw'].str.contains('High School').sum()"
      ],
      "execution_count": 8,
      "outputs": [
        {
          "output_type": "execute_result",
          "data": {
            "text/plain": [
              "130"
            ]
          },
          "metadata": {
            "tags": []
          },
          "execution_count": 8
        }
      ]
    },
    {
      "cell_type": "markdown",
      "metadata": {
        "id": "i7IvzXmEhtsz",
        "colab_type": "text"
      },
      "source": [
        "**2b. How many people working with “Software Dev” have a “Master's Degree”?**\n",
        "\n",
        "I use the .str.contrains method ands save the result to software.\n",
        "\n",
        "The \"&\"\" makes is so that False&False = False, True&False = False, True&True = True"
      ]
    },
    {
      "cell_type": "code",
      "metadata": {
        "id": "m4J83JvYg_rC",
        "colab_type": "code",
        "outputId": "51f5121e-7d84-4194-8611-1587c43ea7e8",
        "colab": {
          "base_uri": "https://localhost:8080/",
          "height": 72
        }
      },
      "source": [
        "software = df_travelers['work_raw'].str.contains('Software Dev') & df_travelers['education_raw'].str.contains(\"Master's Degree\")\n",
        "print(software.sum())\n",
        "print(df_travelers['education_raw'].str.contains(\"Master's Degree\").sum())\n",
        "print(df_travelers['work_raw'].str.contains('Software Dev').sum())"
      ],
      "execution_count": 9,
      "outputs": [
        {
          "output_type": "stream",
          "text": [
            "57\n",
            "153\n",
            "381\n"
          ],
          "name": "stdout"
        }
      ]
    },
    {
      "cell_type": "markdown",
      "metadata": {
        "id": "4lpNdWaBihoF",
        "colab_type": "text"
      },
      "source": [
        "**2c. Who is the person with a Master's Degree that has the highest number of followers?**\n",
        "\n",
        "I creat a data frame containing where .str.contains Master's Degree == True\n",
        "\n",
        "I then sort by followers to find the most followed person with as Master's"
      ]
    },
    {
      "cell_type": "code",
      "metadata": {
        "id": "cOQhew8FkyVP",
        "colab_type": "code",
        "outputId": "abb5a790-7b64-4b46-eef3-f73e3fa41139",
        "colab": {
          "base_uri": "https://localhost:8080/",
          "height": 206
        }
      },
      "source": [
        "df_edu = df_travelers[df_travelers['education_raw'].str.contains(\"Master's Degree\") > 0]\n",
        "df_edu.sort_values('followers').tail()\n"
      ],
      "execution_count": 10,
      "outputs": [
        {
          "output_type": "execute_result",
          "data": {
            "text/html": [
              "<div>\n",
              "<style scoped>\n",
              "    .dataframe tbody tr th:only-of-type {\n",
              "        vertical-align: middle;\n",
              "    }\n",
              "\n",
              "    .dataframe tbody tr th {\n",
              "        vertical-align: top;\n",
              "    }\n",
              "\n",
              "    .dataframe thead th {\n",
              "        text-align: right;\n",
              "    }\n",
              "</style>\n",
              "<table border=\"1\" class=\"dataframe\">\n",
              "  <thead>\n",
              "    <tr style=\"text-align: right;\">\n",
              "      <th></th>\n",
              "      <th>Unnamed: 0</th>\n",
              "      <th>username</th>\n",
              "      <th>followers</th>\n",
              "      <th>following</th>\n",
              "      <th>work_raw</th>\n",
              "      <th>education_raw</th>\n",
              "    </tr>\n",
              "  </thead>\n",
              "  <tbody>\n",
              "    <tr>\n",
              "      <th>3036</th>\n",
              "      <td>3036</td>\n",
              "      <td>@html5cat</td>\n",
              "      <td>32</td>\n",
              "      <td>18</td>\n",
              "      <td>Software Dev, Mobile Dev, Startup Founder, Pro...</td>\n",
              "      <td>Master's Degree</td>\n",
              "    </tr>\n",
              "    <tr>\n",
              "      <th>609</th>\n",
              "      <td>609</td>\n",
              "      <td>@zackllnyoung</td>\n",
              "      <td>60</td>\n",
              "      <td>92</td>\n",
              "      <td>Startup Founder, Blogging, Coach, Marketing</td>\n",
              "      <td>High School, Bachelor's Degree, Master's Degree</td>\n",
              "    </tr>\n",
              "    <tr>\n",
              "      <th>1949</th>\n",
              "      <td>1949</td>\n",
              "      <td>@neosilky</td>\n",
              "      <td>102</td>\n",
              "      <td>6</td>\n",
              "      <td>Web Dev, Software Dev</td>\n",
              "      <td>High School, Bachelor's Degree, Master's Degree</td>\n",
              "    </tr>\n",
              "    <tr>\n",
              "      <th>1298</th>\n",
              "      <td>1298</td>\n",
              "      <td>@aaz</td>\n",
              "      <td>259</td>\n",
              "      <td>46</td>\n",
              "      <td>Web Dev, Software Dev, Startup Founder, Bloggi...</td>\n",
              "      <td>High School, Bachelor's Degree, Master's Degree</td>\n",
              "    </tr>\n",
              "    <tr>\n",
              "      <th>2043</th>\n",
              "      <td>2043</td>\n",
              "      <td>@levelsio</td>\n",
              "      <td>2182</td>\n",
              "      <td>353</td>\n",
              "      <td>Software Dev, Startup Founder, Creative</td>\n",
              "      <td>High School, Bachelor's Degree, Master's Degree</td>\n",
              "    </tr>\n",
              "  </tbody>\n",
              "</table>\n",
              "</div>"
            ],
            "text/plain": [
              "      Unnamed: 0  ...                                    education_raw\n",
              "3036        3036  ...                                  Master's Degree\n",
              "609          609  ...  High School, Bachelor's Degree, Master's Degree\n",
              "1949        1949  ...  High School, Bachelor's Degree, Master's Degree\n",
              "1298        1298  ...  High School, Bachelor's Degree, Master's Degree\n",
              "2043        2043  ...  High School, Bachelor's Degree, Master's Degree\n",
              "\n",
              "[5 rows x 6 columns]"
            ]
          },
          "metadata": {
            "tags": []
          },
          "execution_count": 10
        }
      ]
    },
    {
      "cell_type": "markdown",
      "metadata": {
        "id": "NxAmvt3hjbfw",
        "colab_type": "text"
      },
      "source": [
        "# 3. Trips\n",
        "\n",
        "**3a. Which country received the highest number of trips?**"
      ]
    },
    {
      "cell_type": "markdown",
      "metadata": {
        "id": "OuMVMh0djrnA",
        "colab_type": "text"
      },
      "source": [
        "I use the \".value_counts\" method on the coloumn 'country' to finde the unique value which has the most entries and there the most amount of trips"
      ]
    },
    {
      "cell_type": "code",
      "metadata": {
        "id": "w6yv387aq30F",
        "colab_type": "code",
        "outputId": "95c9ed00-a774-4fef-d543-689fd613eed8",
        "colab": {
          "base_uri": "https://localhost:8080/",
          "height": 1000
        }
      },
      "source": [
        "df_data['country'].value_counts()"
      ],
      "execution_count": 11,
      "outputs": [
        {
          "output_type": "execute_result",
          "data": {
            "text/plain": [
              "United States                       6971\n",
              "Thailand                            3278\n",
              "United Kingdom                      2055\n",
              "Spain                               1876\n",
              "Germany                             1815\n",
              "France                              1391\n",
              "Indonesia                           1303\n",
              "China                               1066\n",
              "Italy                               1043\n",
              "Netherlands                          989\n",
              "Japan                                972\n",
              "Canada                               959\n",
              "Vietnam                              941\n",
              "Australia                            915\n",
              "Malaysia                             863\n",
              "Mexico                               859\n",
              "Portugal                             805\n",
              "India                                647\n",
              "Brazil                               557\n",
              "Singapore                            516\n",
              "Colombia                             507\n",
              "Russia                               467\n",
              "Hungary                              453\n",
              "New Zealand                          441\n",
              "Poland                               413\n",
              "Austria                              412\n",
              "Greece                               394\n",
              "Croatia                              376\n",
              "Cambodia                             362\n",
              "Taiwan                               360\n",
              "                                    ... \n",
              "Nicosia                                1\n",
              "Lake Titicaca                          1\n",
              "Bethlehem                              1\n",
              "AB30                                   1\n",
              "Algeria                                1\n",
              "East Timor                             1\n",
              "Åland Islands                          1\n",
              "Saint Kitts and Nevis                  1\n",
              "Yemen                                  1\n",
              "Iguazu Falls                           1\n",
              "EX17                                   1\n",
              "Bab al-Mandab Strait                   1\n",
              "AD100                                  1\n",
              "847 00                                 1\n",
              "Andaman Sea                            1\n",
              "Cocos (Keeling) Islands                1\n",
              "Saint Barthélemy                       1\n",
              "Pristina District                      1\n",
              "New Caledonia                          1\n",
              "Palau                                  1\n",
              "South Sudan                            1\n",
              "630 72                                 1\n",
              "Leh                                    1\n",
              "Samoa                                  1\n",
              "Saint Vincent and the Grenadines       1\n",
              "671 03                                 1\n",
              "Patagonia                              1\n",
              "Guinea                                 1\n",
              "Spania                                 1\n",
              "Prizren District                       1\n",
              "Name: country, Length: 242, dtype: int64"
            ]
          },
          "metadata": {
            "tags": []
          },
          "execution_count": 11
        }
      ]
    },
    {
      "cell_type": "markdown",
      "metadata": {
        "id": "qtJUNDuokJh6",
        "colab_type": "text"
      },
      "source": [
        "**3b. Which country received the highest number of trips in 2017?**\n",
        "\n",
        "I use the .loc method to select all enteries in 2017 and store them in a new data frame. This is posible since the original dataframe has a time datatype as it's index.\n",
        "\n",
        "Then I use a .value_counts() method again"
      ]
    },
    {
      "cell_type": "code",
      "metadata": {
        "id": "EYShY5GNuV29",
        "colab_type": "code",
        "outputId": "bdde5280-e632-495e-f643-6c5c6c08a093",
        "colab": {
          "base_uri": "https://localhost:8080/",
          "height": 1000
        }
      },
      "source": [
        "df2017 = df_data.loc['2017']\n",
        "df2017['country'].value_counts()"
      ],
      "execution_count": 12,
      "outputs": [
        {
          "output_type": "execute_result",
          "data": {
            "text/plain": [
              "United States                       1824\n",
              "Thailand                             894\n",
              "United Kingdom                       612\n",
              "Spain                                598\n",
              "Germany                              456\n",
              "France                               391\n",
              "Indonesia                            375\n",
              "Vietnam                              357\n",
              "Mexico                               316\n",
              "Portugal                             305\n",
              "Italy                                299\n",
              "Netherlands                          293\n",
              "Malaysia                             287\n",
              "Australia                            246\n",
              "Japan                                241\n",
              "Canada                               239\n",
              "China                                223\n",
              "Colombia                             192\n",
              "Brazil                               169\n",
              "India                                169\n",
              "Singapore                            153\n",
              "Russia                               147\n",
              "Hungary                              139\n",
              "New Zealand                          137\n",
              "Poland                               127\n",
              "Taiwan                               127\n",
              "Greece                               115\n",
              "Sweden                               112\n",
              "Austria                              111\n",
              "Croatia                              111\n",
              "                                    ... \n",
              "Lesotho                                1\n",
              "Namibia                                1\n",
              "Saint Vincent and the Grenadines       1\n",
              "Curaçao                                1\n",
              "Macedonia                              1\n",
              "Saint Lucia                            1\n",
              "New Caledonia                          1\n",
              "Angola                                 1\n",
              "Red Sea                                1\n",
              "Guadeloupe                             1\n",
              "Bosnia-Herzegovina                     1\n",
              "Prishtina                              1\n",
              "Botswana                               1\n",
              "Solomon Islands                        1\n",
              "Seychelles                             1\n",
              "Crimea                                 1\n",
              "Patagonia                              1\n",
              "Senegal                                1\n",
              "Uganda                                 1\n",
              "Cook Islands                           1\n",
              "Rwanda                                 1\n",
              "Trinidad and Tobago                    1\n",
              "Guernsey                               1\n",
              "Tonga                                  1\n",
              "Swaziland                              1\n",
              "Iguazu Falls                           1\n",
              "Lake Titicaca                          1\n",
              "Bermuda                                1\n",
              "British Virgin Islands                 1\n",
              "Pakistan                               1\n",
              "Name: country, Length: 165, dtype: int64"
            ]
          },
          "metadata": {
            "tags": []
          },
          "execution_count": 12
        }
      ]
    },
    {
      "cell_type": "markdown",
      "metadata": {
        "id": "gbaKsdQTlFqm",
        "colab_type": "text"
      },
      "source": [
        "**3c. Which is the country in 'Eastern Asia' where travellers spent on average least time when\n",
        "going there?**\n",
        "\n",
        "I create new dataframe where the boonleen argument is true.\n",
        "\n",
        "Then I group the observations by country and find thier duration mean.\n",
        "\n",
        "I use parse numeric_only=False as an argument into my .mean method to since durations is the Timedelta data type.\n",
        "\n",
        "Finally i plot the data using a bar-chart"
      ]
    },
    {
      "cell_type": "code",
      "metadata": {
        "id": "rc5kix96wm7O",
        "colab_type": "code",
        "colab": {}
      },
      "source": [
        "df_east = df_data[df_data['sub_region']=='Eastern Asia']"
      ],
      "execution_count": 0,
      "outputs": []
    },
    {
      "cell_type": "code",
      "metadata": {
        "id": "DH8TaCvEyWYP",
        "colab_type": "code",
        "outputId": "5152a0e6-72bb-47fb-bb69-45379935438a",
        "colab": {
          "base_uri": "https://localhost:8080/",
          "height": 416
        }
      },
      "source": [
        "df_east.groupby('country').duration.mean(numeric_only=False).sort_values(ascending=False).plot(kind='bar')\n"
      ],
      "execution_count": 14,
      "outputs": [
        {
          "output_type": "stream",
          "text": [
            "/usr/local/lib/python3.6/dist-packages/pandas/plotting/_core.py:223: FutureWarning: Passing integers to fillna is deprecated, will raise a TypeError in a future version.  To retain the old behavior, pass pd.Timedelta(seconds=n) instead.\n",
            "  data = data.fillna(fillna)\n"
          ],
          "name": "stderr"
        },
        {
          "output_type": "execute_result",
          "data": {
            "text/plain": [
              "<matplotlib.axes._subplots.AxesSubplot at 0x7f82775b78d0>"
            ]
          },
          "metadata": {
            "tags": []
          },
          "execution_count": 14
        },
        {
          "output_type": "display_data",
          "data": {
            "image/png": "[encoded data removed]",
            "text/plain": [
              "<Figure size 432x288 with 1 Axes>"
            ]
          },
          "metadata": {
            "tags": []
          }
        }
      ]
    },
    {
      "cell_type": "markdown",
      "metadata": {
        "id": "KCzUpvbsmSjp",
        "colab_type": "text"
      },
      "source": [
        "**3d. Do nomads that indicate working in “Software Dev” tend to have shorter or longer trips on\n",
        "average?**\n",
        "\n",
        "First I left join the data using pd.merge\n",
        "\n",
        "Then I create two dataframes where containing software devs and people who are not software devs, and take the mean of each group"
      ]
    },
    {
      "cell_type": "code",
      "metadata": {
        "id": "YVOYiWgi8eVa",
        "colab_type": "code",
        "colab": {}
      },
      "source": [
        "df_data2=pd.merge(df_data, df_travelers, how='left', left_on='username', right_on='username')"
      ],
      "execution_count": 0,
      "outputs": []
    },
    {
      "cell_type": "code",
      "metadata": {
        "id": "a8Lchh9J9HM7",
        "colab_type": "code",
        "outputId": "20589f03-2edc-4e6f-edb5-01e4815da4f6",
        "colab": {
          "base_uri": "https://localhost:8080/",
          "height": 54
        }
      },
      "source": [
        "df_soft = df_data2[df_data2['work_raw'].str.contains(\"Software Dev\") > 0]\n",
        "df_nsoft = df_data2[df_data2['work_raw'].str.contains(\"Software Dev\") == 0]\n",
        "print(df_nsoft.duration.mean(numeric_only=False))\n",
        "print(df_soft.duration.mean(numeric_only=False))"
      ],
      "execution_count": 16,
      "outputs": [
        {
          "output_type": "stream",
          "text": [
            "18 days 07:40:27.256678\n",
            "16 days 23:08:08.642659\n"
          ],
          "name": "stdout"
        }
      ]
    },
    {
      "cell_type": "markdown",
      "metadata": {
        "id": "w23QsAExnPwh",
        "colab_type": "text"
      },
      "source": [
        "# 3d. The part I have been stuck on the past many days\n",
        "**Visualize over-time median trip duration overall**"
      ]
    },
    {
      "cell_type": "markdown",
      "metadata": {
        "id": "9XI-37Z8nzmN",
        "colab_type": "text"
      },
      "source": [
        "I use the groupby function to group by week and plot the median duration over time.\n",
        "\n",
        "The problems accure one i try see this subset with by country"
      ]
    },
    {
      "cell_type": "code",
      "metadata": {
        "id": "_GuAtdOuaEKF",
        "colab_type": "code",
        "outputId": "bcceb6b3-d4d6-4eeb-ecc2-3641fb12b348",
        "colab": {
          "base_uri": "https://localhost:8080/",
          "height": 295
        }
      },
      "source": [
        "median_time=df_data.groupby(df_data.index.week)['duration'].median(numeric_only=False)\n",
        "plt.plot(median_time,)\n",
        "plt.xlabel('Time in weeks')\n",
        "plt.ylabel('Median trip duration')\n",
        "plt.title('Median trip duration over time')\n",
        "plt.show()"
      ],
      "execution_count": 17,
      "outputs": [
        {
          "output_type": "display_data",
          "data": {
            "image/png": "[encoded data removed]",
            "text/plain": [
              "<Figure size 432x288 with 1 Axes>"
            ]
          },
          "metadata": {
            "tags": []
          }
        }
      ]
    },
    {
      "cell_type": "markdown",
      "metadata": {
        "id": "sEWYmb_BsAsL",
        "colab_type": "text"
      },
      "source": [
        "# The broken part\n",
        "Here is the code i was experimenting with to try to subset by country and take the median duration\n",
        "\n",
        "The piece of code below doesn't resample duration since its in the Timedalta datatype"
      ]
    },
    {
      "cell_type": "code",
      "metadata": {
        "id": "keC5d2U_OQrW",
        "colab_type": "code",
        "outputId": "76e8c79b-0dd5-4725-9661-ba8a4a12ae17",
        "colab": {
          "base_uri": "https://localhost:8080/",
          "height": 357
        }
      },
      "source": [
        "test = df_data.groupby('country').resample('1w', fill_method='bfill', how='median')\n",
        "test.plot()"
      ],
      "execution_count": 18,
      "outputs": [
        {
          "output_type": "stream",
          "text": [
            "/usr/local/lib/python3.6/dist-packages/pandas/core/groupby/groupby.py:1436: FutureWarning: fill_method is deprecated to .resample()\n",
            "the new syntax is .resample(...).median().bfill()\n",
            "  return get_resampler_for_grouping(self, rule, *args, **kwargs)\n"
          ],
          "name": "stderr"
        },
        {
          "output_type": "execute_result",
          "data": {
            "text/plain": [
              "<matplotlib.axes._subplots.AxesSubplot at 0x7f827741c128>"
            ]
          },
          "metadata": {
            "tags": []
          },
          "execution_count": 18
        },
        {
          "output_type": "display_data",
          "data": {
            "image/png": "[encoded data removed]",
            "text/plain": [
              "<Figure size 432x288 with 1 Axes>"
            ]
          },
          "metadata": {
            "tags": []
          }
        }
      ]
    },
    {
      "cell_type": "markdown",
      "metadata": {
        "id": "qb7dH-C8sbwl",
        "colab_type": "text"
      },
      "source": [
        "Grouping by multiple factors doesn't work either"
      ]
    },
    {
      "cell_type": "code",
      "metadata": {
        "id": "V8pJg8qmSUyU",
        "colab_type": "code",
        "colab": {
          "base_uri": "https://localhost:8080/",
          "height": 325
        },
        "outputId": "c6f365d7-bcfc-465d-aaf3-7090106d0da1"
      },
      "source": [
        "df_data2.groupby('country',df_data.index.week)['duration'].median(numeric_only=False)"
      ],
      "execution_count": 21,
      "outputs": [
        {
          "output_type": "error",
          "ename": "TypeError",
          "evalue": "ignored",
          "traceback": [
            "\u001b[0;31m---------------------------------------------------------------------------\u001b[0m",
            "\u001b[0;31mTypeError\u001b[0m                                 Traceback (most recent call last)",
            "\u001b[0;32m<ipython-input-21-abcd74ed4fdf>\u001b[0m in \u001b[0;36m<module>\u001b[0;34m()\u001b[0m\n\u001b[0;32m----> 1\u001b[0;31m \u001b[0mdf_data2\u001b[0m\u001b[0;34m.\u001b[0m\u001b[0mgroupby\u001b[0m\u001b[0;34m(\u001b[0m\u001b[0;34m'country'\u001b[0m\u001b[0;34m,\u001b[0m\u001b[0mdf_data\u001b[0m\u001b[0;34m.\u001b[0m\u001b[0mindex\u001b[0m\u001b[0;34m.\u001b[0m\u001b[0mweek\u001b[0m\u001b[0;34m)\u001b[0m\u001b[0;34m[\u001b[0m\u001b[0;34m'duration'\u001b[0m\u001b[0;34m]\u001b[0m\u001b[0;34m.\u001b[0m\u001b[0mmedian\u001b[0m\u001b[0;34m(\u001b[0m\u001b[0mnumeric_only\u001b[0m\u001b[0;34m=\u001b[0m\u001b[0;32mFalse\u001b[0m\u001b[0;34m)\u001b[0m\u001b[0;34m\u001b[0m\u001b[0;34m\u001b[0m\u001b[0m\n\u001b[0m",
            "\u001b[0;32m/usr/local/lib/python3.6/dist-packages/pandas/core/generic.py\u001b[0m in \u001b[0;36mgroupby\u001b[0;34m(self, by, axis, level, as_index, sort, group_keys, squeeze, observed, **kwargs)\u001b[0m\n\u001b[1;32m   7627\u001b[0m         \u001b[0;32mif\u001b[0m \u001b[0mlevel\u001b[0m \u001b[0;32mis\u001b[0m \u001b[0;32mNone\u001b[0m \u001b[0;32mand\u001b[0m \u001b[0mby\u001b[0m \u001b[0;32mis\u001b[0m \u001b[0;32mNone\u001b[0m\u001b[0;34m:\u001b[0m\u001b[0;34m\u001b[0m\u001b[0;34m\u001b[0m\u001b[0m\n\u001b[1;32m   7628\u001b[0m             \u001b[0;32mraise\u001b[0m \u001b[0mTypeError\u001b[0m\u001b[0;34m(\u001b[0m\u001b[0;34m\"You have to supply one of 'by' and 'level'\"\u001b[0m\u001b[0;34m)\u001b[0m\u001b[0;34m\u001b[0m\u001b[0;34m\u001b[0m\u001b[0m\n\u001b[0;32m-> 7629\u001b[0;31m         \u001b[0maxis\u001b[0m \u001b[0;34m=\u001b[0m \u001b[0mself\u001b[0m\u001b[0;34m.\u001b[0m\u001b[0m_get_axis_number\u001b[0m\u001b[0;34m(\u001b[0m\u001b[0maxis\u001b[0m\u001b[0;34m)\u001b[0m\u001b[0;34m\u001b[0m\u001b[0;34m\u001b[0m\u001b[0m\n\u001b[0m\u001b[1;32m   7630\u001b[0m         return groupby(self, by=by, axis=axis, level=level, as_index=as_index,\n\u001b[1;32m   7631\u001b[0m                        \u001b[0msort\u001b[0m\u001b[0;34m=\u001b[0m\u001b[0msort\u001b[0m\u001b[0;34m,\u001b[0m \u001b[0mgroup_keys\u001b[0m\u001b[0;34m=\u001b[0m\u001b[0mgroup_keys\u001b[0m\u001b[0;34m,\u001b[0m \u001b[0msqueeze\u001b[0m\u001b[0;34m=\u001b[0m\u001b[0msqueeze\u001b[0m\u001b[0;34m,\u001b[0m\u001b[0;34m\u001b[0m\u001b[0;34m\u001b[0m\u001b[0m\n",
            "\u001b[0;32m/usr/local/lib/python3.6/dist-packages/pandas/core/generic.py\u001b[0m in \u001b[0;36m_get_axis_number\u001b[0;34m(cls, axis)\u001b[0m\n\u001b[1;32m    349\u001b[0m     \u001b[0;34m@\u001b[0m\u001b[0mclassmethod\u001b[0m\u001b[0;34m\u001b[0m\u001b[0;34m\u001b[0m\u001b[0m\n\u001b[1;32m    350\u001b[0m     \u001b[0;32mdef\u001b[0m \u001b[0m_get_axis_number\u001b[0m\u001b[0;34m(\u001b[0m\u001b[0mcls\u001b[0m\u001b[0;34m,\u001b[0m \u001b[0maxis\u001b[0m\u001b[0;34m)\u001b[0m\u001b[0;34m:\u001b[0m\u001b[0;34m\u001b[0m\u001b[0;34m\u001b[0m\u001b[0m\n\u001b[0;32m--> 351\u001b[0;31m         \u001b[0maxis\u001b[0m \u001b[0;34m=\u001b[0m \u001b[0mcls\u001b[0m\u001b[0;34m.\u001b[0m\u001b[0m_AXIS_ALIASES\u001b[0m\u001b[0;34m.\u001b[0m\u001b[0mget\u001b[0m\u001b[0;34m(\u001b[0m\u001b[0maxis\u001b[0m\u001b[0;34m,\u001b[0m \u001b[0maxis\u001b[0m\u001b[0;34m)\u001b[0m\u001b[0;34m\u001b[0m\u001b[0;34m\u001b[0m\u001b[0m\n\u001b[0m\u001b[1;32m    352\u001b[0m         \u001b[0;32mif\u001b[0m \u001b[0mis_integer\u001b[0m\u001b[0;34m(\u001b[0m\u001b[0maxis\u001b[0m\u001b[0;34m)\u001b[0m\u001b[0;34m:\u001b[0m\u001b[0;34m\u001b[0m\u001b[0;34m\u001b[0m\u001b[0m\n\u001b[1;32m    353\u001b[0m             \u001b[0;32mif\u001b[0m \u001b[0maxis\u001b[0m \u001b[0;32min\u001b[0m \u001b[0mcls\u001b[0m\u001b[0;34m.\u001b[0m\u001b[0m_AXIS_NAMES\u001b[0m\u001b[0;34m:\u001b[0m\u001b[0;34m\u001b[0m\u001b[0;34m\u001b[0m\u001b[0m\n",
            "\u001b[0;32m/usr/local/lib/python3.6/dist-packages/pandas/core/indexes/base.py\u001b[0m in \u001b[0;36m__hash__\u001b[0;34m(self)\u001b[0m\n\u001b[1;32m   3933\u001b[0m \u001b[0;34m\u001b[0m\u001b[0m\n\u001b[1;32m   3934\u001b[0m     \u001b[0;32mdef\u001b[0m \u001b[0m__hash__\u001b[0m\u001b[0;34m(\u001b[0m\u001b[0mself\u001b[0m\u001b[0;34m)\u001b[0m\u001b[0;34m:\u001b[0m\u001b[0;34m\u001b[0m\u001b[0;34m\u001b[0m\u001b[0m\n\u001b[0;32m-> 3935\u001b[0;31m         \u001b[0;32mraise\u001b[0m \u001b[0mTypeError\u001b[0m\u001b[0;34m(\u001b[0m\u001b[0;34m\"unhashable type: %r\"\u001b[0m \u001b[0;34m%\u001b[0m \u001b[0mtype\u001b[0m\u001b[0;34m(\u001b[0m\u001b[0mself\u001b[0m\u001b[0;34m)\u001b[0m\u001b[0;34m.\u001b[0m\u001b[0m__name__\u001b[0m\u001b[0;34m)\u001b[0m\u001b[0;34m\u001b[0m\u001b[0;34m\u001b[0m\u001b[0m\n\u001b[0m\u001b[1;32m   3936\u001b[0m \u001b[0;34m\u001b[0m\u001b[0m\n\u001b[1;32m   3937\u001b[0m     \u001b[0;32mdef\u001b[0m \u001b[0m__setitem__\u001b[0m\u001b[0;34m(\u001b[0m\u001b[0mself\u001b[0m\u001b[0;34m,\u001b[0m \u001b[0mkey\u001b[0m\u001b[0;34m,\u001b[0m \u001b[0mvalue\u001b[0m\u001b[0;34m)\u001b[0m\u001b[0;34m:\u001b[0m\u001b[0;34m\u001b[0m\u001b[0;34m\u001b[0m\u001b[0m\n",
            "\u001b[0;31mTypeError\u001b[0m: unhashable type: 'Int64Index'"
          ]
        }
      ]
    }
  ]
}