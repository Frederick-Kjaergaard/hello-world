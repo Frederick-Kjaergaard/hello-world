{
  "nbformat": 4,
  "nbformat_minor": 0,
  "metadata": {
    "colab": {
      "name": "M2A2 Language Processing Twitter.ipynb",
      "provenance": [],
      "collapsed_sections": []
    },
    "kernelspec": {
      "name": "python3",
      "display_name": "Python 3"
    }
  },
  "cells": [
    {
      "cell_type": "markdown",
      "metadata": {
        "id": "Tjaxhq7MkqvU",
        "colab_type": "text"
      },
      "source": [
        "# I didn't finish this assignment on time. I got stuck  in the data manipulation but will send what I have worked on so far."
      ]
    },
    {
      "cell_type": "markdown",
      "metadata": {
        "id": "ia10iPjFnY6p",
        "colab_type": "text"
      },
      "source": [
        "#The plan:\n",
        "1A:\n",
        "-the plan is to first tokenize our data, and clean it up as much as possible. \n",
        "\n",
        "-count the frequency of our words in a bag of words, and runn a Tfid to weigh down words that appear in all the texts.\n",
        "\n",
        "-Apply LSA on the Tfid, to reduce features which we can then use to in machine learning for question 3A.\n",
        "\n",
        "\n",
        "\n",
        "\n",
        "1B: Run a word to vec on the tokanized data that we have before we turn it into a bag of words.\n",
        "\n",
        "2A. Examine our Tfid since its is a count based method. Discuss its result. Since it is a count based method it means that it doesn't look at the words context, and thus could teoreticly miss alot of the meaning.\n"
      ]
    },
    {
      "cell_type": "markdown",
      "metadata": {
        "id": "pbDX4w30k9C3",
        "colab_type": "text"
      },
      "source": [
        "#1 Pre-processing the data"
      ]
    },
    {
      "cell_type": "markdown",
      "metadata": {
        "id": "_YTFw_Y6lE1R",
        "colab_type": "text"
      },
      "source": [
        "Importing the packages needed"
      ]
    },
    {
      "cell_type": "code",
      "metadata": {
        "id": "U6E2BO6TVGEU",
        "colab_type": "code",
        "colab": {}
      },
      "source": [
        "#importing standard packages\n",
        "import pandas as pd\n",
        "import numpy as np\n",
        "import matplotlib.pyplot as plt\n",
        "\n",
        "import string\n",
        "import itertools\n",
        "from collections import Counter\n"
      ],
      "execution_count": 0,
      "outputs": []
    },
    {
      "cell_type": "code",
      "metadata": {
        "id": "glijh6O1ChOh",
        "colab_type": "code",
        "outputId": "2817d2d0-85a4-467e-cdcd-1f04801b8de2",
        "colab": {
          "base_uri": "https://localhost:8080/",
          "height": 92
        }
      },
      "source": [
        "# Import our tokenizers and downloading the packages\n",
        "import nltk\n",
        "from nltk.corpus import stopwords\n",
        "nltk.download(\"stopwords\")\n",
        "from nltk.tokenize import TweetTokenizer\n",
        "\n",
        "from nltk.tokenize import RegexpTokenizer\n",
        "from nltk.stem import WordNetLemmatizer\n",
        "nltk.download(\"wordnet\")\n",
        "from nltk.stem.porter import PorterStemmer\n",
        "\n",
        "import re"
      ],
      "execution_count": 48,
      "outputs": [
        {
          "output_type": "stream",
          "text": [
            "[nltk_data] Downloading package stopwords to /root/nltk_data...\n",
            "[nltk_data]   Package stopwords is already up-to-date!\n",
            "[nltk_data] Downloading package wordnet to /root/nltk_data...\n",
            "[nltk_data]   Package wordnet is already up-to-date!\n"
          ],
          "name": "stdout"
        }
      ]
    },
    {
      "cell_type": "code",
      "metadata": {
        "id": "6t6bYPP_CQO-",
        "colab_type": "code",
        "colab": {}
      },
      "source": [
        "#Instance our word tokanizer and us it to remove handels for the tweets.\n",
        "tknzr=TweetTokenizer(strip_handles=True, reduce_len=True)"
      ],
      "execution_count": 0,
      "outputs": []
    },
    {
      "cell_type": "code",
      "metadata": {
        "id": "JV5PT_5IVdPW",
        "colab_type": "code",
        "colab": {}
      },
      "source": [
        "#Loading the data\n",
        "df_speech =pd.read_csv('https://transfer.sh/Zgwhy/twitter_hate_speech.csv', index_col=0)"
      ],
      "execution_count": 0,
      "outputs": []
    },
    {
      "cell_type": "code",
      "metadata": {
        "id": "f5RiXcY2EOY_",
        "colab_type": "code",
        "outputId": "0aa6b5f6-de96-4a03-f52a-e405c9a52723",
        "colab": {
          "base_uri": "https://localhost:8080/",
          "height": 206
        }
      },
      "source": [
        "#Examining the data\n",
        "df_speech.head()"
      ],
      "execution_count": 51,
      "outputs": [
        {
          "output_type": "execute_result",
          "data": {
            "text/html": [
              "<div>\n",
              "<style scoped>\n",
              "    .dataframe tbody tr th:only-of-type {\n",
              "        vertical-align: middle;\n",
              "    }\n",
              "\n",
              "    .dataframe tbody tr th {\n",
              "        vertical-align: top;\n",
              "    }\n",
              "\n",
              "    .dataframe thead th {\n",
              "        text-align: right;\n",
              "    }\n",
              "</style>\n",
              "<table border=\"1\" class=\"dataframe\">\n",
              "  <thead>\n",
              "    <tr style=\"text-align: right;\">\n",
              "      <th></th>\n",
              "      <th>class</th>\n",
              "      <th>tweet</th>\n",
              "    </tr>\n",
              "  </thead>\n",
              "  <tbody>\n",
              "    <tr>\n",
              "      <th>0</th>\n",
              "      <td>2</td>\n",
              "      <td>!!! RT @mayasolovely: As a woman you shouldn't...</td>\n",
              "    </tr>\n",
              "    <tr>\n",
              "      <th>1</th>\n",
              "      <td>1</td>\n",
              "      <td>!!!!! RT @mleew17: boy dats cold...tyga dwn ba...</td>\n",
              "    </tr>\n",
              "    <tr>\n",
              "      <th>2</th>\n",
              "      <td>1</td>\n",
              "      <td>!!!!!!! RT @UrKindOfBrand Dawg!!!! RT @80sbaby...</td>\n",
              "    </tr>\n",
              "    <tr>\n",
              "      <th>3</th>\n",
              "      <td>1</td>\n",
              "      <td>!!!!!!!!! RT @C_G_Anderson: @viva_based she lo...</td>\n",
              "    </tr>\n",
              "    <tr>\n",
              "      <th>4</th>\n",
              "      <td>1</td>\n",
              "      <td>!!!!!!!!!!!!! RT @ShenikaRoberts: The shit you...</td>\n",
              "    </tr>\n",
              "  </tbody>\n",
              "</table>\n",
              "</div>"
            ],
            "text/plain": [
              "   class                                              tweet\n",
              "0      2  !!! RT @mayasolovely: As a woman you shouldn't...\n",
              "1      1  !!!!! RT @mleew17: boy dats cold...tyga dwn ba...\n",
              "2      1  !!!!!!! RT @UrKindOfBrand Dawg!!!! RT @80sbaby...\n",
              "3      1  !!!!!!!!! RT @C_G_Anderson: @viva_based she lo...\n",
              "4      1  !!!!!!!!!!!!! RT @ShenikaRoberts: The shit you..."
            ]
          },
          "metadata": {
            "tags": []
          },
          "execution_count": 51
        }
      ]
    },
    {
      "cell_type": "code",
      "metadata": {
        "id": "UBPALpUdEwgn",
        "colab_type": "code",
        "colab": {}
      },
      "source": [
        "#Tokenizing our data, and turnings into lower case. This lets us manipulate it later\n",
        "df_speech['tokens'] = df_speech.apply(lambda row: tknzr.tokenize(row['tweet'].lower()),axis=1)\n",
        "df_speech.head(5)"
      ],
      "execution_count": 0,
      "outputs": []
    },
    {
      "cell_type": "code",
      "metadata": {
        "id": "_zyCD9vuB5yz",
        "colab_type": "code",
        "colab": {}
      },
      "source": [
        "#In order to manipuate we are going to define a function which we can call later\n",
        "#This functions filters out tokens that are in the stopwords english list from nltz\n",
        "def remove_stopwords(text):\n",
        "   words = [w for w in text if w not in stopwords.words('english')]\n",
        "   return words"
      ],
      "execution_count": 0,
      "outputs": []
    },
    {
      "cell_type": "code",
      "metadata": {
        "id": "3Hiv3n2UCetm",
        "colab_type": "code",
        "outputId": "b2f06a76-d019-4df9-b6f6-71c8589e62de",
        "colab": {
          "base_uri": "https://localhost:8080/",
          "height": 129
        }
      },
      "source": [
        "#Now we appy the function we just wrote.\n",
        "#We want to remove stopwords because the don't add any important meaning and we want to reduce the data as much as possible\n",
        "df_speech['tokens'] = df_speech.apply(lambda row: remove_stopwords(row['tokens']),axis=1)\n",
        "df_speech['tokens'].head(5)"
      ],
      "execution_count": 54,
      "outputs": [
        {
          "output_type": "execute_result",
          "data": {
            "text/plain": [
              "0    [!, !, !, rt, :, woman, complain, cleaning, ho...\n",
              "1    [!, !, !, rt, :, boy, dats, cold, ..., tyga, d...\n",
              "2    [!, !, !, rt, dawg, !, !, !, rt, :, ever, fuck...\n",
              "3                 [!, !, !, rt, :, look, like, tranny]\n",
              "4    [!, !, !, rt, :, shit, hear, might, true, migh...\n",
              "Name: tokens, dtype: object"
            ]
          },
          "metadata": {
            "tags": []
          },
          "execution_count": 54
        }
      ]
    },
    {
      "cell_type": "code",
      "metadata": {
        "id": "lFF5Oly3DPjO",
        "colab_type": "code",
        "colab": {}
      },
      "source": [
        "#We want to lemmatize our data\n",
        "#Lemmatizing is taking our data and boilings down to the rootword\n",
        "#to do this we define a function again\n",
        "lemmatizer = WordNetLemmatizer()\n",
        "def word_lemmatizer(text):\n",
        "  lem_text = [lemmatizer.lemmatize(i) for i in text]\n",
        "  return lem_text"
      ],
      "execution_count": 0,
      "outputs": []
    },
    {
      "cell_type": "code",
      "metadata": {
        "id": "EpBtsI9EJ_fG",
        "colab_type": "code",
        "outputId": "fb1c94e1-b882-4abb-837e-d6c54ff393a4",
        "colab": {
          "base_uri": "https://localhost:8080/",
          "height": 129
        }
      },
      "source": [
        "#We then apply the function we just definned.\n",
        "df_speech['tokens'] = df_speech.apply(lambda row: word_lemmatizer(row['tokens']),axis=1)\n",
        "df_speech['tokens'].head(5)"
      ],
      "execution_count": 56,
      "outputs": [
        {
          "output_type": "execute_result",
          "data": {
            "text/plain": [
              "0    [!, !, !, rt, :, woman, complain, cleaning, ho...\n",
              "1    [!, !, !, rt, :, boy, dat, cold, ..., tyga, dw...\n",
              "2    [!, !, !, rt, dawg, !, !, !, rt, :, ever, fuck...\n",
              "3                 [!, !, !, rt, :, look, like, tranny]\n",
              "4    [!, !, !, rt, :, shit, hear, might, true, migh...\n",
              "Name: tokens, dtype: object"
            ]
          },
          "metadata": {
            "tags": []
          },
          "execution_count": 56
        }
      ]
    },
    {
      "cell_type": "markdown",
      "metadata": {
        "id": "SPrpn9uDkk87",
        "colab_type": "text"
      },
      "source": [
        "We are now done tokenizing and manipulating our data. The only thing I couldn't do was remove the punctuation.\n",
        "\n",
        "# Trying other stuff\n",
        "I couldn't run my TF-IDF the 'list' object has no attribute 'lower' error kept me form making progress\n"
      ]
    },
    {
      "cell_type": "code",
      "metadata": {
        "id": "2hcWXkiHrrV3",
        "colab_type": "code",
        "colab": {}
      },
      "source": [
        "from sklearn.feature_extraction.text import TfidfVectorizer"
      ],
      "execution_count": 0,
      "outputs": []
    },
    {
      "cell_type": "code",
      "metadata": {
        "id": "rdKpquhsru3m",
        "colab_type": "code",
        "colab": {
          "base_uri": "https://localhost:8080/",
          "height": 368
        },
        "outputId": "986b42ce-56a2-4877-b398-4c5f560b2b9f"
      },
      "source": [
        "vectorizer = TfidfVectorizer()\n",
        "X = vectorizer.fit_transform(df_speech.tokens)\n",
        "pd.DataFrame(X.A, columns=vectorizer.get_feature_names())"
      ],
      "execution_count": 73,
      "outputs": [
        {
          "output_type": "error",
          "ename": "AttributeError",
          "evalue": "ignored",
          "traceback": [
            "\u001b[0;31m---------------------------------------------------------------------------\u001b[0m",
            "\u001b[0;31mAttributeError\u001b[0m                            Traceback (most recent call last)",
            "\u001b[0;32m<ipython-input-73-632376c85d48>\u001b[0m in \u001b[0;36m<module>\u001b[0;34m()\u001b[0m\n\u001b[1;32m      1\u001b[0m \u001b[0mvectorizer\u001b[0m \u001b[0;34m=\u001b[0m \u001b[0mTfidfVectorizer\u001b[0m\u001b[0;34m(\u001b[0m\u001b[0;34m)\u001b[0m\u001b[0;34m\u001b[0m\u001b[0;34m\u001b[0m\u001b[0m\n\u001b[0;32m----> 2\u001b[0;31m \u001b[0mX\u001b[0m \u001b[0;34m=\u001b[0m \u001b[0mvectorizer\u001b[0m\u001b[0;34m.\u001b[0m\u001b[0mfit_transform\u001b[0m\u001b[0;34m(\u001b[0m\u001b[0mdf_speech\u001b[0m\u001b[0;34m.\u001b[0m\u001b[0mtokens\u001b[0m\u001b[0;34m)\u001b[0m\u001b[0;34m\u001b[0m\u001b[0;34m\u001b[0m\u001b[0m\n\u001b[0m\u001b[1;32m      3\u001b[0m \u001b[0mpd\u001b[0m\u001b[0;34m.\u001b[0m\u001b[0mDataFrame\u001b[0m\u001b[0;34m(\u001b[0m\u001b[0mX\u001b[0m\u001b[0;34m.\u001b[0m\u001b[0mA\u001b[0m\u001b[0;34m,\u001b[0m \u001b[0mcolumns\u001b[0m\u001b[0;34m=\u001b[0m\u001b[0mvectorizer\u001b[0m\u001b[0;34m.\u001b[0m\u001b[0mget_feature_names\u001b[0m\u001b[0;34m(\u001b[0m\u001b[0;34m)\u001b[0m\u001b[0;34m)\u001b[0m\u001b[0;34m\u001b[0m\u001b[0;34m\u001b[0m\u001b[0m\n",
            "\u001b[0;32m/usr/local/lib/python3.6/dist-packages/sklearn/feature_extraction/text.py\u001b[0m in \u001b[0;36mfit_transform\u001b[0;34m(self, raw_documents, y)\u001b[0m\n\u001b[1;32m   1650\u001b[0m         \"\"\"\n\u001b[1;32m   1651\u001b[0m         \u001b[0mself\u001b[0m\u001b[0;34m.\u001b[0m\u001b[0m_check_params\u001b[0m\u001b[0;34m(\u001b[0m\u001b[0;34m)\u001b[0m\u001b[0;34m\u001b[0m\u001b[0;34m\u001b[0m\u001b[0m\n\u001b[0;32m-> 1652\u001b[0;31m         \u001b[0mX\u001b[0m \u001b[0;34m=\u001b[0m \u001b[0msuper\u001b[0m\u001b[0;34m(\u001b[0m\u001b[0;34m)\u001b[0m\u001b[0;34m.\u001b[0m\u001b[0mfit_transform\u001b[0m\u001b[0;34m(\u001b[0m\u001b[0mraw_documents\u001b[0m\u001b[0;34m)\u001b[0m\u001b[0;34m\u001b[0m\u001b[0;34m\u001b[0m\u001b[0m\n\u001b[0m\u001b[1;32m   1653\u001b[0m         \u001b[0mself\u001b[0m\u001b[0;34m.\u001b[0m\u001b[0m_tfidf\u001b[0m\u001b[0;34m.\u001b[0m\u001b[0mfit\u001b[0m\u001b[0;34m(\u001b[0m\u001b[0mX\u001b[0m\u001b[0;34m)\u001b[0m\u001b[0;34m\u001b[0m\u001b[0;34m\u001b[0m\u001b[0m\n\u001b[1;32m   1654\u001b[0m         \u001b[0;31m# X is already a transformed view of raw_documents so\u001b[0m\u001b[0;34m\u001b[0m\u001b[0;34m\u001b[0m\u001b[0;34m\u001b[0m\u001b[0m\n",
            "\u001b[0;32m/usr/local/lib/python3.6/dist-packages/sklearn/feature_extraction/text.py\u001b[0m in \u001b[0;36mfit_transform\u001b[0;34m(self, raw_documents, y)\u001b[0m\n\u001b[1;32m   1056\u001b[0m \u001b[0;34m\u001b[0m\u001b[0m\n\u001b[1;32m   1057\u001b[0m         vocabulary, X = self._count_vocab(raw_documents,\n\u001b[0;32m-> 1058\u001b[0;31m                                           self.fixed_vocabulary_)\n\u001b[0m\u001b[1;32m   1059\u001b[0m \u001b[0;34m\u001b[0m\u001b[0m\n\u001b[1;32m   1060\u001b[0m         \u001b[0;32mif\u001b[0m \u001b[0mself\u001b[0m\u001b[0;34m.\u001b[0m\u001b[0mbinary\u001b[0m\u001b[0;34m:\u001b[0m\u001b[0;34m\u001b[0m\u001b[0;34m\u001b[0m\u001b[0m\n",
            "\u001b[0;32m/usr/local/lib/python3.6/dist-packages/sklearn/feature_extraction/text.py\u001b[0m in \u001b[0;36m_count_vocab\u001b[0;34m(self, raw_documents, fixed_vocab)\u001b[0m\n\u001b[1;32m    968\u001b[0m         \u001b[0;32mfor\u001b[0m \u001b[0mdoc\u001b[0m \u001b[0;32min\u001b[0m \u001b[0mraw_documents\u001b[0m\u001b[0;34m:\u001b[0m\u001b[0;34m\u001b[0m\u001b[0;34m\u001b[0m\u001b[0m\n\u001b[1;32m    969\u001b[0m             \u001b[0mfeature_counter\u001b[0m \u001b[0;34m=\u001b[0m \u001b[0;34m{\u001b[0m\u001b[0;34m}\u001b[0m\u001b[0;34m\u001b[0m\u001b[0;34m\u001b[0m\u001b[0m\n\u001b[0;32m--> 970\u001b[0;31m             \u001b[0;32mfor\u001b[0m \u001b[0mfeature\u001b[0m \u001b[0;32min\u001b[0m \u001b[0manalyze\u001b[0m\u001b[0;34m(\u001b[0m\u001b[0mdoc\u001b[0m\u001b[0;34m)\u001b[0m\u001b[0;34m:\u001b[0m\u001b[0;34m\u001b[0m\u001b[0;34m\u001b[0m\u001b[0m\n\u001b[0m\u001b[1;32m    971\u001b[0m                 \u001b[0;32mtry\u001b[0m\u001b[0;34m:\u001b[0m\u001b[0;34m\u001b[0m\u001b[0;34m\u001b[0m\u001b[0m\n\u001b[1;32m    972\u001b[0m                     \u001b[0mfeature_idx\u001b[0m \u001b[0;34m=\u001b[0m \u001b[0mvocabulary\u001b[0m\u001b[0;34m[\u001b[0m\u001b[0mfeature\u001b[0m\u001b[0;34m]\u001b[0m\u001b[0;34m\u001b[0m\u001b[0;34m\u001b[0m\u001b[0m\n",
            "\u001b[0;32m/usr/local/lib/python3.6/dist-packages/sklearn/feature_extraction/text.py\u001b[0m in \u001b[0;36m<lambda>\u001b[0;34m(doc)\u001b[0m\n\u001b[1;32m    350\u001b[0m                                                tokenize)\n\u001b[1;32m    351\u001b[0m             return lambda doc: self._word_ngrams(\n\u001b[0;32m--> 352\u001b[0;31m                 tokenize(preprocess(self.decode(doc))), stop_words)\n\u001b[0m\u001b[1;32m    353\u001b[0m \u001b[0;34m\u001b[0m\u001b[0m\n\u001b[1;32m    354\u001b[0m         \u001b[0;32melse\u001b[0m\u001b[0;34m:\u001b[0m\u001b[0;34m\u001b[0m\u001b[0;34m\u001b[0m\u001b[0m\n",
            "\u001b[0;32m/usr/local/lib/python3.6/dist-packages/sklearn/feature_extraction/text.py\u001b[0m in \u001b[0;36m<lambda>\u001b[0;34m(x)\u001b[0m\n\u001b[1;32m    254\u001b[0m \u001b[0;34m\u001b[0m\u001b[0m\n\u001b[1;32m    255\u001b[0m         \u001b[0;32mif\u001b[0m \u001b[0mself\u001b[0m\u001b[0;34m.\u001b[0m\u001b[0mlowercase\u001b[0m\u001b[0;34m:\u001b[0m\u001b[0;34m\u001b[0m\u001b[0;34m\u001b[0m\u001b[0m\n\u001b[0;32m--> 256\u001b[0;31m             \u001b[0;32mreturn\u001b[0m \u001b[0;32mlambda\u001b[0m \u001b[0mx\u001b[0m\u001b[0;34m:\u001b[0m \u001b[0mstrip_accents\u001b[0m\u001b[0;34m(\u001b[0m\u001b[0mx\u001b[0m\u001b[0;34m.\u001b[0m\u001b[0mlower\u001b[0m\u001b[0;34m(\u001b[0m\u001b[0;34m)\u001b[0m\u001b[0;34m)\u001b[0m\u001b[0;34m\u001b[0m\u001b[0;34m\u001b[0m\u001b[0m\n\u001b[0m\u001b[1;32m    257\u001b[0m         \u001b[0;32melse\u001b[0m\u001b[0;34m:\u001b[0m\u001b[0;34m\u001b[0m\u001b[0;34m\u001b[0m\u001b[0m\n\u001b[1;32m    258\u001b[0m             \u001b[0;32mreturn\u001b[0m \u001b[0mstrip_accents\u001b[0m\u001b[0;34m\u001b[0m\u001b[0;34m\u001b[0m\u001b[0m\n",
            "\u001b[0;31mAttributeError\u001b[0m: 'list' object has no attribute 'lower'"
          ]
        }
      ]
    },
    {
      "cell_type": "markdown",
      "metadata": {
        "id": "R0ZyrUPDsZyd",
        "colab_type": "text"
      },
      "source": [
        "#Trying different things (Topic modeling)\n",
        "I tried a bunch of other models to check what worked\n"
      ]
    },
    {
      "cell_type": "code",
      "metadata": {
        "id": "D7QOiDC2r_y_",
        "colab_type": "code",
        "colab": {}
      },
      "source": [
        "#Bag of words\n",
        "from gensim.corpora.dictionary import Dictionary\n"
      ],
      "execution_count": 0,
      "outputs": []
    },
    {
      "cell_type": "code",
      "metadata": {
        "id": "4ySAfRlQ8riu",
        "colab_type": "code",
        "colab": {}
      },
      "source": [
        "dictionary = Dictionary(df_speech.tokens)"
      ],
      "execution_count": 0,
      "outputs": []
    },
    {
      "cell_type": "code",
      "metadata": {
        "id": "PcPu78xzYtaU",
        "colab_type": "code",
        "colab": {}
      },
      "source": [
        "dictionary.filter_extremes(no_below=5, no_above=0.5, keep_n=1000)"
      ],
      "execution_count": 0,
      "outputs": []
    },
    {
      "cell_type": "code",
      "metadata": {
        "id": "MXtn6wVuXVfM",
        "colab_type": "code",
        "colab": {}
      },
      "source": [
        "corpus = [dictionary.doc2bow(doc) for doc in df_speech.tokens]"
      ],
      "execution_count": 0,
      "outputs": []
    },
    {
      "cell_type": "code",
      "metadata": {
        "colab_type": "code",
        "outputId": "08b5d453-4ba2-4a14-b525-4f2ad8be0267",
        "id": "LszFpr2Ap4UZ",
        "colab": {
          "base_uri": "https://localhost:8080/",
          "height": 201
        }
      },
      "source": [
        "corpus[100][:10]"
      ],
      "execution_count": 0,
      "outputs": [
        {
          "output_type": "execute_result",
          "data": {
            "text/plain": [
              "[(4, 1),\n",
              " (21, 1),\n",
              " (27, 1),\n",
              " (29, 1),\n",
              " (37, 2),\n",
              " (38, 1),\n",
              " (73, 1),\n",
              " (101, 1),\n",
              " (210, 1),\n",
              " (276, 1)]"
            ]
          },
          "metadata": {
            "tags": []
          },
          "execution_count": 61
        }
      ]
    },
    {
      "cell_type": "code",
      "metadata": {
        "id": "fAND5CcLqNK8",
        "colab_type": "code",
        "colab": {}
      },
      "source": [
        ""
      ],
      "execution_count": 0,
      "outputs": []
    },
    {
      "cell_type": "code",
      "metadata": {
        "id": "WHV7quvyL0cd",
        "colab_type": "code",
        "outputId": "c2d12f31-c1e8-49f7-ae28-2d43fa1b5672",
        "colab": {
          "base_uri": "https://localhost:8080/",
          "height": 430
        }
      },
      "source": [
        "# let's fist install this nice visualizer\n",
        "!pip install pyLDAvis"
      ],
      "execution_count": 64,
      "outputs": [
        {
          "output_type": "stream",
          "text": [
            "Requirement already satisfied: pyLDAvis in /usr/local/lib/python3.6/dist-packages (2.1.2)\n",
            "Requirement already satisfied: scipy>=0.18.0 in /usr/local/lib/python3.6/dist-packages (from pyLDAvis) (1.3.1)\n",
            "Requirement already satisfied: pytest in /usr/local/lib/python3.6/dist-packages (from pyLDAvis) (3.6.4)\n",
            "Requirement already satisfied: funcy in /usr/local/lib/python3.6/dist-packages (from pyLDAvis) (1.13)\n",
            "Requirement already satisfied: joblib>=0.8.4 in /usr/local/lib/python3.6/dist-packages (from pyLDAvis) (0.14.0)\n",
            "Requirement already satisfied: jinja2>=2.7.2 in /usr/local/lib/python3.6/dist-packages (from pyLDAvis) (2.10.3)\n",
            "Requirement already satisfied: numexpr in /usr/local/lib/python3.6/dist-packages (from pyLDAvis) (2.7.0)\n",
            "Requirement already satisfied: future in /usr/local/lib/python3.6/dist-packages (from pyLDAvis) (0.16.0)\n",
            "Requirement already satisfied: numpy>=1.9.2 in /usr/local/lib/python3.6/dist-packages (from pyLDAvis) (1.16.5)\n",
            "Requirement already satisfied: wheel>=0.23.0 in /usr/local/lib/python3.6/dist-packages (from pyLDAvis) (0.33.6)\n",
            "Requirement already satisfied: pandas>=0.17.0 in /usr/local/lib/python3.6/dist-packages (from pyLDAvis) (0.24.2)\n",
            "Requirement already satisfied: more-itertools>=4.0.0 in /usr/local/lib/python3.6/dist-packages (from pytest->pyLDAvis) (7.2.0)\n",
            "Requirement already satisfied: six>=1.10.0 in /usr/local/lib/python3.6/dist-packages (from pytest->pyLDAvis) (1.12.0)\n",
            "Requirement already satisfied: attrs>=17.4.0 in /usr/local/lib/python3.6/dist-packages (from pytest->pyLDAvis) (19.2.0)\n",
            "Requirement already satisfied: atomicwrites>=1.0 in /usr/local/lib/python3.6/dist-packages (from pytest->pyLDAvis) (1.3.0)\n",
            "Requirement already satisfied: setuptools in /usr/local/lib/python3.6/dist-packages (from pytest->pyLDAvis) (41.2.0)\n",
            "Requirement already satisfied: pluggy<0.8,>=0.5 in /usr/local/lib/python3.6/dist-packages (from pytest->pyLDAvis) (0.7.1)\n",
            "Requirement already satisfied: py>=1.5.0 in /usr/local/lib/python3.6/dist-packages (from pytest->pyLDAvis) (1.8.0)\n",
            "Requirement already satisfied: MarkupSafe>=0.23 in /usr/local/lib/python3.6/dist-packages (from jinja2>=2.7.2->pyLDAvis) (1.1.1)\n",
            "Requirement already satisfied: python-dateutil>=2.5.0 in /usr/local/lib/python3.6/dist-packages (from pandas>=0.17.0->pyLDAvis) (2.5.3)\n",
            "Requirement already satisfied: pytz>=2011k in /usr/local/lib/python3.6/dist-packages (from pandas>=0.17.0->pyLDAvis) (2018.9)\n"
          ],
          "name": "stdout"
        }
      ]
    },
    {
      "cell_type": "code",
      "metadata": {
        "id": "fuGZe88uMxCh",
        "colab_type": "code",
        "colab": {}
      },
      "source": [
        "# and import it\n",
        "import pyLDAvis.gensim\n",
        "%matplotlib inline\n",
        "pyLDAvis.enable_notebook()"
      ],
      "execution_count": 0,
      "outputs": []
    },
    {
      "cell_type": "code",
      "metadata": {
        "id": "SDIH34Lvb7Cz",
        "colab_type": "code",
        "outputId": "21e559c8-7827-4cf6-93c2-8ea0b20b8e7b",
        "colab": {
          "base_uri": "https://localhost:8080/",
          "height": 187
        }
      },
      "source": [
        "# Let's try to visualize\n",
        "lda_display = pyLDAvis.gensim.prepare(lda_model, corpus, dictionary, sort_topics=False)\n"
      ],
      "execution_count": 66,
      "outputs": [
        {
          "output_type": "stream",
          "text": [
            "/usr/local/lib/python3.6/dist-packages/pyLDAvis/_prepare.py:257: FutureWarning: Sorting because non-concatenation axis is not aligned. A future version\n",
            "of pandas will change to not sort by default.\n",
            "\n",
            "To accept the future behavior, pass 'sort=False'.\n",
            "\n",
            "To retain the current behavior and silence the warning, pass 'sort=True'.\n",
            "\n",
            "  return pd.concat([default_term_info] + list(topic_dfs))\n"
          ],
          "name": "stderr"
        }
      ]
    },
    {
      "cell_type": "code",
      "metadata": {
        "id": "bmDFJBBFcBHV",
        "colab_type": "code",
        "outputId": "c5fb6177-6b3d-4c6b-ee01-086528d97da9",
        "colab": {
          "base_uri": "https://localhost:8080/",
          "height": 881
        }
      },
      "source": [
        "pyLDAvis.display(lda_display)"
      ],
      "execution_count": 67,
      "outputs": [
        {
          "output_type": "execute_result",
          "data": {
            "text/html": [
              "\n",
              "<link rel=\"stylesheet\" type=\"text/css\" href=\"https://cdn.rawgit.com/bmabey/pyLDAvis/files/ldavis.v1.0.0.css\">\n",
              "\n",
              "\n",
              "<div id=\"ldavis_el1201402318019746009192031854\"></div>\n",
              "<script type=\"text/javascript\">\n",
              "\n",
              "var ldavis_el1201402318019746009192031854_data = {\"mdsDat\": {\"x\": [-0.04576666261953684, -0.13123079839631968, -0.044740614878430486, 0.4034962538413165, -0.04470138843254228, -0.02697720077965228, 0.04896153557332652, -0.029387456254695524, -0.015265026237488188, -0.11438864181597753], \"y\": [-0.12251928076960095, -0.02959164470774135, -0.015093189511546153, -0.0643302900497201, 0.08609364775784126, -0.08257221278811608, 0.34501414771293687, 0.009794868664380374, -0.13817642238076214, 0.011380376072328014], \"topics\": [1, 2, 3, 4, 5, 6, 7, 8, 9, 10], \"cluster\": [1, 1, 1, 1, 1, 1, 1, 1, 1, 1], \"Freq\": [9.927610397338867, 11.994532585144043, 13.166234970092773, 7.588585376739502, 8.78873062133789, 12.10270881652832, 5.61789083480835, 6.4224162101745605, 9.92371940612793, 14.467581748962402]}, \"tinfo\": {\"Category\": [\"Default\", \"Default\", \"Default\", \"Default\", \"Default\", \"Default\", \"Default\", \"Default\", \"Default\", \"Default\", \"Default\", \"Default\", \"Default\", \"Default\", \"Default\", \"Default\", \"Default\", \"Default\", \"Default\", \"Default\", \"Default\", \"Default\", \"Default\", \"Default\", \"Default\", \"Default\", \"Default\", \"Default\", \"Default\", \"Default\", \"Topic1\", \"Topic1\", \"Topic1\", \"Topic1\", \"Topic1\", \"Topic1\", \"Topic1\", \"Topic1\", \"Topic1\", \"Topic1\", \"Topic1\", \"Topic1\", \"Topic1\", \"Topic1\", \"Topic1\", \"Topic1\", \"Topic1\", \"Topic1\", \"Topic1\", \"Topic1\", \"Topic1\", \"Topic1\", \"Topic1\", \"Topic1\", \"Topic1\", \"Topic1\", \"Topic1\", \"Topic1\", \"Topic1\", \"Topic1\", \"Topic1\", \"Topic1\", \"Topic1\", \"Topic1\", \"Topic1\", \"Topic1\", \"Topic1\", \"Topic1\", \"Topic1\", \"Topic1\", \"Topic1\", \"Topic1\", \"Topic1\", \"Topic1\", \"Topic1\", \"Topic1\", \"Topic1\", \"Topic1\", \"Topic1\", \"Topic1\", \"Topic1\", \"Topic1\", \"Topic1\", \"Topic1\", \"Topic1\", \"Topic1\", \"Topic1\", \"Topic2\", \"Topic2\", \"Topic2\", \"Topic2\", \"Topic2\", \"Topic2\", \"Topic2\", \"Topic2\", \"Topic2\", \"Topic2\", \"Topic2\", \"Topic2\", \"Topic2\", \"Topic2\", \"Topic2\", \"Topic2\", \"Topic2\", \"Topic2\", \"Topic2\", \"Topic2\", \"Topic2\", \"Topic2\", \"Topic2\", \"Topic2\", \"Topic2\", \"Topic2\", \"Topic2\", \"Topic2\", \"Topic2\", \"Topic2\", \"Topic2\", \"Topic2\", \"Topic2\", \"Topic2\", \"Topic2\", \"Topic2\", \"Topic2\", \"Topic2\", \"Topic2\", \"Topic2\", \"Topic2\", \"Topic2\", \"Topic2\", \"Topic2\", \"Topic2\", \"Topic2\", \"Topic2\", \"Topic2\", \"Topic2\", \"Topic2\", \"Topic2\", \"Topic2\", \"Topic2\", \"Topic2\", \"Topic2\", \"Topic2\", \"Topic2\", \"Topic2\", \"Topic2\", \"Topic2\", \"Topic2\", \"Topic2\", \"Topic2\", \"Topic3\", \"Topic3\", \"Topic3\", \"Topic3\", \"Topic3\", \"Topic3\", \"Topic3\", \"Topic3\", \"Topic3\", \"Topic3\", \"Topic3\", \"Topic3\", \"Topic3\", \"Topic3\", \"Topic3\", \"Topic3\", \"Topic3\", \"Topic3\", \"Topic3\", \"Topic3\", \"Topic3\", \"Topic3\", \"Topic3\", \"Topic3\", \"Topic3\", \"Topic3\", \"Topic3\", \"Topic3\", \"Topic3\", \"Topic3\", \"Topic3\", \"Topic3\", \"Topic3\", \"Topic3\", \"Topic3\", \"Topic3\", \"Topic3\", \"Topic3\", \"Topic3\", \"Topic3\", \"Topic3\", \"Topic3\", \"Topic3\", \"Topic3\", \"Topic3\", \"Topic3\", \"Topic3\", \"Topic3\", \"Topic3\", \"Topic3\", \"Topic3\", \"Topic3\", \"Topic3\", \"Topic3\", \"Topic3\", \"Topic3\", \"Topic3\", \"Topic3\", \"Topic3\", \"Topic3\", \"Topic3\", \"Topic3\", \"Topic3\", \"Topic3\", \"Topic3\", \"Topic3\", \"Topic4\", \"Topic4\", \"Topic4\", \"Topic4\", \"Topic4\", \"Topic4\", \"Topic4\", \"Topic4\", \"Topic4\", \"Topic4\", \"Topic4\", \"Topic4\", \"Topic4\", \"Topic4\", \"Topic4\", \"Topic4\", \"Topic4\", \"Topic4\", \"Topic4\", \"Topic4\", \"Topic4\", \"Topic4\", \"Topic4\", \"Topic4\", \"Topic4\", \"Topic4\", \"Topic4\", \"Topic4\", \"Topic4\", \"Topic4\", \"Topic4\", \"Topic4\", \"Topic4\", \"Topic4\", \"Topic4\", \"Topic4\", \"Topic4\", \"Topic4\", \"Topic4\", \"Topic4\", \"Topic4\", \"Topic4\", \"Topic4\", \"Topic4\", \"Topic4\", \"Topic4\", \"Topic4\", \"Topic4\", \"Topic5\", \"Topic5\", \"Topic5\", \"Topic5\", \"Topic5\", \"Topic5\", \"Topic5\", \"Topic5\", \"Topic5\", \"Topic5\", \"Topic5\", \"Topic5\", \"Topic5\", \"Topic5\", \"Topic5\", \"Topic5\", \"Topic5\", \"Topic5\", \"Topic5\", \"Topic5\", \"Topic5\", \"Topic5\", \"Topic5\", \"Topic5\", \"Topic5\", \"Topic5\", \"Topic5\", \"Topic5\", \"Topic5\", \"Topic5\", \"Topic5\", \"Topic5\", \"Topic5\", \"Topic5\", \"Topic5\", \"Topic5\", \"Topic5\", \"Topic5\", \"Topic5\", \"Topic5\", \"Topic5\", \"Topic5\", \"Topic5\", \"Topic5\", \"Topic5\", \"Topic5\", \"Topic5\", \"Topic5\", \"Topic5\", \"Topic5\", \"Topic5\", \"Topic5\", \"Topic5\", \"Topic5\", \"Topic5\", \"Topic5\", \"Topic5\", \"Topic5\", \"Topic5\", \"Topic5\", \"Topic5\", \"Topic5\", \"Topic6\", \"Topic6\", \"Topic6\", \"Topic6\", \"Topic6\", \"Topic6\", \"Topic6\", \"Topic6\", \"Topic6\", \"Topic6\", \"Topic6\", \"Topic6\", \"Topic6\", \"Topic6\", \"Topic6\", \"Topic6\", \"Topic6\", \"Topic6\", \"Topic6\", \"Topic6\", \"Topic6\", \"Topic6\", \"Topic6\", \"Topic6\", \"Topic6\", \"Topic6\", \"Topic6\", \"Topic6\", \"Topic6\", \"Topic6\", \"Topic6\", \"Topic6\", \"Topic6\", \"Topic6\", \"Topic6\", \"Topic6\", \"Topic6\", \"Topic6\", \"Topic6\", \"Topic6\", \"Topic6\", \"Topic6\", \"Topic6\", \"Topic6\", \"Topic6\", \"Topic6\", \"Topic6\", \"Topic6\", \"Topic6\", \"Topic6\", \"Topic6\", \"Topic6\", \"Topic6\", \"Topic6\", \"Topic6\", \"Topic6\", \"Topic7\", \"Topic7\", \"Topic7\", \"Topic7\", \"Topic7\", \"Topic7\", \"Topic7\", \"Topic7\", \"Topic7\", \"Topic7\", \"Topic7\", \"Topic7\", \"Topic7\", \"Topic7\", \"Topic7\", \"Topic7\", \"Topic7\", \"Topic7\", \"Topic7\", \"Topic7\", \"Topic7\", \"Topic7\", \"Topic7\", \"Topic7\", \"Topic7\", \"Topic7\", \"Topic7\", \"Topic7\", \"Topic7\", \"Topic7\", \"Topic7\", \"Topic7\", \"Topic7\", \"Topic7\", \"Topic7\", \"Topic7\", \"Topic7\", \"Topic7\", \"Topic7\", \"Topic7\", \"Topic7\", \"Topic7\", \"Topic7\", \"Topic7\", \"Topic7\", \"Topic7\", \"Topic7\", \"Topic7\", \"Topic7\", \"Topic7\", \"Topic7\", \"Topic8\", \"Topic8\", \"Topic8\", \"Topic8\", \"Topic8\", \"Topic8\", \"Topic8\", \"Topic8\", \"Topic8\", \"Topic8\", \"Topic8\", \"Topic8\", \"Topic8\", \"Topic8\", \"Topic8\", \"Topic8\", \"Topic8\", \"Topic8\", \"Topic8\", \"Topic8\", \"Topic8\", \"Topic8\", \"Topic8\", \"Topic8\", \"Topic8\", \"Topic8\", \"Topic8\", \"Topic8\", \"Topic8\", \"Topic8\", \"Topic8\", \"Topic8\", \"Topic8\", \"Topic8\", \"Topic8\", \"Topic8\", \"Topic8\", \"Topic8\", \"Topic8\", \"Topic8\", \"Topic8\", \"Topic8\", \"Topic8\", \"Topic8\", \"Topic8\", \"Topic8\", \"Topic8\", \"Topic8\", \"Topic8\", \"Topic8\", \"Topic8\", \"Topic8\", \"Topic8\", \"Topic8\", \"Topic8\", \"Topic9\", \"Topic9\", \"Topic9\", \"Topic9\", \"Topic9\", \"Topic9\", \"Topic9\", \"Topic9\", \"Topic9\", \"Topic9\", \"Topic9\", \"Topic9\", \"Topic9\", \"Topic9\", \"Topic9\", \"Topic9\", \"Topic9\", \"Topic9\", \"Topic9\", \"Topic9\", \"Topic9\", \"Topic9\", \"Topic9\", \"Topic9\", \"Topic9\", \"Topic9\", \"Topic9\", \"Topic9\", \"Topic9\", \"Topic9\", \"Topic9\", \"Topic9\", \"Topic9\", \"Topic9\", \"Topic9\", \"Topic9\", \"Topic9\", \"Topic9\", \"Topic9\", \"Topic9\", \"Topic9\", \"Topic9\", \"Topic9\", \"Topic9\", \"Topic9\", \"Topic9\", \"Topic9\", \"Topic9\", \"Topic9\", \"Topic9\", \"Topic9\", \"Topic9\", \"Topic9\", \"Topic9\", \"Topic9\", \"Topic9\", \"Topic9\", \"Topic9\", \"Topic9\", \"Topic9\", \"Topic9\", \"Topic9\", \"Topic10\", \"Topic10\", \"Topic10\", \"Topic10\", \"Topic10\", \"Topic10\", \"Topic10\", \"Topic10\", \"Topic10\", \"Topic10\", \"Topic10\", \"Topic10\", \"Topic10\", \"Topic10\", \"Topic10\", \"Topic10\", \"Topic10\", \"Topic10\", \"Topic10\", \"Topic10\", \"Topic10\", \"Topic10\", \"Topic10\", \"Topic10\", \"Topic10\", \"Topic10\", \"Topic10\", \"Topic10\", \"Topic10\", \"Topic10\", \"Topic10\", \"Topic10\", \"Topic10\", \"Topic10\", \"Topic10\", \"Topic10\", \"Topic10\", \"Topic10\", \"Topic10\", \"Topic10\", \"Topic10\", \"Topic10\", \"Topic10\", \"Topic10\", \"Topic10\", \"Topic10\", \"Topic10\", \"Topic10\", \"Topic10\", \"Topic10\", \"Topic10\", \"Topic10\", \"Topic10\", \"Topic10\", \"Topic10\"], \"Freq\": [3632.0, 3397.0, 2216.0, 1678.0, 2485.0, 2197.0, 1599.0, 17064.0, 1996.0, 1201.0, 1671.0, 837.0, 907.0, 742.0, 1891.0, 2184.0, 1015.0, 773.0, 898.0, 809.0, 1000.0, 1071.0, 987.0, 744.0, 3940.0, 587.0, 429.0, 792.0, 807.0, 485.0, 906.0770263671875, 770.8214111328125, 236.0063018798828, 157.31845092773438, 140.04457092285156, 150.87344360351562, 127.50899505615234, 109.42869567871094, 107.0279312133789, 105.3447265625, 79.70849609375, 95.9468765258789, 65.70118713378906, 65.20648193359375, 61.33420944213867, 59.424015045166016, 59.11810302734375, 57.91378402709961, 55.61822509765625, 55.47341537475586, 53.78158950805664, 52.88353729248047, 50.503204345703125, 50.1258659362793, 50.87516403198242, 49.831478118896484, 50.49367141723633, 48.40425109863281, 47.96720504760742, 47.62107467651367, 189.4897918701172, 283.7621765136719, 222.17330932617188, 454.2236633300781, 106.50837707519531, 269.42108154296875, 234.30958557128906, 347.1127624511719, 262.9889221191406, 344.4503479003906, 179.35398864746094, 123.07463073730469, 211.84161376953125, 163.2905731201172, 226.510009765625, 305.254150390625, 209.13279724121094, 101.68982696533203, 200.28338623046875, 2120.33251953125, 161.9228515625, 167.29510498046875, 298.653076171875, 280.9004821777344, 140.77359008789062, 186.74261474609375, 177.76622009277344, 231.78660583496094, 270.55767822265625, 143.77127075195312, 131.5880584716797, 94.36992645263672, 89.68325805664062, 86.07003021240234, 127.7044677734375, 77.37960052490234, 75.7557601928711, 137.2102813720703, 69.558837890625, 68.33238983154297, 64.92982482910156, 123.54817962646484, 73.31343078613281, 62.35932540893555, 74.42765808105469, 62.03940200805664, 59.84074401855469, 65.06002807617188, 63.26661682128906, 56.508060455322266, 56.14358901977539, 56.280757904052734, 65.22975158691406, 52.805484771728516, 100.54645538330078, 49.99116516113281, 47.807472229003906, 144.74159240722656, 832.9046630859375, 82.10157012939453, 847.6622314453125, 238.3085174560547, 368.4300842285156, 108.77964782714844, 133.41470336914062, 113.71673583984375, 379.6817321777344, 1177.6307373046875, 260.5470886230469, 273.5831298828125, 245.2339324951172, 697.6253051757812, 485.3719482421875, 2548.970703125, 971.7048950195312, 201.3964080810547, 141.3536834716797, 218.83277893066406, 250.62368774414062, 170.59181213378906, 267.2142028808594, 293.44342041015625, 168.87940979003906, 269.6222839355469, 264.9266357421875, 214.5713653564453, 202.2898712158203, 195.6871795654297, 174.78018188476562, 151.80194091796875, 807.2726440429688, 459.604736328125, 200.21487426757812, 172.1696014404297, 155.57977294921875, 130.82321166992188, 169.63397216796875, 105.1878890991211, 106.43826293945312, 97.83079528808594, 94.06206512451172, 95.068359375, 109.24523162841797, 89.63289642333984, 85.53227996826172, 86.10006713867188, 83.22884368896484, 81.22677612304688, 74.93809509277344, 69.40122985839844, 69.29830932617188, 68.02169799804688, 65.99434661865234, 125.09583282470703, 69.02536010742188, 59.13665008544922, 56.137027740478516, 55.45119094848633, 54.366615295410156, 53.806419372558594, 939.1292114257812, 115.93761444091797, 63.69981002807617, 146.82432556152344, 125.5483169555664, 245.22291564941406, 204.18544006347656, 311.9732360839844, 256.6522521972656, 214.31027221679688, 202.83395385742188, 589.8329467773438, 334.1249694824219, 197.93112182617188, 318.2685241699219, 693.9612426757812, 122.87261199951172, 299.89556884765625, 281.8132629394531, 484.3688659667969, 178.9268798828125, 140.04119873046875, 224.90234375, 368.6770324707031, 192.69830322265625, 734.3623046875, 1404.951171875, 218.08425903320312, 204.73614501953125, 186.94566345214844, 241.51980590820312, 307.4774475097656, 249.4373779296875, 218.83407592773438, 203.8196563720703, 200.15298461914062, 1199.75830078125, 836.05224609375, 741.2054443359375, 311.1805114746094, 285.90057373046875, 1669.370849609375, 143.14427185058594, 123.08706665039062, 117.30549621582031, 115.59198760986328, 96.0648193359375, 91.38810729980469, 84.87335205078125, 80.16203308105469, 60.26020431518555, 59.37731170654297, 59.33480453491211, 57.54045486450195, 56.19899368286133, 59.5947380065918, 55.20526885986328, 53.616302490234375, 53.72772979736328, 49.44326400756836, 48.30870056152344, 48.20634841918945, 47.45854949951172, 44.780364990234375, 43.01704788208008, 42.38920974731445, 1463.9481201171875, 443.8675231933594, 282.0297546386719, 463.9371032714844, 108.08274841308594, 93.8112564086914, 247.8927001953125, 77.24278259277344, 97.18246459960938, 129.32614135742188, 203.62591552734375, 94.18582153320312, 95.71412658691406, 137.6807861328125, 102.48784637451172, 79.91059112548828, 153.6060791015625, 92.87642669677734, 209.7252197265625, 104.09051513671875, 94.10724639892578, 110.67936706542969, 89.13824462890625, 57.61890411376953, 151.04942321777344, 42.249202728271484, 42.39645004272461, 32.765907287597656, 29.91065788269043, 27.793203353881836, 23.960811614990234, 23.09993553161621, 20.50948143005371, 20.21714210510254, 22.28887939453125, 19.4833927154541, 25.804426193237305, 3168.095703125, 30.839075088500977, 31.27054786682129, 46.18893051147461, 45.068660736083984, 23.662519454956055, 214.30419921875, 89.98863983154297, 18.005634307861328, 105.71720886230469, 50.088443756103516, 406.95684814453125, 1205.7987060546875, 636.2310180664062, 235.9355010986328, 74.77415466308594, 113.93045806884766, 68.76253509521484, 58.48193359375, 65.22930145263672, 197.45713806152344, 49.630130767822266, 126.64900207519531, 80.15238189697266, 419.6778564453125, 94.00112915039062, 304.34747314453125, 139.0916748046875, 137.65870666503906, 972.072021484375, 296.5787658691406, 209.9654998779297, 260.67266845703125, 183.6001434326172, 119.60742950439453, 131.31948852539062, 161.95144653320312, 149.632568359375, 181.27285766601562, 138.8346405029297, 117.66551208496094, 118.56669616699219, 123.00511169433594, 3631.132080078125, 441.60516357421875, 308.8880310058594, 216.67369079589844, 279.06744384765625, 161.6210479736328, 155.01255798339844, 138.1496124267578, 125.3917236328125, 113.76809692382812, 381.1370544433594, 89.49222564697266, 85.75252532958984, 90.05175018310547, 81.61678314208984, 471.5112609863281, 76.28846740722656, 70.78202819824219, 69.1520767211914, 70.48365783691406, 65.35518646240234, 61.5887451171875, 59.231327056884766, 58.93804931640625, 72.10767364501953, 93.38395690917969, 50.36100769042969, 141.48858642578125, 89.74465942382812, 59.27705383300781, 300.3704833984375, 1329.166015625, 166.9475860595703, 219.4087371826172, 130.0399627685547, 217.59957885742188, 190.56890869140625, 91.45821380615234, 340.05975341796875, 164.09542846679688, 236.17970275878906, 2614.86669921875, 194.84246826171875, 131.14794921875, 263.3536376953125, 122.85467529296875, 135.88478088378906, 557.3524169921875, 201.5456085205078, 134.84478759765625, 208.25926208496094, 175.09776306152344, 151.83175659179688, 166.802490234375, 160.23541259765625, 141.03280639648438, 2214.876708984375, 304.446533203125, 265.7837219238281, 162.45477294921875, 112.48680877685547, 100.67198944091797, 112.37512969970703, 87.08086395263672, 81.38542938232422, 73.43989562988281, 72.5185775756836, 71.30834197998047, 61.19892883300781, 50.931758880615234, 49.206214904785156, 46.59006118774414, 46.621917724609375, 45.22353744506836, 43.75021743774414, 41.29164505004883, 40.82796096801758, 39.95293426513672, 38.14963150024414, 34.57640075683594, 32.9799919128418, 53.83632278442383, 31.5135440826416, 31.333654403686523, 30.346675872802734, 31.513505935668945, 52.170379638671875, 243.5811004638672, 109.23796844482422, 92.02701568603516, 168.65509033203125, 114.38395690917969, 91.75841522216797, 181.80398559570312, 134.2260284423828, 169.25001525878906, 215.7314910888672, 127.2969741821289, 149.18728637695312, 187.76158142089844, 177.4549560546875, 93.88178253173828, 62.803401947021484, 86.50537109375, 101.44827270507812, 99.3708724975586, 79.73909759521484, 427.9720153808594, 282.3225402832031, 160.99807739257812, 128.8987579345703, 120.87586212158203, 114.59126281738281, 82.78913879394531, 82.0342788696289, 72.08345031738281, 69.06795501708984, 68.46794891357422, 66.19346618652344, 61.25589370727539, 60.760292053222656, 56.93047332763672, 54.55790710449219, 52.141902923583984, 48.28640365600586, 47.460533142089844, 51.95013427734375, 47.222476959228516, 45.41838455200195, 158.17935180664062, 42.66473388671875, 126.1434097290039, 42.18819808959961, 41.788551330566406, 38.05051803588867, 36.83632278442383, 36.38810729980469, 82.22993469238281, 129.84889221191406, 279.6813049316406, 104.06159973144531, 244.449951171875, 209.20684814453125, 52.782081604003906, 195.76907348632812, 209.12130737304688, 379.10748291015625, 76.93572235107422, 387.22711181640625, 84.40946960449219, 599.2623901367188, 263.60845947265625, 84.10130310058594, 278.596923828125, 606.8687744140625, 203.64051818847656, 132.35415649414062, 116.59437561035156, 156.7395477294922, 90.74974822998047, 109.77716064453125, 83.46663665771484, 409.7679748535156, 347.0030212402344, 246.65890502929688, 187.58248901367188, 130.75750732421875, 124.48823547363281, 120.12918090820312, 280.817138671875, 72.95775604248047, 63.86598587036133, 61.652503967285156, 56.07828903198242, 113.66499328613281, 53.84087371826172, 52.85352325439453, 51.22083282470703, 52.24859619140625, 49.26596450805664, 49.185081481933594, 44.99778747558594, 44.26045608520508, 43.29412841796875, 74.3434829711914, 73.68444061279297, 40.481605529785156, 39.95590591430664, 39.82359313964844, 39.00969696044922, 180.34457397460938, 35.88462448120117, 700.75830078125, 225.8325653076172, 108.45797729492188, 118.12742614746094, 320.9659423828125, 202.93141174316406, 152.24815368652344, 162.66983032226562, 127.91014862060547, 445.5439758300781, 200.96487426757812, 191.20352172851562, 93.84748077392578, 338.5724792480469, 173.11834716796875, 116.8989028930664, 135.52720642089844, 440.9598388671875, 374.8412780761719, 184.55679321289062, 168.6967315673828, 248.41668701171875, 293.59161376953125, 313.1454772949219, 359.7383728027344, 390.53521728515625, 212.99615478515625, 537.0745239257812, 263.5287780761719, 207.53659057617188, 207.97105407714844, 173.64541625976562, 238.81369018554688, 2176.248291015625, 113.63590240478516, 175.27346801757812, 356.7835388183594, 93.99175262451172, 114.63941192626953, 85.75321960449219, 142.47434997558594, 79.65241241455078, 77.86978149414062, 67.73916625976562, 73.64730072021484, 61.27727127075195, 61.25235366821289, 57.21562576293945, 57.45901107788086, 45.24083709716797, 37.99831771850586, 112.09586334228516, 62.29895782470703, 106.68495178222656, 368.3087158203125, 2324.382080078125, 903.1878051757812, 55.91697311401367, 46.19064712524414, 59.13324737548828, 134.62881469726562, 67.99732971191406, 296.0058288574219, 290.07086181640625, 375.1562805175781, 338.28240966796875, 1212.0045166015625, 129.9111328125, 6058.45849609375, 152.6317901611328, 484.0213623046875, 135.14222717285156, 149.7427215576172, 753.2386474609375, 316.6966247558594, 183.65609741210938, 212.35888671875, 443.12933349609375, 175.5599365234375, 184.10946655273438, 230.47630310058594, 274.2911682128906, 175.59800720214844, 291.2693176269531, 171.18316650390625, 163.3861541748047, 148.99790954589844], \"Term\": [\"sit\", \"bad\", \"video\", \"always\", \"ain't\", \"bitch\", \"man\", \"cold\", \"smh\", \"\\ud83d\\ude02\", \"u\", \"hear\", \"would\", \"another\", \"coming\", \"tell\", \",\", \"\\\"\", \"game\", \"early\", \"y'all\", \"old\", \"ig\", \"pussy\", \"dawg\", \"lmfao\", \"meet\", \"sheen\", \"ever\", \"single\", \"would\", \"\\\"\", \"sole\", \"\\ud83d\\ude12\", \"word\", \"lil\", \"shoe\", \"bill\", \"nothin\", \"played\", \"=\", \"i'll\", \"point\", \"basic\", \"outside\", \"piss\", \"told\", \"caught\", \"lonely\", \"set\", \"\\u00bb\", \"joe\", \"niggaz\", \"angry\", \"sick\", \"clean\", \"ho\", \"shot\", \"chicken\", \"minute\", \"tf\", \"dumb\", \"call\", \"bag\", \"door\", \"tho\", \"fag\", \"happy\", \"gotta\", \"worry\", \"dress\", \"hope\", \"kill\", \"heart\", \"hood\", \"started\", \"ride\", \"honestly\", \"bed\", \"cold\", \"5\", \"wonder\", \"claim\", \"i'm\", \"ha\", \"true\", \"confused\", \"knew\", \"strong\", \"seem\", \"middle\", \"step\", \"scared\", \"\\ud83d\\ude15\", \"without\", \"mouth\", \"<\", \"relationship\", \"shirt\", \"speak\", \"world\", \"ex\", \"talkin\", \"\\ud83d\\udca6\", \"thirsty\", \"said\", \"lot\", \"#ipad\", \"tweeting\", \"death\", \"daddy\", \"crist\", \"soon\", \"date\", \")\", \"that's\", \"p\", \"drake\", \"game\", \"instead\", \"ig\", \"well\", \"month\", \"niggah\", \"nobody\", \"omg\", \"voice\", \"tell\", \"everyone\", \"need\", \"roll\", \"claim\", \"ur\", \"cold\", \"dawg\", \"rt\", \"mexican\", \"change\", \"stupid\", \"*\", \"want\", \"better\", \";\", \"&\", \"hard\", \"skinny\", \"love\", \"trash\", \"met\", \":\", \"early\", \"#yankees\", \"maybe\", \"long\", \"night\", \"ball\", \"hey\", \"else\", \"loyal\", \"shy\", \"term\", \"many\", \"count\", \"thick\", \"dad\", \"hillbilly\", \"today\", \"redskin\", \"#porn\", \"niggahs\", \"especially\", \"turn\", \"fire\", \"eye\", \"deserve\", \"ago\", \"become\", \"law\", \"buy\", \"#iphone\", \",\", \"show\", \"\\ud83d\\udc80\", \"slope\", \"smile\", \"baby\", \"damn\", \"lmfaooo\", \"care\", \"ima\", \"two\", \"sheen\", \"i'd\", \"gone\", \"booty\", \"hard\", \"line\", \"asking\", \"every\", \"met\", \"money\", \"respect\", \"ugly\", \"\\u201d\", \"\\ud83d\\ude29\", \"dawg\", \"cold\", \"weed\", \"wrong\", \"alone\", \"\\ud83d\\udc4f\", \"i'm\", \"&\", \"ever\", \"black\", \"win\", \"\\ud83d\\ude02\", \"hear\", \"another\", \"might\", \"\\ud83d\\ude4f\", \"always\", \"chill\", \"steal\", \"oh\", \"talk\", \"\\ud83d\\ude0e\", \"twitter\", \"serious\", \"music\", \"gun\", \"thank\", \"50\", \"away\", \"act\", \"support\", \"main\", \"texting\", \"7\", \"rather\", \"sister\", \"\\ud83d\\ude0a\", \"whore\", \"flappy\", \"cop\", \"literally\", \"man\", \"single\", \"female\", \"lmfao\", \"3\", \"kid\", \"sexy\", \"@\", \"car\", \":\", \"bad\", \"miss\", \"day\", \"u\", \"worst\", \"\\u201c\", \"cold\", \"claim\", \"gave\", \"bc\", \"eat\", \"hot\", \"feel\", \"get\", \"favorite\", \"la\", \"wet\", \"type\", \"back\", \"wow\", \"fake\", \"asian\", \"morning\", \"uh\", \"beer\", \"bone\", \"hop\", \"bad\", \"idk\", \"turned\", \"cheating\", \"trying\", \"using\", \"nothing\", \"guy\", \"leave\", \"..\", \"made\", \"worst\", \"smh\", \"old\", \"chick\", \"yea\", \"took\", \"see\", \"boyfriend\", \">\", \"send\", \"cracker\", \"ask\", \"b\", \"tell\", \"outta\", \"confused\", \"cut\", \"mind\", \"cold\", \"i'm\", \"ur\", \"claim\", \"much\", \"cant\", \"lmaooo\", \"met\", \"love\", \"dawg\", \"&\", \"tranny\", \":\", \"coming\", \"sit\", \"use\", \"k\", \"tomorrow\", \"never\", \"fall\", \"test\", \"bae\", \"funny\", \"cause\", \"business\", \"come\", \"af\", \"nice\", \"naw\", \"blow\", \"dope\", \"state\", \"brown\", \"\\ud83d\\ude45\", \"republican\", \"v\", \"lie\", \"work\", \"club\", \"yu\", \"seriously\", \"men\", \"monkey\", \"working\", \"looking\", \"u\", \"sorry\", \"...\", \"nude\", \"slow\", \"player\", \"anymore\", \"sooo\", \"r\", \"going\", \"cold\", \"people\", \"pregnant\", \"girl\", \"real\", \"|\", \"dawg\", \"win\", \"right\", \"confused\", \"asked\", \"!\", \"i'm\", \"ain't\", \"claim\", \"video\", \"trust\", \"oreo\", \"giving\", \"(\", \"beaner\", \"wear\", \"body\", \"9\", \"lol\", \"son\", \"finger\", \"#sex\", \"\\ud83d\\ude11\", \"rick\", \"top\", \"yankee\", \"ion\", \"plan\", \"mama\", \"jeter\", \"self\", \"blunt\", \"retarded\", \"wife\", \"free\", \"\\ud83d\\ude48\", \"\\ud83d\\ude14\", \"forget\", \"20\", \"i've\", \"1st\", \"past\", \"n\", \"one\", \"song\", \"brought\", \"love\", \"lmaooo\", \"much\", \"coming\", \"tranny\", \"sheen\", \"i'm\", \"dawg\", \"black\", \"course\", \"bag\", \"claim\", \"confused\", \"\\u201d\", \"meet\", \"ol\", \"live\", \"didnt\", \"fool\", \"lmao\", \"learn\", \"giant\", \"hate\", \"control\", \"goin\", \"rap\", \"watching\", \"big\", \"brother\", \"2\", \"taken\", \"soul\", \"end\", \"ratchet\", \"name\", \"coon\", \"saying\", \"redneck\", \"party\", \"teabaggers\", \"pig\", \"2014\", \"mock\", \"\\u2026\", \"dem\", \"open\", \"he's\", \"hair\", \"used\", \"probably\", \"kno\", \"really\", \"running\", \"ever\", \"thats\", \"confused\", \"neck\", \"dawg\", \"old\", \"nip\", \"coming\", \"cold\", \"u\", \"\\ud83d\\udc4b\", \"dick\", \"&\", \"think\", \"cant\", \"need\", \"saw\", \"rich\", \"-\", \"remember\", \"playin\", \"let\", \"finally\", \"perfect\", \"they're\", \"\\ud83d\\ude33\", \"bullshit\", \"fuck\", \"\\ud83d\\udcaf\", \"\\u270c\", \"weather\", \"can't\", \"gonna\", \"half\", \"went\", \"answer\", \"jail\", \"help\", \"pas\", \"parent\", \"block\", \"follow\", \"mother\", \"prolly\", \"4\", \"child\", \"pussy\", \"/\", \"lick\", \"tired\", \"\\ud83d\\udc50\", \"ah\", \"listen\", \"gay\", \"teeth\", \"\\ud83d\\udc40\", \"fight\", \"sad\", \"behind\", \"new\", \"cry\", \"\\ud83d\\ude4c\", \"say\", \"true\", \"\\ud83d\\udc4f\", \"swear\", \"drunk\", \"life\", \"faggot\", \"asked\", \"better\", \"dawg\", \"skinny\", \"cold\", \"tell\", \"\\u201d\", \"ur\", \"season\", \"im\", \"bitch\", \"school\", \"moment\", \"somebody\", \"mane\", \"de\", \"who's\", \"bye\", \"social\", \"stay\", \"tha\", \"what's\", \"mess\", \"forgot\", \"complain\", \"together\", \"\\ud83d\\ude37\", \"doin\", \"still\", \"kiss\", \"stuck\", \"\\ud83d\\ude4a\", \"ain't\", \"y'all\", \"baddest\", \"queer\", \"sex\", \"green\", \"problem\", \"hell\", \"fat\", \"eating\", \"die\", \"coming\", \"around\", \"cold\", \"best\", \"trash\", \"whatever\", \"wish\", \"smh\", \"fucking\", \"15\", \"season\", \"i'm\", \"woman\", \"mind\", \"true\", \"confused\", \"new\", \"dawg\", \"tranny\", \"\\ud83d\\udc4b\", \"cut\"], \"Total\": [3632.0, 3397.0, 2216.0, 1678.0, 2485.0, 2197.0, 1599.0, 17064.0, 1996.0, 1201.0, 1671.0, 837.0, 907.0, 742.0, 1891.0, 2184.0, 1015.0, 773.0, 898.0, 809.0, 1000.0, 1071.0, 987.0, 744.0, 3940.0, 587.0, 429.0, 792.0, 807.0, 485.0, 907.2955322265625, 773.1903076171875, 237.23167419433594, 158.54295349121094, 141.26947021484375, 152.20016479492188, 128.72406005859375, 110.65125274658203, 108.24302673339844, 106.88660430908203, 80.95323944091797, 97.62689971923828, 66.91621398925781, 66.43012237548828, 62.549293518066406, 60.639041900634766, 60.333290100097656, 59.13026809692383, 56.83329391479492, 56.688533782958984, 54.996620178222656, 54.11565399169922, 51.718318939208984, 51.34096145629883, 52.11281204223633, 51.046512603759766, 51.76164627075195, 49.6198844909668, 49.182281494140625, 48.83912658691406, 195.0943145751953, 322.20843505859375, 259.1446533203125, 566.298095703125, 116.91707611083984, 329.14569091796875, 283.54473876953125, 448.0504455566406, 330.9753723144531, 456.20819091796875, 216.4146270751953, 141.06668090820312, 263.580810546875, 196.05677795410156, 301.3838195800781, 450.49774169921875, 335.891357421875, 123.30384063720703, 353.8152160644531, 17064.26171875, 260.7213439941406, 288.392578125, 1620.7767333984375, 1992.6025390625, 288.6940002441406, 918.3952026367188, 1538.9498291015625, 233.05027770996094, 272.0892028808594, 145.00209045410156, 132.84205627441406, 95.59996795654297, 90.9410171508789, 87.30062866210938, 129.5626220703125, 78.60968780517578, 76.98863220214844, 139.61976623535156, 70.7933578491211, 69.57726287841797, 66.18328094482422, 125.95418548583984, 74.75856018066406, 63.589454650878906, 75.90266418457031, 63.2695198059082, 61.070865631103516, 66.46379089355469, 64.63550567626953, 57.73822784423828, 57.373634338378906, 57.535491943359375, 66.71760559082031, 54.03560256958008, 102.96849060058594, 51.22126770019531, 49.03760528564453, 148.496337890625, 898.6419677734375, 84.56929779052734, 987.1842651367188, 262.0171203613281, 429.2449951171875, 116.50253295898438, 147.838623046875, 124.71054077148438, 502.7237548828125, 2184.587158203125, 378.9695129394531, 426.5419006347656, 388.24578857421875, 1620.7767333984375, 1039.7066650390625, 17064.26171875, 3940.7294921875, 350.095703125, 218.80845642089844, 479.3089294433594, 628.2756958007812, 310.1069030761719, 761.3529663085938, 1059.0567626953125, 318.0199890136719, 1101.534912109375, 1229.420166015625, 740.6097412109375, 739.133056640625, 891.56396484375, 886.2567749023438, 706.6509399414062, 809.0020141601562, 460.815185546875, 201.42994689941406, 173.4010467529297, 156.92417907714844, 132.20315551757812, 171.44740295410156, 106.39847564697266, 107.70044708251953, 99.041748046875, 95.27196502685547, 96.31158447265625, 110.70267486572266, 90.8435287475586, 86.74217224121094, 87.34523010253906, 84.44969177246094, 82.43667602539062, 76.14795684814453, 70.61107635498047, 70.50821685791016, 69.23165130615234, 67.2044448852539, 127.552978515625, 70.38910675048828, 60.34656524658203, 57.347469329833984, 56.661964416503906, 55.57658386230469, 55.01658630371094, 1015.2159423828125, 120.56426239013672, 65.34906005859375, 154.93162536621094, 132.38169860839844, 269.7381896972656, 227.24172973632812, 360.6074523925781, 301.14996337890625, 247.23895263671875, 232.6912841796875, 792.6973876953125, 462.53680419921875, 247.20423889160156, 455.4102478027344, 1229.420166015625, 137.10939025878906, 452.92626953125, 418.96893310546875, 886.2567749023438, 230.5261993408203, 164.908447265625, 361.2297668457031, 906.0706787109375, 310.4291076660156, 3940.7294921875, 17064.26171875, 404.21527099609375, 359.2535095214844, 297.2463684082031, 759.8760986328125, 1992.6025390625, 1101.534912109375, 807.1731567382812, 564.3890380859375, 550.715087890625, 1201.0037841796875, 837.38330078125, 742.450439453125, 312.4249572753906, 287.1444091796875, 1678.459716796875, 144.40647888183594, 124.33065795898438, 118.55388641357422, 116.83567810058594, 97.31336212158203, 92.63853454589844, 86.1296615600586, 81.4055404663086, 61.50383377075195, 60.62080764770508, 60.57840347290039, 58.78962326049805, 57.44258117675781, 60.92762756347656, 56.448856353759766, 54.85981750488281, 54.977230072021484, 50.68683624267578, 49.55228805541992, 49.460330963134766, 48.70288848876953, 46.0239143371582, 44.2763786315918, 43.632720947265625, 1599.7596435546875, 485.5092468261719, 325.8990478515625, 587.1473999023438, 125.36528778076172, 124.02042388916016, 507.11376953125, 100.66244506835938, 167.71975708007812, 706.6509399414062, 3397.81396484375, 298.8573303222656, 334.7663879394531, 1671.9525146484375, 599.9558715820312, 250.61358642578125, 17064.26171875, 1620.7767333984375, 211.05528259277344, 105.39287567138672, 95.42949676513672, 112.26683044433594, 90.45556640625, 58.921749114990234, 154.8694305419922, 43.571598052978516, 43.837135314941406, 34.06805419921875, 31.21282958984375, 29.27444076538086, 25.2630672454834, 24.402236938476562, 21.814111709594727, 21.519390106201172, 23.765953063964844, 20.78571128845215, 27.651113510131836, 3397.81396484375, 35.598785400390625, 39.4245491027832, 58.95005798339844, 57.58876419067383, 30.75463104248047, 281.459716796875, 120.61476135253906, 24.275453567504883, 149.70578002929688, 72.18165588378906, 599.9558715820312, 1996.3902587890625, 1071.79638671875, 373.93231201171875, 111.95386505126953, 196.72897338867188, 105.46267700195312, 86.01802825927734, 103.03780364990234, 489.911865234375, 71.8466796875, 308.7073059082031, 151.1533966064453, 2184.587158203125, 196.19342041015625, 1538.9498291015625, 421.9310302734375, 422.5203857421875, 17064.26171875, 1992.6025390625, 1039.7066650390625, 1620.7767333984375, 851.0853271484375, 383.67596435546875, 485.288330078125, 886.2567749023438, 739.133056640625, 3940.7294921875, 1101.534912109375, 542.7491455078125, 706.6509399414062, 1891.3096923828125, 3632.86962890625, 442.7991027832031, 310.0821228027344, 217.86752319335938, 280.630615234375, 162.8155059814453, 156.2120361328125, 139.34359741210938, 126.5854721069336, 114.96292877197266, 385.552001953125, 90.69939422607422, 86.9676513671875, 91.36518859863281, 82.82010650634766, 478.6316833496094, 77.48231506347656, 71.97584533691406, 70.34661102294922, 71.70832824707031, 66.54902648925781, 62.7830696105957, 60.428314208984375, 60.131813049316406, 73.56974029541016, 95.31073760986328, 51.55488204956055, 144.85813903808594, 92.32273864746094, 61.417999267578125, 323.89898681640625, 1671.9525146484375, 185.38946533203125, 253.42967224121094, 143.22621154785156, 272.4899597167969, 236.7347869873047, 98.84400939941406, 516.734375, 232.027099609375, 416.312255859375, 17064.26171875, 329.7214050292969, 184.44479370117188, 665.6559448242188, 167.74302673339844, 206.00860595703125, 3940.7294921875, 550.715087890625, 219.44976806640625, 1538.9498291015625, 753.590087890625, 373.5235900878906, 1992.6025390625, 2485.7158203125, 1620.7767333984375, 2216.25439453125, 305.7694396972656, 267.05926513671875, 163.7335205078125, 113.89657592773438, 101.94734954833984, 113.8809814453125, 88.43949127197266, 82.66079711914062, 74.71544647216797, 73.8573226928711, 72.6423110961914, 62.47420883178711, 52.20703887939453, 50.481597900390625, 47.86537551879883, 47.906131744384766, 46.511878967285156, 45.02622985839844, 42.56689453125, 42.103271484375, 41.22824478149414, 39.42485427856445, 35.85232162475586, 34.25521469116211, 55.99483108520508, 32.789241790771484, 32.60984420776367, 31.621929168701172, 32.84787368774414, 54.55019760131836, 306.226806640625, 136.70486450195312, 115.3557357788086, 285.68878173828125, 174.29559326171875, 192.0736846923828, 739.133056640625, 485.288330078125, 851.0853271484375, 1891.3096923828125, 542.7491455078125, 792.6973876953125, 1992.6025390625, 3940.7294921875, 564.3890380859375, 124.84668731689453, 566.298095703125, 1620.7767333984375, 1538.9498291015625, 906.0706787109375, 429.2397155761719, 283.5883483886719, 162.26466369628906, 130.173828125, 122.14383697509766, 115.87979888916016, 84.05500793457031, 83.4179916381836, 73.36729431152344, 70.33451843261719, 69.73385620117188, 67.46068572998047, 62.52396774291992, 62.02626419067383, 58.199676513671875, 55.8238639831543, 53.40998077392578, 49.55434799194336, 48.72641372680664, 53.3414192199707, 48.48828887939453, 46.68509292602539, 162.73193359375, 43.93056106567383, 129.89952087402344, 43.45408248901367, 43.05447006225586, 39.31666564941406, 38.10312271118164, 37.65401077270508, 85.57284545898438, 136.15310668945312, 314.50006103515625, 112.4050521850586, 301.81195068359375, 260.7597961425781, 55.76658630371094, 311.802978515625, 347.750244140625, 807.1731567382812, 98.69001007080078, 1538.9498291015625, 122.16463470458984, 3940.7294921875, 1071.79638671875, 124.90508270263672, 1891.3096923828125, 17064.26171875, 1671.9525146484375, 484.9384765625, 365.7720947265625, 1101.534912109375, 168.70965576171875, 383.67596435546875, 426.5419006347656, 411.014404296875, 348.25250244140625, 247.89894104003906, 188.9069366455078, 131.99757385253906, 125.73387908935547, 121.38848114013672, 283.79571533203125, 74.19769287109375, 65.12433624267578, 62.892398834228516, 57.31818771362305, 116.21163940429688, 55.080810546875, 54.0933952331543, 52.46067810058594, 53.51744842529297, 50.505859375, 50.42500686645508, 46.23759841918945, 45.50034713745117, 44.53399658203125, 76.55073547363281, 75.90601348876953, 41.721500396728516, 41.19577407836914, 41.063419342041016, 40.24959945678711, 186.41172790527344, 37.12650680541992, 744.9627685546875, 240.55538940429688, 114.34268188476562, 126.6346206665039, 364.6734924316406, 226.67138671875, 180.01968383789062, 194.76986694335938, 149.11705017089844, 618.3299560546875, 251.8198699951172, 246.46632385253906, 106.87091064453125, 515.90673828125, 228.25938415527344, 145.28067016601562, 179.26022338867188, 918.3952026367188, 759.8760986328125, 284.7415466308594, 260.2617492675781, 478.8177490234375, 674.179443359375, 753.590087890625, 1059.0567626953125, 3940.7294921875, 740.6097412109375, 17064.26171875, 2184.587158203125, 906.0706787109375, 1039.7066650390625, 470.9781494140625, 240.20626831054688, 2197.3515625, 114.85382080078125, 177.24794006347656, 361.3251647949219, 95.20868682861328, 116.13329315185547, 86.9770736694336, 144.6136932373047, 80.86980438232422, 79.12001037597656, 68.9564208984375, 75.04862976074219, 62.494239807128906, 62.50823211669922, 58.43471908569336, 58.71232986450195, 46.457763671875, 39.2152099609375, 115.92568969726562, 64.42894744873047, 112.43242645263672, 390.44451904296875, 2485.7158203125, 1000.7618408203125, 62.352535247802734, 51.681297302246094, 66.47441101074219, 154.28565979003906, 79.17317199707031, 350.9737548828125, 356.9930725097656, 470.79644775390625, 424.6983642578125, 1891.3096923828125, 156.46664428710938, 17064.26171875, 197.5576171875, 891.56396484375, 178.71737670898438, 208.32215881347656, 1996.3902587890625, 653.2262573242188, 294.0597229003906, 470.9781494140625, 1992.6025390625, 368.3983154296875, 422.5203857421875, 918.3952026367188, 1538.9498291015625, 515.90673828125, 3940.7294921875, 542.7491455078125, 484.9384765625, 421.9310302734375], \"loglift\": [30.0, 29.0, 28.0, 27.0, 26.0, 25.0, 24.0, 23.0, 22.0, 21.0, 20.0, 19.0, 18.0, 17.0, 16.0, 15.0, 14.0, 13.0, 12.0, 11.0, 10.0, 9.0, 8.0, 7.0, 6.0, 5.0, 4.0, 3.0, 2.0, 1.0, 2.308500051498413, 2.30679988861084, 2.3046998977661133, 2.3020999431610107, 2.301100015640259, 2.301100015640259, 2.3004000186920166, 2.2987000942230225, 2.2985999584198, 2.295300006866455, 2.2943999767303467, 2.2925000190734863, 2.2915000915527344, 2.291300058364868, 2.2901999950408936, 2.289599895477295, 2.2894999980926514, 2.289099931716919, 2.2881999015808105, 2.2881999015808105, 2.2874999046325684, 2.286799907684326, 2.286099910736084, 2.285900115966797, 2.285799980163574, 2.285799980163574, 2.2850000858306885, 2.2850000858306885, 2.2848000526428223, 2.284600019454956, 2.2806999683380127, 2.182800054550171, 2.155900001525879, 2.0892999172210693, 2.216599941253662, 2.109600067138672, 2.1191000938415527, 2.0546000003814697, 2.079900026321411, 2.028899908065796, 2.121999979019165, 2.1733999252319336, 2.0913000106811523, 2.127000093460083, 2.0243000984191895, 1.9206000566482544, 1.8359999656677246, 2.1171000003814697, 1.7408000230789185, 0.22439999878406525, 1.8335000276565552, 1.7653000354766846, 0.6184999942779541, 0.3506999909877777, 1.591599941253662, 0.7170000076293945, 0.15150000154972076, 2.115299940109253, 2.1150999069213867, 2.1122000217437744, 2.1112000942230225, 2.107800006866455, 2.106800079345703, 2.1064999103546143, 2.106300115585327, 2.1048998832702637, 2.104599952697754, 2.103300094604492, 2.103100061416626, 2.1026999950408936, 2.101599931716919, 2.1013998985290527, 2.1012001037597656, 2.1012001037597656, 2.101099967956543, 2.101099967956543, 2.100399971008301, 2.099400043487549, 2.099299907684326, 2.0992000102996826, 2.0989999771118164, 2.0987000465393066, 2.0982000827789307, 2.0977001190185547, 2.09689998626709, 2.096400022506714, 2.0952999591827393, 2.095099925994873, 2.044800043106079, 2.091099977493286, 1.9682999849319458, 2.025899887084961, 1.967900037765503, 2.0520999431610107, 2.0181000232696533, 2.02839994430542, 1.840000033378601, 1.5027999877929688, 1.746000051498413, 1.6765999794006348, 1.6612999439239502, 1.2776999473571777, 1.3588999509811401, 0.21940000355243683, 0.7207000255584717, 1.5678000450134277, 1.6837999820709229, 1.3366999626159668, 1.20169997215271, 1.5231000185012817, 1.073699951171875, 0.8373000025749207, 1.4878000020980835, 0.7132999897003174, 0.5859000086784363, 0.8819000124931335, 0.8248999714851379, 0.6043000221252441, 0.49720001220703125, 0.5827999711036682, 2.025399923324585, 2.024899959564209, 2.0215001106262207, 2.020400047302246, 2.018899917602539, 2.0169999599456787, 2.016900062561035, 2.0160999298095703, 2.015700101852417, 2.015199899673462, 2.014699935913086, 2.0144999027252197, 2.0143001079559326, 2.0141000747680664, 2.0134999752044678, 2.013200044631958, 2.013000011444092, 2.012700080871582, 2.0114998817443848, 2.010200023651123, 2.010200023651123, 2.0099000930786133, 2.0092999935150146, 2.0081000328063965, 2.007999897003174, 2.0072999000549316, 2.006200075149536, 2.0058999061584473, 2.005500078201294, 2.0053000450134277, 1.9495999813079834, 1.9883999824523926, 2.002000093460083, 1.9737999439239502, 1.9744999408721924, 1.9321999549865723, 1.9205000400543213, 1.882599949836731, 1.8675999641418457, 1.884600043296814, 1.8902000188827515, 1.7318999767303467, 1.702299952507019, 1.8051999807357788, 1.6691999435424805, 1.4556000232696533, 1.9178999662399292, 1.6152000427246094, 1.63100004196167, 1.4234000444412231, 1.7740999460220337, 1.8640999794006348, 1.5536999702453613, 1.1282999515533447, 1.5506999492645264, 0.3474000096321106, -0.46950000524520874, 1.4104000329971313, 1.4651999473571777, 1.5637999773025513, 0.8812999725341797, 0.15870000422000885, 0.5422999858856201, 0.7222999930381775, 1.0089999437332153, 1.0154000520706177, 2.577500104904175, 2.576900005340576, 2.5768001079559326, 2.57450008392334, 2.574199914932251, 2.5731000900268555, 2.569700002670288, 2.56850004196167, 2.5678999423980713, 2.5678000450134277, 2.5655999183654785, 2.5648999214172363, 2.563800096511841, 2.5631000995635986, 2.5580999851226807, 2.557800054550171, 2.557800054550171, 2.556999921798706, 2.5566000938415527, 2.5564000606536865, 2.5562000274658203, 2.5555999279022217, 2.555500030517578, 2.5536999702453613, 2.553100109100342, 2.552799940109253, 2.5525999069213867, 2.551100015640259, 2.5497000217437744, 2.5495998859405518, 2.489799976348877, 2.4888999462127686, 2.434000015258789, 2.3429999351501465, 2.4302000999450684, 2.2994000911712646, 1.8628000020980835, 2.313699960708618, 2.0327999591827393, 0.880299985408783, -0.2361000031232834, 1.423799991607666, 1.3265000581741333, 0.08169999718666077, 0.8113999962806702, 1.4355000257492065, -2.1317999362945557, -0.2809000015258789, 2.4254000186920166, 2.419300079345703, 2.4177000522613525, 2.4175000190734863, 2.4170000553131104, 2.4093000888824463, 2.4066998958587646, 2.400899887084961, 2.3982999324798584, 2.392699956893921, 2.3891000747680664, 2.3798000812530518, 2.3787999153137207, 2.3768999576568604, 2.369999885559082, 2.36929988861084, 2.367500066757202, 2.367000102996826, 2.362600088119507, 2.3617000579833984, 2.2881999015808105, 2.200000047683716, 2.187700033187866, 2.1865999698638916, 2.169600009918213, 2.15910005569458, 2.1387999057769775, 2.1328999996185303, 2.0838000774383545, 2.0662999153137207, 2.043600082397461, 1.9275000095367432, 1.9101999998092651, 1.9711999893188477, 2.02810001373291, 1.8854999542236328, 2.003999948501587, 2.0459001064300537, 1.9744999408721924, 1.5230000019073486, 2.061800003051758, 1.5406999588012695, 1.7972999811172485, 0.7820000052452087, 1.6958999633789062, 0.8109999895095825, 1.3220000267028809, 1.3101999759674072, -0.4336000084877014, 0.5267999768257141, 0.8319000005722046, 0.6043000221252441, 0.8978999853134155, 1.2661000490188599, 1.1246000528335571, 0.7319999933242798, 0.8343999981880188, -0.6474000215530396, 0.3605000078678131, 0.902899980545044, 0.6466000080108643, -0.3010999858379364, 2.111299991607666, 2.1089999675750732, 2.1078999042510986, 2.1061999797821045, 2.1061999797821045, 2.1043999195098877, 2.1040000915527344, 2.103100061416626, 2.102299928665161, 2.101300001144409, 2.1001999378204346, 2.098299980163574, 2.0977001190185547, 2.0973000526428223, 2.097100019454956, 2.0968000888824463, 2.0961999893188477, 2.0950000286102295, 2.094599962234497, 2.0945000648498535, 2.093600034713745, 2.0924999713897705, 2.0917000770568848, 2.0917000770568848, 2.0917000770568848, 2.0913000106811523, 2.0882999897003174, 2.088200092315674, 2.083400011062622, 2.0762999057769775, 2.03629994392395, 1.8823000192642212, 2.006999969482422, 1.9675999879837036, 2.015199899673462, 1.8868000507354736, 1.8947999477386475, 2.03410005569458, 1.6933000087738037, 1.7653000354766846, 1.5448999404907227, 0.23600000143051147, 1.5857000350952148, 1.7706999778747559, 1.184499979019165, 1.8003000020980835, 1.6956000328063965, 0.155799999833107, 1.1065000295639038, 1.6246999502182007, 0.11169999837875366, 0.6521999835968018, 1.2115000486373901, -0.3686000108718872, -0.6298999786376953, -0.32989999651908875, 2.8785998821258545, 2.8749001026153564, 2.8743999004364014, 2.8714001178741455, 2.86680006980896, 2.8666000366210938, 2.8659000396728516, 2.8636999130249023, 2.8636999130249023, 2.861999988555908, 2.8608999252319336, 2.8606998920440674, 2.858599901199341, 2.8545000553131104, 2.853600025177002, 2.8522000312805176, 2.8519999980926514, 2.851099967956543, 2.8505001068115234, 2.84879994392395, 2.8485000133514404, 2.8478000164031982, 2.846299886703491, 2.8429999351501465, 2.8413000106811523, 2.839900016784668, 2.8394999504089355, 2.8392999172210693, 2.838099956512451, 2.8376998901367188, 2.8345999717712402, 2.6503000259399414, 2.654900074005127, 2.6533000469207764, 2.3522000312805176, 2.4579999446868896, 2.140500068664551, 1.476699948310852, 1.593999981880188, 1.2640999555587769, 0.7081999778747559, 1.4291000366210938, 1.2089999914169312, 0.5171999931335449, -0.22120000422000885, 1.0855000019073486, 2.1921000480651855, 1.0003000497817993, 0.10809999704360962, 0.13920000195503235, 0.4489000141620636, 2.7423999309539795, 2.7409000396728516, 2.737499952316284, 2.7355000972747803, 2.7348999977111816, 2.7342000007629395, 2.7302000522613525, 2.728600025177002, 2.7276999950408936, 2.7272000312805176, 2.727099895477295, 2.7263998985290527, 2.724900007247925, 2.7248001098632812, 2.723299980163574, 2.722399950027466, 2.721299886703491, 2.7195000648498535, 2.719099998474121, 2.718899965286255, 2.718899965286255, 2.717900037765503, 2.7170000076293945, 2.716099977493286, 2.7160000801086426, 2.7158000469207764, 2.7155001163482666, 2.712599992752075, 2.7116000652313232, 2.711199998855591, 2.7054998874664307, 2.697999954223633, 2.628000020980835, 2.6682000160217285, 2.534600019454956, 2.525099992752075, 2.6903998851776123, 2.279900074005127, 2.236799955368042, 1.9896999597549438, 2.4964001178741455, 1.3654999732971191, 2.375699996948242, 0.8619999885559082, 1.3427000045776367, 2.3498001098632812, 0.8300999999046326, -0.5910999774932861, 0.6399999856948853, 1.4467999935150146, 1.6021000146865845, 0.7954999804496765, 2.1252999305725098, 1.49399995803833, 1.1140999794006348, 2.3071999549865723, 2.3066000938415527, 2.3052000999450684, 2.3032000064849854, 2.300800085067749, 2.300299882888794, 2.299799919128418, 2.2997000217437744, 2.2934000492095947, 2.2906999588012695, 2.290299892425537, 2.2883999347686768, 2.288100004196167, 2.2874999046325684, 2.287100076675415, 2.28629994392395, 2.2862000465393066, 2.285399913787842, 2.2853000164031982, 2.283099889755249, 2.282599925994873, 2.2820000648498535, 2.2809998989105225, 2.2804999351501465, 2.280100107192993, 2.2797000408172607, 2.279599905014038, 2.2790000438690186, 2.2771999835968018, 2.27620005607605, 2.2490999698638916, 2.2471001148223877, 2.2574000358581543, 2.2407000064849854, 2.1826000213623047, 2.1995999813079834, 2.142699956893921, 2.1301000118255615, 2.1568000316619873, 1.9824999570846558, 2.084700107574463, 2.0564000606536865, 2.180299997329712, 1.8890999555587769, 2.0336999893188477, 2.092900037765503, 2.030600070953369, 1.5765999555587769, 1.603600025177002, 1.8766000270843506, 1.8767000436782837, 1.6540000438690186, 1.4788999557495117, 1.4321000576019287, 1.2304999828338623, -0.00139999995008111, 1.0640000104904175, -1.1483999490737915, 0.19519999623298645, 0.8363999724388123, 0.7009000182151794, 1.312399983406067, 1.92739999294281, 1.9235999584197998, 1.9226000308990479, 1.9220999479293823, 1.9206000566482544, 1.9204000234603882, 1.920300006866455, 1.919100046157837, 1.9184000492095947, 1.9180999994277954, 1.9172999858856201, 1.9154000282287598, 1.9143999814987183, 1.913599967956543, 1.9129999876022339, 1.9121999740600586, 1.9117000102996826, 1.9067000150680542, 1.9017000198364258, 1.8997000455856323, 1.8996000289916992, 1.8808000087738037, 1.874899983406067, 1.8661999702453613, 1.8307000398635864, 1.8243000507354736, 1.8208999633789062, 1.8162000179290771, 1.7970000505447388, 1.7811000347137451, 1.7628999948501587, 1.7257000207901, 1.7062000036239624, 1.7058000564575195, 1.4882999658584595, 1.7473000288009644, 0.8977000117301941, 1.6753000020980835, 1.3223999738693237, 1.6538000106811523, 1.6030999422073364, 0.9585000276565552, 1.2093000411987305, 1.462499976158142, 1.1367000341415405, 0.42989999055862427, 1.1921000480651855, 1.1025999784469604, 0.5508000254631042, 0.2085999995470047, 0.8554999828338623, -0.6715999841690063, 0.7792999744415283, 0.8453999757766724, 0.8924000263214111], \"logprob\": [30.0, 29.0, 28.0, 27.0, 26.0, 25.0, 24.0, 23.0, 22.0, 21.0, 20.0, 19.0, 18.0, 17.0, 16.0, 15.0, 14.0, 13.0, 12.0, 11.0, 10.0, 9.0, 8.0, 7.0, 6.0, 5.0, 4.0, 3.0, 2.0, 1.0, -3.0743000507354736, -3.2360000610351562, -4.419600009918213, -4.825200080871582, -4.941500186920166, -4.867000102996826, -5.035299777984619, -5.188199996948242, -5.210400104522705, -5.226200103759766, -5.505099773406982, -5.319699764251709, -5.698400020599365, -5.705900192260742, -5.767099857330322, -5.798799991607666, -5.803899765014648, -5.82450008392334, -5.864999771118164, -5.867599964141846, -5.898499965667725, -5.91540002822876, -5.961400032043457, -5.968900203704834, -5.954100131988525, -5.974800109863281, -5.961599826812744, -6.003900051116943, -6.013000011444092, -6.020199775695801, -4.639100074768066, -4.235300064086914, -4.480000019073486, -3.764899969100952, -5.215199947357178, -4.287199974060059, -4.426799774169922, -4.03380012512207, -4.311399936676025, -4.041500091552734, -4.6940999031066895, -5.070700168609619, -4.527599811553955, -4.787899971008301, -4.460700035095215, -4.162300109863281, -4.540500164031982, -5.261499881744385, -4.583700180053711, -2.224100112915039, -4.79640007019043, -4.763700008392334, -4.184199810028076, -4.245500087738037, -4.936299800872803, -4.65369987487793, -4.703000068664551, -4.626800060272217, -4.472099781036377, -5.104400157928467, -5.19290018081665, -5.525400161743164, -5.576300144195557, -5.617400169372559, -5.222899913787842, -5.723899841308594, -5.745100021362305, -5.151100158691406, -5.830399990081787, -5.848199844360352, -5.8993000984191895, -5.25600004196167, -5.777900218963623, -5.939700126647949, -5.762800216674805, -5.944799900054932, -5.980899810791016, -5.897299766540527, -5.92519998550415, -6.0381999015808105, -6.0447001457214355, -6.042300224304199, -5.894700050354004, -6.105999946594238, -5.461999893188477, -6.160799980163574, -6.205399990081787, -5.097700119018555, -3.3477001190185547, -5.664599895477295, -3.3301000595092773, -4.598999977111816, -4.163400173187256, -5.383299827575684, -5.179100036621094, -5.338900089263916, -4.133299827575684, -3.001300096511841, -4.509799957275391, -4.460999965667725, -4.570400238037109, -3.524899959564209, -3.887700080871582, -2.2291998863220215, -3.1935999393463135, -4.767300128936768, -5.121300220489502, -4.684299945831299, -4.548699855804443, -4.933300018310547, -4.484600067138672, -4.390900135040283, -4.943399906158447, -4.475599765777588, -4.493199825286865, -4.703999996185303, -4.762899875640869, -4.79610013961792, -4.90910005569458, -5.050000190734863, -3.472100019454956, -4.035399913787842, -4.866399765014648, -5.017300128936768, -5.118599891662598, -5.291999816894531, -5.032199859619141, -5.5100998878479, -5.498199939727783, -5.582600116729736, -5.6219000816345215, -5.611199855804443, -5.4721999168396, -5.670100212097168, -5.716899871826172, -5.710299968719482, -5.744200229644775, -5.768599987030029, -5.849100112915039, -5.925899982452393, -5.9274001121521, -5.946000099182129, -5.976200103759766, -5.336699962615967, -5.931300163269043, -6.085999965667725, -6.138000011444092, -6.150300025939941, -6.170100212097168, -6.1803998947143555, -3.3208999633789062, -5.412799835205078, -6.011600017547607, -5.176599979400635, -5.333099842071533, -4.663599967956543, -4.846799850463867, -4.422900199890137, -4.618100166320801, -4.798399925231934, -4.853400230407715, -3.7860000133514404, -4.354300022125244, -4.877900123596191, -4.402900218963623, -3.6233999729156494, -5.354700088500977, -4.462399959564209, -4.524600028991699, -3.9830000400543213, -4.978799819946289, -5.223899841308594, -4.750100135803223, -4.255899906158447, -4.904699802398682, -3.566800117492676, -2.918100118637085, -4.780900001525879, -4.844099998474121, -4.934999942779541, -4.678899765014648, -4.437399864196777, -4.646599769592285, -4.777500152587891, -4.848599910736084, -4.866700172424316, -2.524899959564209, -2.8861000537872314, -3.006500005722046, -3.8743999004364014, -3.959199905395508, -2.1946001052856445, -4.650899887084961, -4.8018999099731445, -4.849999904632568, -4.864699840545654, -5.049799919128418, -5.099699974060059, -5.173600196838379, -5.2307000160217285, -5.51609992980957, -5.530900001525879, -5.531599998474121, -5.562300205230713, -5.585899829864502, -5.527200222015381, -5.603700160980225, -5.632900238037109, -5.630899906158447, -5.714000225067139, -5.737199783325195, -5.739299774169922, -5.754899978637695, -5.813000202178955, -5.8531999588012695, -5.8678998947143555, -2.325900077819824, -3.5192999839782715, -3.9728000164031982, -3.4749999046325684, -4.9319000244140625, -5.073500156402588, -4.101799964904785, -5.2677998542785645, -5.0381999015808105, -4.752500057220459, -4.298500061035156, -5.069499969482422, -5.053400039672852, -4.689899921417236, -4.985099792480469, -5.23390007019043, -4.580399990081787, -5.083499908447266, -4.415800094604492, -5.116399765014648, -5.217199802398682, -5.054999828338623, -5.271399974822998, -5.707799911499023, -4.74399995803833, -6.01800012588501, -6.014599800109863, -6.272200107574463, -6.363399982452393, -6.436800003051758, -6.58519983291626, -6.621799945831299, -6.740699768066406, -6.755099773406982, -6.65749979019165, -6.792099952697754, -6.511099815368652, -1.700700044631958, -6.332799911499023, -6.318900108337402, -5.928899765014648, -5.953400135040283, -6.597700119018555, -4.394199848175049, -5.261899948120117, -6.8709001541137695, -5.100900173187256, -5.847799777984619, -3.7528998851776123, -2.6666998863220215, -3.3060998916625977, -4.298099994659424, -5.447199821472168, -5.026000022888184, -5.531000137329102, -5.69290018081665, -5.583700180053711, -4.476099967956543, -5.85699987411499, -4.920199871063232, -5.377699851989746, -3.722100019454956, -5.218299865722656, -4.043499946594238, -4.826499938964844, -4.8368000984191895, -2.882200002670288, -4.069300174713135, -4.414700031280518, -4.198400020599365, -4.548900127410889, -4.977399826049805, -4.883999824523926, -4.674300193786621, -4.753399848937988, -4.561600208282471, -4.8282999992370605, -4.993800163269043, -4.986100196838379, -4.949399948120117, -1.8842999935150146, -3.9911999702453613, -4.348599910736084, -4.703199863433838, -4.450099945068359, -4.996300220489502, -5.038099765777588, -5.153200149536133, -5.250100135803223, -5.347400188446045, -4.138400077819824, -5.587399959564209, -5.630099773406982, -5.581200122833252, -5.679500102996826, -3.925600051879883, -5.747099876403809, -5.822000026702881, -5.845300197601318, -5.826200008392334, -5.901700019836426, -5.961100101470947, -6.000100135803223, -6.005099773406982, -5.803400039672852, -5.544899940490723, -6.162399768829346, -5.12939977645874, -5.58459997177124, -5.9994001388549805, -4.3765997886657715, -2.8893001079559326, -4.963900089263916, -4.6905999183654785, -5.213699817657471, -4.69890022277832, -4.831600189208984, -5.565700054168701, -4.252500057220459, -4.981100082397461, -4.617000102996826, -2.212599992752075, -4.8094000816345215, -5.2052998542785645, -4.5081000328063965, -5.270599842071533, -5.1697998046875, -3.7583999633789062, -4.775599956512451, -5.177499771118164, -4.742800235748291, -4.916200160980225, -5.058800220489502, -4.964799880981445, -5.004899978637695, -5.132599830627441, -1.611199975013733, -3.595599889755249, -3.7314000129699707, -4.223700046539307, -4.591300010681152, -4.702199935913086, -4.592299938201904, -4.847300052642822, -4.914899826049805, -5.017600059509277, -5.030300140380859, -5.047100067138672, -5.199999809265137, -5.383600234985352, -5.418099880218506, -5.472700119018555, -5.4720001220703125, -5.502500057220459, -5.535600185394287, -5.593400001525879, -5.604700088500977, -5.626399993896484, -5.672599792480469, -5.770899772644043, -5.81820011138916, -5.328199863433838, -5.863699913024902, -5.8694000244140625, -5.901400089263916, -5.863699913024902, -5.359600067138672, -3.818700075149536, -4.62060022354126, -4.791999816894531, -4.186299800872803, -4.57450008392334, -4.794899940490723, -4.111199855804443, -4.414599895477295, -4.182700157165527, -3.9400999546051025, -4.467599868774414, -4.308899879455566, -4.07889986038208, -4.13539981842041, -4.77209997177124, -5.174099922180176, -4.853899955749512, -4.6946001052856445, -4.715199947357178, -4.935299873352051, -3.3889000415802, -3.8048999309539795, -4.366600036621094, -4.588900089263916, -4.653200149536133, -4.706600189208984, -5.031599998474121, -5.040800094604492, -5.170100212097168, -5.212900161743164, -5.22160005569458, -5.25540018081665, -5.332900047302246, -5.341000080108643, -5.406099796295166, -5.448699951171875, -5.49399995803833, -5.570799827575684, -5.5879998207092285, -5.497700214385986, -5.593100070953369, -5.631999969482422, -4.384200096130371, -5.6946001052856445, -4.610499858856201, -5.7058000564575195, -5.7153000831604, -5.809000015258789, -5.8414998054504395, -5.853700160980225, -5.038400173187256, -4.581600189208984, -3.814300060272217, -4.802999973297119, -3.948899984359741, -4.104599952697754, -5.481800079345703, -4.171000003814697, -4.105000019073486, -3.5100998878479004, -5.105000019073486, -3.4888999462127686, -5.01230001449585, -3.0522000789642334, -3.873500108718872, -5.015900135040283, -3.81820011138916, -3.039599895477295, -4.1315999031066895, -4.5625, -4.689199924468994, -4.393400192260742, -4.939799785614014, -4.749499797821045, -5.023499965667725, -3.867500066757202, -4.033699989318848, -4.375100135803223, -4.648900032043457, -5.009699821472168, -5.058899879455566, -5.0945000648498535, -4.2453999519348145, -5.593200206756592, -5.72629976272583, -5.761600017547607, -5.856299877166748, -5.149799823760986, -5.896999835968018, -5.915599822998047, -5.946899890899658, -5.92710018157959, -5.985799789428711, -5.987500190734863, -6.076499938964844, -6.0929999351501465, -6.115099906921387, -5.574399948120117, -5.5833001136779785, -6.182199954986572, -6.195300102233887, -6.198599815368652, -6.219299793243408, -4.688199996948242, -6.302800178527832, -3.330899953842163, -4.4633002281188965, -5.196700096130371, -5.111299991607666, -4.111700057983398, -4.570199966430664, -4.857600212097168, -4.791399955749512, -5.031799793243408, -3.783799886703491, -4.579999923706055, -4.629700183868408, -5.341400146484375, -4.058300018310547, -4.729100227355957, -5.121799945831299, -4.973899841308594, -3.794100046157837, -3.9565999507904053, -4.66510009765625, -4.755000114440918, -4.368000030517578, -4.200900077819824, -4.13640022277832, -3.9976999759674072, -3.915600061416626, -4.5218000411987305, -3.59689998626709, -4.308899879455566, -4.547800064086914, -4.5457000732421875, -4.726099967956543, -4.78439998626709, -2.574700117111206, -5.527100086212158, -5.093699932098389, -4.382900238037109, -5.716899871826172, -5.5183000564575195, -5.808599948883057, -5.300899982452393, -5.882400035858154, -5.90500020980835, -6.044400215148926, -5.9608001708984375, -6.144700050354004, -6.145100116729736, -6.213200092315674, -6.209000110626221, -6.4481000900268555, -6.622499942779541, -5.5406999588012695, -6.1280999183654785, -5.590199947357178, -4.351099967956543, -2.5088999271392822, -3.4540998935699463, -6.236199855804443, -6.427299976348877, -6.180300235748291, -5.357500076293945, -6.040599822998047, -4.569699764251709, -4.589900016784668, -4.332699775695801, -4.436200141906738, -3.1600000858306885, -5.393199920654297, -1.5508999824523926, -5.23199987411499, -4.077899932861328, -5.353700160980225, -5.251100063323975, -3.635699987411499, -4.502099990844727, -5.046999931335449, -4.901800155639648, -4.166200160980225, -5.092100143432617, -5.04449987411499, -4.819900035858154, -4.645899772644043, -5.091899871826172, -4.5858001708984375, -5.117300033569336, -5.163899898529053, -5.256100177764893]}, \"token.table\": {\"Topic\": [3, 4, 5, 6, 8, 9, 10, 1, 7, 10, 2, 3, 3, 7, 3, 1, 2, 3, 4, 5, 6, 7, 8, 9, 10, 7, 2, 10, 1, 2, 3, 4, 5, 6, 7, 8, 3, 6, 9, 4, 5, 6, 2, 6, 7, 9, 10, 1, 3, 9, 1, 5, 7, 8, 10, 5, 7, 10, 8, 7, 8, 1, 4, 6, 8, 9, 1, 2, 6, 9, 10, 4, 4, 7, 1, 2, 3, 4, 5, 6, 7, 8, 10, 2, 3, 5, 9, 10, 2, 1, 2, 3, 5, 7, 1, 4, 10, 4, 6, 3, 3, 9, 6, 10, 3, 10, 4, 10, 1, 4, 9, 2, 4, 6, 1, 5, 9, 10, 5, 2, 5, 7, 9, 1, 2, 3, 5, 6, 7, 9, 10, 1, 3, 5, 6, 7, 9, 4, 5, 7, 8, 10, 3, 9, 5, 1, 2, 3, 4, 5, 6, 8, 9, 10, 6, 1, 4, 7, 9, 3, 1, 5, 7, 3, 1, 3, 5, 7, 5, 4, 9, 3, 5, 10, 1, 2, 3, 4, 5, 6, 7, 8, 9, 10, 8, 1, 1, 5, 7, 9, 10, 3, 5, 6, 7, 9, 10, 9, 3, 6, 7, 7, 7, 5, 1, 3, 4, 9, 5, 10, 8, 2, 4, 7, 8, 6, 9, 1, 6, 3, 4, 10, 1, 5, 7, 9, 1, 5, 6, 8, 4, 6, 9, 10, 2, 3, 1, 6, 2, 3, 5, 6, 9, 5, 8, 3, 5, 6, 7, 8, 10, 1, 9, 4, 1, 2, 3, 4, 5, 6, 7, 10, 1, 6, 1, 2, 3, 4, 5, 6, 7, 8, 9, 10, 6, 2, 3, 4, 5, 7, 8, 9, 10, 10, 1, 2, 4, 5, 6, 7, 8, 9, 10, 8, 8, 4, 3, 2, 7, 3, 5, 2, 6, 9, 10, 1, 5, 6, 7, 8, 9, 10, 3, 2, 3, 7, 2, 1, 2, 3, 4, 5, 6, 7, 8, 9, 10, 2, 3, 4, 6, 7, 8, 10, 2, 8, 9, 10, 3, 1, 2, 4, 5, 6, 8, 9, 8, 3, 5, 6, 9, 10, 10, 1, 8, 6, 2, 9, 1, 2, 4, 8, 1, 3, 5, 9, 1, 8, 3, 6, 5, 2, 5, 6, 7, 9, 10, 3, 8, 3, 2, 3, 6, 8, 9, 10, 2, 3, 5, 6, 9, 2, 3, 8, 9, 2, 6, 9, 3, 9, 1, 3, 9, 1, 4, 6, 7, 8, 9, 10, 5, 6, 2, 10, 3, 5, 5, 1, 4, 6, 2, 4, 9, 9, 7, 3, 4, 9, 8, 7, 10, 7, 9, 9, 2, 4, 5, 6, 9, 10, 6, 2, 3, 9, 5, 3, 9, 5, 8, 1, 3, 4, 5, 6, 7, 7, 8, 2, 4, 6, 7, 8, 10, 3, 6, 9, 1, 3, 7, 10, 4, 2, 5, 1, 2, 3, 4, 7, 9, 10, 5, 8, 10, 9, 1, 6, 1, 2, 3, 4, 5, 8, 10, 8, 3, 7, 8, 4, 1, 8, 10, 1, 5, 10, 9, 3, 6, 3, 1, 1, 4, 1, 6, 9, 5, 6, 1, 2, 5, 1, 3, 8, 9, 10, 1, 6, 1, 2, 3, 4, 5, 6, 7, 8, 9, 10, 6, 7, 1, 5, 2, 3, 5, 9, 10, 1, 3, 1, 2, 7, 9, 7, 1, 6, 4, 5, 9, 1, 9, 8, 10, 2, 6, 8, 5, 3, 8, 5, 8, 9, 3, 9, 6, 1, 2, 3, 4, 5, 6, 7, 8, 9, 1, 2, 3, 8, 9, 4, 8, 8, 2, 3, 5, 7, 8, 9, 10, 3, 4, 10, 1, 2, 3, 8, 7, 1, 3, 3, 6, 9, 2, 2, 5, 7, 9, 10, 3, 5, 8, 4, 7, 4, 9, 10, 3, 3, 8, 5, 6, 10, 2, 3, 4, 5, 6, 8, 10, 2, 4, 6, 9, 10, 2, 4, 2, 3, 5, 6, 10, 1, 1, 2, 3, 4, 6, 7, 8, 9, 8, 1, 10, 1, 3, 9, 4, 6, 1, 2, 5, 9, 2, 1, 2, 3, 4, 5, 6, 7, 8, 9, 10, 4, 1, 7, 9, 8, 6, 6, 8, 2, 3, 4, 8, 2, 6, 6, 9, 10, 6, 2, 8, 3, 1, 3, 7, 8, 9, 10, 2, 8, 1, 5, 7, 6, 9, 4, 8, 1, 2, 5, 8, 10, 1, 2, 8, 7, 8, 10, 4, 8, 7, 1, 1, 2, 5, 7, 9, 2, 5, 9, 2, 3, 8, 9, 10, 1, 3, 7, 5, 6, 7, 9, 6, 9, 8, 1, 7, 1, 4, 6, 9, 1, 3, 6, 8, 5, 8, 4, 9, 10, 9, 5, 6, 9, 4, 10, 3, 6, 8, 8, 4, 3, 5, 6, 1, 4, 6, 8, 8, 3, 2, 4, 9, 6, 3, 5, 7, 7, 9, 7, 1, 3, 9, 3, 5, 6, 8, 1, 2, 8, 10, 2, 3, 4, 5, 8, 10, 4, 5, 8, 9, 3, 5, 7, 9, 10, 2, 9, 3, 5, 6, 9, 10, 1, 5, 8, 2, 10, 1, 2, 6, 9, 10, 1, 5, 7, 9, 2, 7, 1, 3, 4, 5, 6, 8, 9, 4, 6, 1, 4, 10, 1, 3, 4, 5, 6, 9, 10, 2, 3, 6, 7, 2, 1, 1, 3, 6, 3, 1, 4, 8, 4, 6, 1, 2, 4, 5, 6, 7, 8, 9, 10, 1, 3, 8, 2, 5, 6, 5, 6, 7, 8, 10, 3, 6, 10, 1, 3, 5, 10, 7, 1, 6, 7, 8, 2, 1, 4, 6, 7, 9, 3, 6, 8, 2, 1, 10, 6, 10, 4, 2, 1, 10, 2, 7, 10, 1, 2, 3, 4, 5, 6, 8, 9, 4, 2, 5, 8, 9, 10, 8, 4, 2, 8, 8, 9, 2, 3, 4, 5, 6, 7, 8, 9, 10, 3, 6, 4, 1, 6, 9, 10, 4, 2, 1, 8, 9, 3, 6, 8, 9, 2, 1, 3, 1, 9, 3, 10, 1, 6, 5, 7, 10, 7, 2, 3, 4, 5, 6, 7, 8, 10, 1, 2, 3, 9, 10, 1, 4, 5, 6, 7, 8, 9, 10, 7, 1, 5, 7, 9, 3, 5, 8, 2, 4, 1, 3, 7, 5, 1, 4, 6, 8, 1, 3, 9, 5, 1, 2, 3, 5, 6, 7, 8, 9, 6, 3, 8, 4, 5, 6, 7, 1, 2, 3, 6, 8, 9, 1, 2, 4, 5, 6, 7, 8, 9, 8, 7, 9, 1, 3, 5, 7, 9, 10, 2, 6, 8, 9, 5, 10, 5, 10, 10, 4, 7, 1, 3, 4, 5, 6, 7, 8, 10, 1, 3, 6, 10, 2, 9, 1, 2, 3, 4, 5, 6, 7, 8, 10, 1, 2, 4, 8, 1, 6, 1, 6, 2, 1, 5, 9, 2, 3, 4, 5, 6, 8, 10, 1, 5, 1, 3, 4, 7, 8, 10, 2, 10, 7, 1, 5, 7, 9, 3, 6, 4, 5, 6, 8, 10, 1, 4, 5, 6, 8, 9, 10, 1, 3, 4, 5, 6, 7, 8, 9, 8, 9, 3, 4, 6, 8, 9, 2, 5, 6, 7, 8, 10, 1, 2, 3, 6, 9, 4, 6, 7, 9, 3, 2, 6, 8, 9, 4, 4, 4, 7, 1, 7, 2, 1, 3, 4, 9, 10, 6, 7, 8, 9, 10, 6, 9, 4], \"Freq\": [0.17401845753192902, 0.002677207114174962, 0.1981133222579956, 0.4069354832172394, 0.05086693540215492, 0.1606324315071106, 0.005354414228349924, 0.99716717004776, 0.0012933426769450307, 0.0012933426769450307, 0.9779761433601379, 0.9815222024917603, 0.9849246740341187, 0.9764029383659363, 0.9982309937477112, 0.0326816700398922, 0.24511252343654633, 0.22604821622371674, 0.00817041750997305, 0.12618756294250488, 0.049022503197193146, 0.047206856310367584, 0.14252838492393494, 0.01906430721282959, 0.10530760139226913, 0.9833482503890991, 0.9808825850486755, 0.00971170887351036, 0.15801002085208893, 0.5514227747917175, 0.03869633376598358, 0.035471636801958084, 0.06771858036518097, 0.0064493888057768345, 0.025797555223107338, 0.11608900129795074, 0.9249264001846313, 0.07387591153383255, 0.9963737726211548, 0.2805503010749817, 0.7080554962158203, 0.0066797686740756035, 0.06313388794660568, 0.864145040512085, 0.003945867996662855, 0.05918801948428154, 0.00789173599332571, 0.04988456144928932, 0.008314093574881554, 0.9394925832748413, 0.21084152162075043, 0.020404018461704254, 0.09181807935237885, 0.051010046154260635, 0.6257232427597046, 0.1926676481962204, 0.7967950105667114, 0.006531106773763895, 0.985241711139679, 0.9741878509521484, 0.9665112495422363, 0.12762703001499176, 0.8614825010299683, 0.016093408688902855, 0.01072893850505352, 0.9656044840812683, 0.621353030204773, 0.011506537906825542, 0.18794012069702148, 0.15725602209568024, 0.01917756348848343, 0.9739444255828857, 0.9822248220443726, 0.979908287525177, 0.046699151396751404, 0.21509912610054016, 0.15283359587192535, 0.18255123496055603, 0.16839997470378876, 0.05943528562784195, 0.03396302089095116, 0.00849075522273779, 0.13302183151245117, 0.5314131379127502, 0.17923401296138763, 0.15407836437225342, 0.07232249528169632, 0.056600216776132584, 0.9871587157249451, 0.9882248044013977, 0.2523345649242401, 0.09705175459384918, 0.6308364272117615, 0.009705175645649433, 0.019868383184075356, 0.7649327516555786, 0.20861801505088806, 0.9748865365982056, 0.9888734221458435, 0.9776861071586609, 0.10146847367286682, 0.8955695629119873, 0.06436777859926224, 0.9349419474601746, 0.6291077733039856, 0.3666991889476776, 0.9943640232086182, 0.004766274709254503, 0.9738812446594238, 0.9980463981628418, 0.9732339382171631, 0.02023390121757984, 0.04046780243515968, 0.9206425547599792, 0.1086493581533432, 0.05112910643219948, 0.006391138304024935, 0.8308480381965637, 0.9425365328788757, 0.14252983033657074, 0.4113929271697998, 0.20083749294281006, 0.24618789553642273, 0.019904719665646553, 0.09554265439510345, 0.010615850798785686, 0.022558683529496193, 0.23222173750400543, 0.005307925399392843, 0.415345162153244, 0.1963932365179062, 0.1677977293729782, 0.6623594760894775, 0.019870784133672714, 0.01766291819512844, 0.11701683700084686, 0.013247189112007618, 0.9865686893463135, 0.5292636752128601, 0.006615795660763979, 0.20508967339992523, 0.2514002323150635, 0.9082881212234497, 0.08526786416769028, 0.9611432552337646, 0.0008829206344671547, 0.0055918307043612, 0.00029430686845444143, 0.060038600116968155, 0.9323641657829285, 0.0005886137369088829, 0.00029430686845444143, 0.08018919825553894, 0.8981190323829651, 0.9903576374053955, 0.8016979098320007, 0.001765854423865676, 0.153629332780838, 0.04238050803542137, 0.9908992052078247, 0.9784717559814453, 0.9867839813232422, 0.9907074570655823, 0.9765034317970276, 0.5652667880058289, 0.274154394865036, 0.07913735508918762, 0.07913735508918762, 0.9256939888000488, 0.11228499561548233, 0.8795658349990845, 0.21259620785713196, 0.010123629122972488, 0.7744576334953308, 0.038713693618774414, 0.2766612768173218, 0.12841615080833435, 0.03399251401424408, 0.055709950625896454, 0.03493674844503403, 0.001888472936116159, 0.0727062076330185, 0.3399251103401184, 0.01699625700712204, 0.9834543466567993, 0.9850769639015198, 0.0004550933081191033, 0.00409583980217576, 0.00455093290656805, 0.0004550933081191033, 0.9902830719947815, 0.3614528179168701, 0.19312919676303864, 0.14706167578697205, 0.16655178368091583, 0.12757158279418945, 0.0053154826164245605, 0.9587382674217224, 0.004178578499704599, 0.986144483089447, 0.008357156999409199, 0.963858962059021, 0.9837234616279602, 0.9140895009040833, 0.18884071707725525, 0.6982715129852295, 0.107595294713974, 0.0021958223078399897, 0.6742772459983826, 0.30226221680641174, 0.9793868660926819, 0.2499040961265564, 0.19263440370559692, 0.4789828360080719, 0.07288869470357895, 0.9808574914932251, 0.9858106970787048, 0.007781051564961672, 0.9881935715675354, 0.9716322422027588, 0.00691497465595603, 0.9819263815879822, 0.8566644191741943, 0.08103582262992859, 0.057882729917764664, 0.9721567034721375, 0.14856286346912384, 0.31276392936706543, 0.2502111494541168, 0.2867002487182617, 0.5783457159996033, 0.0953972265124321, 0.011924653314054012, 0.3040786683559418, 0.14278601109981537, 0.853395402431488, 0.9808850884437561, 0.9916239976882935, 0.45690783858299255, 0.010431685484945774, 0.21072004735469818, 0.1502162665128708, 0.1710796356201172, 0.7803215384483337, 0.20356214046478271, 0.10964551568031311, 0.6311302781105042, 0.01871996559202671, 0.03743993118405342, 0.1818510890007019, 0.02139424718916416, 0.9759612083435059, 0.9696575999259949, 0.9902603030204773, 0.18447944521903992, 0.4306577146053314, 0.003084940603002906, 0.05737989395856857, 0.16103389859199524, 0.08699532598257065, 0.06231579929590225, 0.014190726913511753, 0.9794988632202148, 0.9786632061004639, 0.12423625588417053, 0.1493765115737915, 0.08233582228422165, 0.009024709463119507, 0.05696115270256996, 0.1532442569732666, 0.0027542943134903908, 0.035571418702602386, 0.031469278037548065, 0.3550109565258026, 0.9812634587287903, 0.000528734119143337, 0.000528734119143337, 0.024850504472851753, 0.06503430008888245, 0.11420657485723495, 0.14751683175563812, 0.006873543839901686, 0.6408257484436035, 0.9754474759101868, 0.11566329002380371, 0.05003412067890167, 0.0019493813160806894, 0.19753730297088623, 0.13515710830688477, 0.06432957947254181, 0.2514701783657074, 0.005198350176215172, 0.17804348468780518, 0.9810261130332947, 0.9639050960540771, 0.9711724519729614, 0.9846193790435791, 0.4885992705821991, 0.5046189427375793, 0.2922890782356262, 0.6959263682365417, 0.973312258720398, 0.11828648298978806, 0.7579097151756287, 0.11828648298978806, 0.06873161345720291, 0.3294377326965332, 0.1801242232322693, 0.00711016682907939, 0.00711016682907939, 0.052141223102808, 0.3531382977962494, 0.991443932056427, 0.9760580658912659, 0.8977224230766296, 0.09681320190429688, 0.9808347821235657, 0.0076128034852445126, 0.24665483832359314, 0.186259925365448, 0.002030080882832408, 0.04593058302998543, 0.14134438335895538, 0.044915542006492615, 0.15200231969356537, 0.09922020882368088, 0.07384419441223145, 0.1164991483092308, 0.37936902046203613, 0.2867671549320221, 0.16728083789348602, 0.04779452458024025, 0.0029871577862650156, 0.9902414679527283, 0.987214207649231, 0.9582479000091553, 0.023371899500489235, 0.011685949750244617, 0.9802653193473816, 0.12849532067775726, 0.16950444877147675, 0.08201828598976135, 0.1613026261329651, 0.1339631974697113, 0.31987130641937256, 0.0027339428197592497, 0.9909825921058655, 0.014127673581242561, 0.0871206521987915, 0.09889371693134308, 0.0023546123411506414, 0.7958589792251587, 0.9690117835998535, 0.9151785373687744, 0.07697763293981552, 0.9808689951896667, 0.97645503282547, 0.02020251750946045, 0.8271160125732422, 0.15248507261276245, 0.0046207597479224205, 0.009241519495844841, 0.0038422856014221907, 0.2420639991760254, 0.10374171286821365, 0.6493462920188904, 0.8814170360565186, 0.11483249813318253, 0.9975253343582153, 0.0012360909022390842, 0.9850203990936279, 0.0679699257016182, 0.059473685920238495, 0.008496240712702274, 0.05734962597489357, 0.006372180767357349, 0.7965225577354431, 0.98685622215271, 0.9645692706108093, 0.9786093235015869, 0.04831676930189133, 0.2713172435760498, 0.15114477276802063, 0.46953991055488586, 0.05698901042342186, 0.0024777830112725496, 0.13127465546131134, 0.6730809211730957, 0.0763779804110527, 0.05489667132496834, 0.0644439160823822, 0.6887097358703613, 0.050135958939790726, 0.002638734644278884, 0.2559572756290436, 0.9844849705696106, 0.007939394563436508, 0.007939394563436508, 0.9799849390983582, 0.00783987995237112, 0.8252665996551514, 0.010580341331660748, 0.15870511531829834, 0.1498117446899414, 0.10531321167945862, 0.08306393772363663, 0.004449853673577309, 0.06378123909235, 0.43608567118644714, 0.15871144831180573, 0.9500033855438232, 0.9949912428855896, 0.18487752974033356, 0.8123406767845154, 0.01937115751206875, 0.975014865398407, 0.983908474445343, 0.0030684347730129957, 0.8652986288070679, 0.1288742572069168, 0.007942184805870056, 0.19061243534088135, 0.7981895804405212, 0.9885616898536682, 0.9773918390274048, 0.9820778965950012, 0.9777525663375854, 0.9709733724594116, 0.990635335445404, 0.948708713054657, 0.9758714437484741, 0.9643747210502625, 0.01785879209637642, 0.9770022630691528, 0.20513565838336945, 0.0290863998234272, 0.0979752391576767, 0.061234526336193085, 0.12093818932771683, 0.48528361320495605, 0.9874750971794128, 0.9269542694091797, 0.06565462052822113, 0.005563951097428799, 0.9949999451637268, 0.15916219353675842, 0.8368850946426392, 0.9843564033508301, 0.9830013513565063, 0.18027330935001373, 0.18478013575077057, 0.03455238416790962, 0.10515943169593811, 0.395099014043808, 0.09915032237768173, 0.9894125461578369, 0.9751361012458801, 0.17294710874557495, 0.02161838859319687, 0.5668821930885315, 0.09127763658761978, 0.016814302653074265, 0.12730827927589417, 0.8009571433067322, 0.19417142868041992, 0.971645712852478, 0.7946210503578186, 0.20243197679519653, 0.11666670441627502, 0.8750002980232239, 0.9755489230155945, 0.2404349148273468, 0.7461773157119751, 0.4884064197540283, 0.10045237839221954, 0.006927750539034605, 0.01385550107806921, 0.07966913282871246, 0.3082849085330963, 0.0034638752695173025, 0.008896397426724434, 0.9252253174781799, 0.0533783845603466, 0.9701844453811646, 0.774466335773468, 0.22095726430416107, 0.1041141226887703, 0.21554876863956451, 0.5644937753677368, 0.0016267831670120358, 0.05937758460640907, 0.03172226995229721, 0.022774964570999146, 0.9813637137413025, 0.0031796495895832777, 0.10492843389511108, 0.8903018832206726, 0.99834805727005, 0.8313918113708496, 0.11221238970756531, 0.04590506851673126, 0.005698431748896837, 0.14531001448631287, 0.843367874622345, 0.9655544757843018, 0.9915577173233032, 0.0058326926082372665, 0.984598696231842, 0.9659661650657654, 0.827224850654602, 0.1622009426355362, 0.7531923651695251, 0.16921943426132202, 0.07631465047597885, 0.9402876496315002, 0.03616490960121155, 0.8719280958175659, 0.12051038444042206, 0.9887158870697021, 0.1340433806180954, 0.7221047282218933, 0.004323980305343866, 0.0670216903090477, 0.07134567201137543, 0.983335554599762, 0.01024307869374752, 0.14102159440517426, 0.05570604279637337, 0.15406985580921173, 0.01104083750396967, 0.14905129373073578, 0.083809994161129, 0.0943489745259285, 0.018066823482513428, 0.07076172530651093, 0.22232231497764587, 0.01833174005150795, 0.9532504677772522, 0.11236338317394257, 0.8708162307739258, 0.8590088486671448, 0.001012982102110982, 0.043558232486248016, 0.0962333008646965, 0.9949781894683838, 0.12942944467067719, 0.8655593991279602, 0.011824621818959713, 0.9696190357208252, 0.967494785785675, 0.9670255780220032, 0.9737960696220398, 0.9793838858604431, 0.9965102076530457, 0.7579396963119507, 0.008063187822699547, 0.233832448720932, 0.8043074011802673, 0.19348904490470886, 0.015520974062383175, 0.9623003602027893, 0.9954933524131775, 0.03586376830935478, 0.9503899216651917, 0.9639306664466858, 0.9706687927246094, 0.9874485731124878, 0.7414897680282593, 0.20596937835216522, 0.9862099289894104, 0.04372820258140564, 0.9445291757583618, 0.976363480091095, 0.22555555403232574, 0.01670781895518303, 0.07936213910579681, 0.03968106955289841, 0.0647427961230278, 0.004176954738795757, 0.022973250597715378, 0.02715020440518856, 0.5179423689842224, 0.9921145439147949, 0.09481480717658997, 0.8970938920974731, 0.14998359978199005, 0.844352126121521, 0.9625803828239441, 0.9922061562538147, 0.9924076795578003, 0.016485044732689857, 0.22460873425006866, 0.26994261145591736, 0.276124507188797, 0.004121261183172464, 0.057697657495737076, 0.14836540818214417, 0.17883072793483734, 0.7902615070343018, 0.03065669722855091, 0.002773098647594452, 0.08873915672302246, 0.8652067184448242, 0.04159647971391678, 0.9770402908325195, 0.9853379130363464, 0.9919201731681824, 0.055572882294654846, 0.9262146949768066, 0.012349529191851616, 0.9824652075767517, 0.273293137550354, 0.2029404640197754, 0.24623441696166992, 0.136646568775177, 0.14070537686347961, 0.9842113256454468, 0.692696750164032, 0.29093265533447266, 0.9743332862854004, 0.9631898403167725, 0.9151374697685242, 0.08438767492771149, 0.9873048663139343, 0.9863818883895874, 0.9929010272026062, 0.9971118569374084, 0.01380661129951477, 0.9733660817146301, 0.9760899543762207, 0.19745969772338867, 0.5461171269416809, 0.004513364750891924, 0.18279126286506653, 0.002256682375445962, 0.06544378399848938, 0.001128341187722981, 0.6443992257118225, 0.004570207092911005, 0.2559316158294678, 0.059412695467472076, 0.03199145197868347, 0.9936612248420715, 0.9954390525817871, 0.0023667498026043177, 0.17040598392486572, 0.3266114592552185, 0.06626899540424347, 0.4354819357395172, 0.9828185439109802, 0.08365195244550705, 0.056883327662944794, 0.1505735218524933, 0.3145313560962677, 0.010038234293460846, 0.060229409486055374, 0.21749508380889893, 0.10372842103242874, 0.9710490107536316, 0.005641814321279526, 0.9873175621032715, 0.07374432682991028, 0.7764844298362732, 0.14748865365982056, 0.010831567458808422, 0.9748411178588867, 0.13978031277656555, 0.8573192358016968, 0.9626795649528503, 0.9741029739379883, 0.9795230627059937, 0.030549228191375732, 0.15157116949558258, 0.07402312755584717, 0.0845978632569313, 0.2161945402622223, 0.10927224159240723, 0.19856998324394226, 0.07049822062253952, 0.010574732907116413, 0.055223606526851654, 0.9827340841293335, 0.19071440398693085, 0.7975329756736755, 0.008668836206197739, 0.969306230545044, 0.9900977611541748, 0.302869975566864, 0.6875966787338257, 0.6423753499984741, 0.1523883044719696, 0.009377742186188698, 0.19458815455436707, 0.0035634031519293785, 0.994189441204071, 0.0019383347826078534, 0.6570954918861389, 0.34114691615104675, 0.9850578904151917, 0.9356019496917725, 0.05150102451443672, 0.9771838188171387, 0.9861109256744385, 0.994110643863678, 0.008006079122424126, 0.6725106835365295, 0.24818846583366394, 0.064048632979393, 0.8996295928955078, 0.08793371915817261, 0.9885163307189941, 0.7603219747543335, 0.23449181020259857, 0.9076551198959351, 0.08378354460000992, 0.9868929982185364, 0.9943991303443909, 0.08210514485836029, 0.07370802760124207, 0.5933963060379028, 0.24631543457508087, 0.0037320521660149097, 0.01603713631629944, 0.9141167998313904, 0.06414854526519775, 0.5915527939796448, 0.07000625133514404, 0.3360300064086914, 0.036723364144563675, 0.954807460308075, 0.9960336089134216, 0.9752308130264282, 0.15800733864307404, 0.24975353479385376, 0.47911903262138367, 0.03567907586693764, 0.07135815173387527, 0.9788406491279602, 0.013174186460673809, 0.9748898148536682, 0.01539651583880186, 0.00769825791940093, 0.9699804782867432, 0.9666791558265686, 0.013063231483101845, 0.18287572264671326, 0.0073150284588336945, 0.7973381280899048, 0.021230043843388557, 0.591408371925354, 0.10311735421419144, 0.2820563018321991, 0.0035236612893640995, 0.9901488423347473, 0.975508451461792, 0.9729705452919006, 0.9772081971168518, 0.9823494553565979, 0.19008612632751465, 0.8068100214004517, 0.9924424886703491, 0.9863080382347107, 0.15722861886024475, 0.710239589214325, 0.12469855695962906, 0.19174735248088837, 0.8015038967132568, 0.05052216351032257, 0.07578324526548386, 0.8588767647743225, 0.9689537286758423, 0.018792886286973953, 0.03892812132835388, 0.9409866333007812, 0.0773974359035492, 0.8900705575942993, 0.28875938057899475, 0.7068139910697937, 0.9783475995063782, 0.9748522043228149, 0.9667204022407532, 0.2205754816532135, 0.041730497032403946, 0.7332644462585449, 0.10583606362342834, 0.05772876366972923, 0.2052578181028366, 0.6286020874977112, 0.9788174629211426, 0.9825723767280579, 0.9812363982200623, 0.007162309717386961, 0.9951990246772766, 0.9767235517501831, 0.8489559292793274, 0.11521544307470322, 0.02425588294863701, 0.9762268662452698, 0.9964034557342529, 0.9706507325172424, 0.6222249865531921, 0.3334411382675171, 0.041680142283439636, 0.2460699826478958, 0.13214869797229767, 0.6151749491691589, 0.004556851461529732, 0.015454127453267574, 0.631043553352356, 0.010302752256393433, 0.3399908244609833, 0.5741287469863892, 0.08854721486568451, 0.02570725604891777, 0.1570999026298523, 0.028563618659973145, 0.1228235587477684, 0.043134406208992004, 0.25017955899238586, 0.601006031036377, 0.10064694285392761, 0.18663807213306427, 0.008114699274301529, 0.020286746323108673, 0.7749537229537964, 0.008114699274301529, 0.9799347519874573, 0.9975319504737854, 0.11714813113212585, 0.005578482523560524, 0.005578482523560524, 0.7586736083030701, 0.11156965047121048, 0.006145075429230928, 0.012290150858461857, 0.9709219336509705, 0.9896524548530579, 0.9925660490989685, 0.14225712418556213, 0.014862685464322567, 0.02123240754008293, 0.3694438934326172, 0.4501270353794098, 0.08533824980258942, 0.6542599201202393, 0.18015852570533752, 0.07585621625185013, 0.9930891394615173, 0.9702086448669434, 0.0020411834120750427, 0.13471810519695282, 0.0020411834120750427, 0.402113139629364, 0.016329467296600342, 0.15512993931770325, 0.2878068685531616, 0.9868841767311096, 0.9698402285575867, 0.9702138304710388, 0.09026029706001282, 0.8875595927238464, 0.2366332858800888, 0.04338277131319046, 0.48904213309288025, 0.04929860308766365, 0.17353108525276184, 0.003943888004869223, 0.0019719440024346113, 0.0012615154264494777, 0.7442941069602966, 0.06559880077838898, 0.18796579539775848, 0.9887933135032654, 0.9943751096725464, 0.9673541188240051, 0.9621424674987793, 0.03317732736468315, 0.9894817471504211, 0.9786460995674133, 0.9145036935806274, 0.08238772302865982, 0.9686737656593323, 0.9994853734970093, 0.16877985000610352, 0.2903013527393341, 0.05941050499677658, 0.13907459378242493, 0.018903343006968498, 0.006751194130629301, 0.016202865168452263, 0.28760087490081787, 0.013502388261258602, 0.006454460322856903, 0.9488056302070618, 0.03872676193714142, 0.01100957952439785, 0.1871628612279892, 0.800029456615448, 0.6040903329849243, 0.0010018080938607454, 0.0025045203510671854, 0.014526218175888062, 0.3771807551383972, 0.9517931938171387, 0.045323487371206284, 0.9892444014549255, 0.9948081374168396, 0.0027675903402268887, 0.005535180680453777, 0.9880297183990479, 0.988392174243927, 0.028686897829174995, 0.17785876989364624, 0.6540612578392029, 0.1319597363471985, 0.9742555618286133, 0.1993287205696106, 0.017417073249816895, 0.6579782962799072, 0.07160352170467377, 0.050315987318754196, 0.09169884771108627, 0.9008063077926636, 0.9686334729194641, 0.97733074426651, 0.6770288944244385, 0.3196464478969574, 0.9864420294761658, 0.9858441352844238, 0.9892974495887756, 0.9832639098167419, 0.025878647342324257, 0.9661361575126648, 0.99599689245224, 0.04447115585207939, 0.9516827464103699, 0.028649842366576195, 0.399506151676178, 0.1496158391237259, 0.09072450548410416, 0.10504942387342453, 0.18622398376464844, 0.028649842366576195, 0.01273326389491558, 0.9847749471664429, 0.0632152184844017, 0.14047826826572418, 0.05970326438546181, 0.6497120261192322, 0.08428696542978287, 0.9736008048057556, 0.9928473830223083, 0.976476788520813, 0.9665374755859375, 0.1341228187084198, 0.8583860993385315, 0.5392323136329651, 0.07598689943552017, 0.0004577523795887828, 0.19225600361824036, 0.053557030856609344, 0.0009155047591775656, 0.0004577523795887828, 0.12084662914276123, 0.016936838626861572, 0.9866490960121155, 0.9922410845756531, 0.9843270182609558, 0.968762218952179, 0.015377177856862545, 0.005125726107507944, 0.9861300587654114, 0.9732632040977478, 0.976157009601593, 0.21278749406337738, 0.7802208065986633, 0.9838581085205078, 0.9907144904136658, 0.23116637766361237, 0.5393882393836975, 0.22523903846740723, 0.974932849407196, 0.8172672986984253, 0.17925192415714264, 0.05527714267373085, 0.9318146705627441, 0.9828336834907532, 0.970835268497467, 0.9779012799263, 0.99601811170578, 0.5794774293899536, 0.16266033053398132, 0.24907363951206207, 0.9819206595420837, 0.15661010146141052, 0.0018424717709422112, 0.0036849435418844223, 0.21741166710853577, 0.0055274153128266335, 0.23399391770362854, 0.06448651105165482, 0.31506267189979553, 0.09085158258676529, 0.21983841061592102, 0.14356793463230133, 0.0011216244893148541, 0.5428662896156311, 0.20361605286598206, 0.04355423524975777, 0.011977414600551128, 0.002177711809054017, 0.005444279406219721, 0.002177711809054017, 0.48018544912338257, 0.25043684244155884, 0.9942131638526917, 0.0173644982278347, 0.7814024090766907, 0.10418698936700821, 0.0868224948644638, 0.9822096824645996, 0.7863121032714844, 0.17755433917045593, 0.9746964573860168, 0.9823126196861267, 0.12033110857009888, 0.8724005222320557, 0.004297539591789246, 0.9686493873596191, 0.0005981030990369618, 0.08253823220729828, 0.7948790192604065, 0.12201303243637085, 0.21316072344779968, 0.6228722333908081, 0.16056261956691742, 0.9293943643569946, 0.021159814670681953, 0.46647772192955017, 0.09041011333465576, 0.20198003947734833, 0.01635076478123665, 0.0009618097683414817, 0.0009618097683414817, 0.20005643367767334, 0.9981953501701355, 0.18554599583148956, 0.8084504008293152, 0.19509257376194, 0.78037029504776, 0.9875273704528809, 0.9994339942932129, 0.019891640171408653, 0.7558823227882385, 0.001989163924008608, 0.003978327848017216, 0.07558823376893997, 0.14321981370449066, 0.049911148846149445, 0.35069146752357483, 0.011821061372756958, 0.0801205262541771, 0.13791237771511078, 0.07486671954393387, 0.07223981618881226, 0.21934635937213898, 0.9756258726119995, 0.9834828972816467, 0.9797868728637695, 0.007421787828207016, 0.5393165946006775, 0.10885288566350937, 0.08163966983556747, 0.06679609417915344, 0.195440411567688, 0.9083375930786133, 0.00381654454395175, 0.08396397531032562, 0.9717400670051575, 0.9580917954444885, 0.9860273003578186, 0.23500792682170868, 0.7553825974464417, 0.9887663125991821, 0.9650351405143738, 0.9633569717407227, 0.0345005989074707, 0.36316418647766113, 0.012710746377706528, 0.08171194046735764, 0.3667958378791809, 0.03813223913311958, 0.04902716726064682, 0.05447462946176529, 0.11520618200302124, 0.02880154550075531, 0.13440720736980438, 0.7200385928153992, 0.9879392385482788, 0.007718275301158428, 0.0027144532650709152, 0.048860158771276474, 0.05700351670384407, 0.08686250448226929, 0.0027144532650709152, 0.14658047258853912, 0.1791539192199707, 0.0027144532650709152, 0.4777437746524811, 0.5790717601776123, 0.33287957310676575, 0.02427246980369091, 0.058947425335645676, 0.9910138249397278, 0.981177806854248, 0.016281871125102043, 0.9606304168701172, 0.9821211695671082, 0.7540416717529297, 0.06356746703386307, 0.1797425001859665, 0.001666789292357862, 0.003333578584715724, 0.17001250386238098, 0.6783832311630249, 0.001666789292357862, 0.12167561799287796, 0.021668260917067528, 0.9985721111297607, 0.9564657807350159, 0.050103895366191864, 0.5706276893615723, 0.16144588589668274, 0.06680519133806229, 0.058454543352127075, 0.09185714274644852, 0.0959269180893898, 0.9023125767707825, 0.9810852408409119, 0.24117077887058258, 0.6699188351631165, 0.08039025962352753, 0.008932250551879406, 0.010491997003555298, 0.9757557511329651, 0.13106249272823334, 0.06310416013002396, 0.6601666212081909, 0.06310416013002396, 0.08252082765102386, 0.9818785190582275, 0.3192165195941925, 0.15960825979709625, 0.003990206867456436, 0.087784543633461, 0.11970619857311249, 0.30325570702552795, 0.008829332888126373, 0.4072529971599579, 0.029798999428749084, 0.08718966692686081, 0.0916043296456337, 0.08829333633184433, 0.057390667498111725, 0.2295626699924469, 0.9560734629631042, 0.980377733707428, 0.01617259532213211, 0.04690052568912506, 0.18598484992980957, 0.02911067195236683, 0.7212977409362793, 0.24126772582530975, 0.10104374587535858, 0.018559055402874947, 0.026807524263858795, 0.27219948172569275, 0.33612510561943054, 0.12238837033510208, 0.00394801190122962, 0.3184729814529419, 0.061852190643548965, 0.4935015141963959, 0.08226536959409714, 0.005484357941895723, 0.030163969844579697, 0.8802394866943359, 0.9793561100959778, 0.9750044345855713, 0.00860499031841755, 0.00860499031841755, 0.9809688925743103, 0.9991642236709595, 0.9704747200012207, 0.9865037798881531, 0.9768797755241394, 0.9902679324150085, 0.95063316822052, 0.9851016998291016, 0.27059319615364075, 0.6217200756072998, 0.10630446672439575, 0.9827355146408081, 0.9686217308044434, 0.9761767387390137, 0.975929856300354, 0.020489467307925224, 0.030734200030565262, 0.94251549243927, 0.18584716320037842, 0.80533766746521, 0.9960145354270935], \"Term\": [\"!\", \"!\", \"!\", \"!\", \"!\", \"!\", \"!\", \"\\\"\", \"\\\"\", \"\\\"\", \"#ipad\", \"#iphone\", \"#porn\", \"#sex\", \"#yankees\", \"&\", \"&\", \"&\", \"&\", \"&\", \"&\", \"&\", \"&\", \"&\", \"&\", \"(\", \")\", \")\", \"*\", \"*\", \"*\", \"*\", \"*\", \"*\", \"*\", \"*\", \",\", \",\", \"-\", \"..\", \"..\", \"..\", \"...\", \"...\", \"...\", \"...\", \"...\", \"/\", \"/\", \"/\", \"15\", \"15\", \"15\", \"15\", \"15\", \"1st\", \"1st\", \"1st\", \"2\", \"20\", \"2014\", \"3\", \"3\", \"4\", \"4\", \"4\", \"5\", \"5\", \"5\", \"5\", \"5\", \"50\", \"7\", \"9\", \":\", \":\", \":\", \":\", \":\", \":\", \":\", \":\", \":\", \";\", \";\", \";\", \";\", \";\", \"<\", \"=\", \">\", \">\", \">\", \">\", \"@\", \"@\", \"@\", \"act\", \"af\", \"ago\", \"ah\", \"ah\", \"ain't\", \"ain't\", \"alone\", \"alone\", \"always\", \"always\", \"angry\", \"another\", \"answer\", \"anymore\", \"anymore\", \"anymore\", \"around\", \"around\", \"around\", \"around\", \"asian\", \"ask\", \"ask\", \"ask\", \"ask\", \"asked\", \"asked\", \"asked\", \"asked\", \"asked\", \"asked\", \"asked\", \"asked\", \"asking\", \"asking\", \"asking\", \"asking\", \"asking\", \"asking\", \"away\", \"b\", \"b\", \"b\", \"b\", \"baby\", \"baby\", \"back\", \"bad\", \"bad\", \"bad\", \"bad\", \"bad\", \"bad\", \"bad\", \"baddest\", \"baddest\", \"bae\", \"bag\", \"bag\", \"bag\", \"bag\", \"ball\", \"basic\", \"bc\", \"beaner\", \"become\", \"bed\", \"bed\", \"bed\", \"bed\", \"beer\", \"behind\", \"behind\", \"best\", \"best\", \"best\", \"better\", \"better\", \"better\", \"better\", \"better\", \"better\", \"better\", \"better\", \"better\", \"better\", \"big\", \"bill\", \"bitch\", \"bitch\", \"bitch\", \"bitch\", \"bitch\", \"black\", \"black\", \"black\", \"black\", \"black\", \"black\", \"block\", \"blow\", \"blow\", \"blow\", \"blunt\", \"body\", \"bone\", \"booty\", \"booty\", \"booty\", \"booty\", \"boyfriend\", \"boyfriend\", \"brother\", \"brought\", \"brought\", \"brought\", \"brought\", \"brown\", \"bullshit\", \"business\", \"business\", \"buy\", \"bye\", \"bye\", \"call\", \"call\", \"call\", \"can't\", \"cant\", \"cant\", \"cant\", \"cant\", \"car\", \"car\", \"car\", \"car\", \"care\", \"care\", \"caught\", \"cause\", \"change\", \"change\", \"change\", \"change\", \"change\", \"cheating\", \"cheating\", \"chick\", \"chick\", \"chick\", \"chick\", \"chick\", \"chick\", \"chicken\", \"child\", \"chill\", \"claim\", \"claim\", \"claim\", \"claim\", \"claim\", \"claim\", \"claim\", \"claim\", \"clean\", \"club\", \"cold\", \"cold\", \"cold\", \"cold\", \"cold\", \"cold\", \"cold\", \"cold\", \"cold\", \"cold\", \"come\", \"coming\", \"coming\", \"coming\", \"coming\", \"coming\", \"coming\", \"coming\", \"coming\", \"complain\", \"confused\", \"confused\", \"confused\", \"confused\", \"confused\", \"confused\", \"confused\", \"confused\", \"confused\", \"control\", \"coon\", \"cop\", \"count\", \"course\", \"course\", \"cracker\", \"cracker\", \"crist\", \"cry\", \"cry\", \"cry\", \"cut\", \"cut\", \"cut\", \"cut\", \"cut\", \"cut\", \"cut\", \"dad\", \"daddy\", \"damn\", \"damn\", \"date\", \"dawg\", \"dawg\", \"dawg\", \"dawg\", \"dawg\", \"dawg\", \"dawg\", \"dawg\", \"dawg\", \"dawg\", \"day\", \"day\", \"day\", \"day\", \"day\", \"day\", \"de\", \"death\", \"dem\", \"dem\", \"dem\", \"deserve\", \"dick\", \"dick\", \"dick\", \"dick\", \"dick\", \"dick\", \"dick\", \"didnt\", \"die\", \"die\", \"die\", \"die\", \"die\", \"doin\", \"door\", \"door\", \"dope\", \"drake\", \"drake\", \"dress\", \"dress\", \"dress\", \"dress\", \"drunk\", \"drunk\", \"drunk\", \"drunk\", \"dumb\", \"dumb\", \"early\", \"early\", \"eat\", \"eating\", \"eating\", \"eating\", \"eating\", \"eating\", \"eating\", \"else\", \"end\", \"especially\", \"ever\", \"ever\", \"ever\", \"ever\", \"ever\", \"ever\", \"every\", \"every\", \"every\", \"every\", \"every\", \"everyone\", \"everyone\", \"everyone\", \"everyone\", \"ex\", \"ex\", \"ex\", \"eye\", \"eye\", \"fag\", \"fag\", \"fag\", \"faggot\", \"faggot\", \"faggot\", \"faggot\", \"faggot\", \"faggot\", \"faggot\", \"fake\", \"fall\", \"fat\", \"fat\", \"favorite\", \"favorite\", \"feel\", \"female\", \"female\", \"female\", \"fight\", \"fight\", \"fight\", \"finally\", \"finger\", \"fire\", \"flappy\", \"follow\", \"fool\", \"forget\", \"forgot\", \"free\", \"free\", \"fuck\", \"fucking\", \"fucking\", \"fucking\", \"fucking\", \"fucking\", \"fucking\", \"funny\", \"game\", \"game\", \"game\", \"gave\", \"gay\", \"gay\", \"get\", \"giant\", \"girl\", \"girl\", \"girl\", \"girl\", \"girl\", \"girl\", \"giving\", \"goin\", \"going\", \"going\", \"going\", \"going\", \"going\", \"going\", \"gone\", \"gone\", \"gonna\", \"gotta\", \"gotta\", \"green\", \"green\", \"gun\", \"guy\", \"guy\", \"ha\", \"ha\", \"ha\", \"ha\", \"ha\", \"ha\", \"ha\", \"hair\", \"hair\", \"hair\", \"half\", \"happy\", \"happy\", \"hard\", \"hard\", \"hard\", \"hard\", \"hard\", \"hard\", \"hard\", \"hate\", \"he's\", \"he's\", \"he's\", \"hear\", \"heart\", \"heart\", \"heart\", \"hell\", \"hell\", \"hell\", \"help\", \"hey\", \"hey\", \"hillbilly\", \"ho\", \"honestly\", \"honestly\", \"hood\", \"hood\", \"hood\", \"hop\", \"hop\", \"hope\", \"hope\", \"hot\", \"i'd\", \"i'd\", \"i'd\", \"i'd\", \"i'd\", \"i'll\", \"i'll\", \"i'm\", \"i'm\", \"i'm\", \"i'm\", \"i'm\", \"i'm\", \"i'm\", \"i'm\", \"i'm\", \"i'm\", \"i've\", \"i've\", \"idk\", \"idk\", \"ig\", \"ig\", \"ig\", \"ig\", \"im\", \"ima\", \"ima\", \"instead\", \"instead\", \"ion\", \"jail\", \"jeter\", \"joe\", \"k\", \"kid\", \"kid\", \"kid\", \"kill\", \"kill\", \"kiss\", \"kiss\", \"knew\", \"kno\", \"kno\", \"la\", \"law\", \"learn\", \"leave\", \"leave\", \"let\", \"lick\", \"lick\", \"lie\", \"life\", \"life\", \"life\", \"life\", \"life\", \"life\", \"life\", \"life\", \"life\", \"lil\", \"line\", \"line\", \"listen\", \"listen\", \"literally\", \"live\", \"lmao\", \"lmaooo\", \"lmaooo\", \"lmaooo\", \"lmaooo\", \"lmaooo\", \"lmaooo\", \"lmaooo\", \"lmfao\", \"lmfao\", \"lmfao\", \"lmfaooo\", \"lmfaooo\", \"lmfaooo\", \"lmfaooo\", \"lol\", \"lonely\", \"long\", \"looking\", \"looking\", \"looking\", \"lot\", \"love\", \"love\", \"love\", \"love\", \"love\", \"loyal\", \"made\", \"made\", \"main\", \"mama\", \"man\", \"man\", \"mane\", \"many\", \"maybe\", \"meet\", \"men\", \"men\", \"mess\", \"met\", \"met\", \"met\", \"met\", \"met\", \"met\", \"met\", \"mexican\", \"mexican\", \"mexican\", \"mexican\", \"mexican\", \"middle\", \"might\", \"mind\", \"mind\", \"mind\", \"mind\", \"mind\", \"minute\", \"miss\", \"miss\", \"miss\", \"miss\", \"miss\", \"miss\", \"miss\", \"miss\", \"mock\", \"moment\", \"moment\", \"money\", \"money\", \"money\", \"monkey\", \"monkey\", \"month\", \"month\", \"morning\", \"mother\", \"mouth\", \"much\", \"much\", \"much\", \"much\", \"much\", \"much\", \"much\", \"much\", \"much\", \"much\", \"music\", \"n\", \"n\", \"n\", \"name\", \"naw\", \"neck\", \"neck\", \"need\", \"need\", \"need\", \"need\", \"never\", \"never\", \"new\", \"new\", \"new\", \"nice\", \"niggah\", \"niggah\", \"niggahs\", \"niggaz\", \"night\", \"nip\", \"nip\", \"nip\", \"nip\", \"nobody\", \"nobody\", \"nothin\", \"nothing\", \"nothing\", \"nude\", \"nude\", \"oh\", \"ol\", \"old\", \"old\", \"old\", \"old\", \"old\", \"omg\", \"omg\", \"omg\", \"one\", \"one\", \"one\", \"open\", \"open\", \"oreo\", \"outside\", \"outta\", \"outta\", \"outta\", \"outta\", \"outta\", \"p\", \"parent\", \"parent\", \"party\", \"party\", \"party\", \"pas\", \"pas\", \"past\", \"past\", \"past\", \"people\", \"people\", \"people\", \"people\", \"perfect\", \"perfect\", \"pig\", \"piss\", \"plan\", \"played\", \"player\", \"player\", \"playin\", \"point\", \"pregnant\", \"pregnant\", \"pregnant\", \"probably\", \"probably\", \"problem\", \"problem\", \"problem\", \"prolly\", \"pussy\", \"pussy\", \"pussy\", \"queer\", \"queer\", \"r\", \"r\", \"rap\", \"ratchet\", \"rather\", \"real\", \"real\", \"real\", \"really\", \"really\", \"really\", \"really\", \"redneck\", \"redskin\", \"relationship\", \"relationship\", \"remember\", \"republican\", \"respect\", \"respect\", \"respect\", \"retarded\", \"rich\", \"rick\", \"ride\", \"ride\", \"ride\", \"right\", \"right\", \"right\", \"right\", \"roll\", \"roll\", \"roll\", \"roll\", \"rt\", \"rt\", \"rt\", \"rt\", \"rt\", \"rt\", \"running\", \"running\", \"running\", \"running\", \"sad\", \"sad\", \"sad\", \"sad\", \"sad\", \"said\", \"saw\", \"say\", \"say\", \"say\", \"say\", \"say\", \"saying\", \"saying\", \"saying\", \"scared\", \"school\", \"season\", \"season\", \"season\", \"season\", \"season\", \"see\", \"see\", \"see\", \"see\", \"seem\", \"self\", \"send\", \"send\", \"send\", \"send\", \"send\", \"send\", \"send\", \"serious\", \"seriously\", \"set\", \"sex\", \"sex\", \"sexy\", \"sexy\", \"sexy\", \"sexy\", \"sexy\", \"sexy\", \"sexy\", \"sheen\", \"sheen\", \"sheen\", \"sheen\", \"shirt\", \"shoe\", \"shot\", \"show\", \"show\", \"shy\", \"sick\", \"single\", \"single\", \"sister\", \"sit\", \"skinny\", \"skinny\", \"skinny\", \"skinny\", \"skinny\", \"skinny\", \"skinny\", \"skinny\", \"skinny\", \"slope\", \"slope\", \"slope\", \"slow\", \"slow\", \"slow\", \"smh\", \"smh\", \"smh\", \"smh\", \"smh\", \"smile\", \"smile\", \"social\", \"sole\", \"somebody\", \"somebody\", \"somebody\", \"son\", \"song\", \"song\", \"song\", \"song\", \"soon\", \"sooo\", \"sooo\", \"sooo\", \"sooo\", \"sooo\", \"sorry\", \"sorry\", \"soul\", \"speak\", \"started\", \"started\", \"state\", \"stay\", \"steal\", \"step\", \"still\", \"still\", \"strong\", \"stuck\", \"stuck\", \"stupid\", \"stupid\", \"stupid\", \"stupid\", \"stupid\", \"stupid\", \"stupid\", \"stupid\", \"support\", \"swear\", \"swear\", \"swear\", \"swear\", \"swear\", \"taken\", \"talk\", \"talkin\", \"teabaggers\", \"teeth\", \"teeth\", \"tell\", \"tell\", \"tell\", \"tell\", \"tell\", \"tell\", \"tell\", \"tell\", \"tell\", \"term\", \"test\", \"texting\", \"tf\", \"tf\", \"tf\", \"tha\", \"thank\", \"that's\", \"thats\", \"thats\", \"they're\", \"thick\", \"think\", \"think\", \"think\", \"thirsty\", \"tho\", \"tho\", \"tired\", \"tired\", \"today\", \"together\", \"told\", \"tomorrow\", \"took\", \"took\", \"took\", \"top\", \"tranny\", \"tranny\", \"tranny\", \"tranny\", \"tranny\", \"tranny\", \"tranny\", \"tranny\", \"trash\", \"trash\", \"trash\", \"trash\", \"trash\", \"true\", \"true\", \"true\", \"true\", \"true\", \"true\", \"true\", \"true\", \"trust\", \"trying\", \"trying\", \"trying\", \"trying\", \"turn\", \"turned\", \"turned\", \"tweeting\", \"twitter\", \"two\", \"two\", \"two\", \"type\", \"u\", \"u\", \"u\", \"u\", \"ugly\", \"ugly\", \"ugly\", \"uh\", \"ur\", \"ur\", \"ur\", \"ur\", \"ur\", \"ur\", \"ur\", \"ur\", \"use\", \"used\", \"used\", \"using\", \"using\", \"v\", \"video\", \"voice\", \"voice\", \"voice\", \"voice\", \"voice\", \"voice\", \"want\", \"want\", \"want\", \"want\", \"want\", \"want\", \"want\", \"want\", \"watching\", \"wear\", \"weather\", \"weed\", \"weed\", \"weed\", \"weed\", \"weed\", \"weed\", \"well\", \"well\", \"well\", \"went\", \"wet\", \"what's\", \"whatever\", \"whatever\", \"who's\", \"whore\", \"wife\", \"win\", \"win\", \"win\", \"win\", \"win\", \"win\", \"win\", \"win\", \"wish\", \"wish\", \"wish\", \"wish\", \"without\", \"without\", \"woman\", \"woman\", \"woman\", \"woman\", \"woman\", \"woman\", \"woman\", \"woman\", \"woman\", \"wonder\", \"wonder\", \"wonder\", \"wonder\", \"word\", \"work\", \"working\", \"working\", \"world\", \"worry\", \"worry\", \"worry\", \"worst\", \"worst\", \"worst\", \"worst\", \"worst\", \"worst\", \"worst\", \"would\", \"wow\", \"wrong\", \"wrong\", \"wrong\", \"wrong\", \"wrong\", \"wrong\", \"y'all\", \"y'all\", \"yankee\", \"yea\", \"yea\", \"yea\", \"yea\", \"yu\", \"yu\", \"|\", \"|\", \"|\", \"|\", \"|\", \"\\u00bb\", \"\\u201c\", \"\\u201c\", \"\\u201c\", \"\\u201c\", \"\\u201c\", \"\\u201c\", \"\\u201d\", \"\\u201d\", \"\\u201d\", \"\\u201d\", \"\\u201d\", \"\\u201d\", \"\\u201d\", \"\\u201d\", \"\\u2026\", \"\\u270c\", \"\\ud83d\\udc40\", \"\\ud83d\\udc40\", \"\\ud83d\\udc40\", \"\\ud83d\\udc40\", \"\\ud83d\\udc40\", \"\\ud83d\\udc4b\", \"\\ud83d\\udc4b\", \"\\ud83d\\udc4b\", \"\\ud83d\\udc4b\", \"\\ud83d\\udc4b\", \"\\ud83d\\udc4b\", \"\\ud83d\\udc4f\", \"\\ud83d\\udc4f\", \"\\ud83d\\udc4f\", \"\\ud83d\\udc4f\", \"\\ud83d\\udc4f\", \"\\ud83d\\udc50\", \"\\ud83d\\udc50\", \"\\ud83d\\udc50\", \"\\ud83d\\udc50\", \"\\ud83d\\udc80\", \"\\ud83d\\udca6\", \"\\ud83d\\udcaf\", \"\\ud83d\\udcaf\", \"\\ud83d\\udcaf\", \"\\ud83d\\ude02\", \"\\ud83d\\ude0a\", \"\\ud83d\\ude0e\", \"\\ud83d\\ude11\", \"\\ud83d\\ude12\", \"\\ud83d\\ude14\", \"\\ud83d\\ude15\", \"\\ud83d\\ude29\", \"\\ud83d\\ude29\", \"\\ud83d\\ude29\", \"\\ud83d\\ude33\", \"\\ud83d\\ude37\", \"\\ud83d\\ude45\", \"\\ud83d\\ude48\", \"\\ud83d\\ude4a\", \"\\ud83d\\ude4a\", \"\\ud83d\\ude4a\", \"\\ud83d\\ude4c\", \"\\ud83d\\ude4c\", \"\\ud83d\\ude4f\"]}, \"R\": 30, \"lambda.step\": 0.01, \"plot.opts\": {\"xlab\": \"PC1\", \"ylab\": \"PC2\"}, \"topic.order\": [1, 2, 3, 4, 5, 6, 7, 8, 9, 10]};\n",
              "\n",
              "function LDAvis_load_lib(url, callback){\n",
              "  var s = document.createElement('script');\n",
              "  s.src = url;\n",
              "  s.async = true;\n",
              "  s.onreadystatechange = s.onload = callback;\n",
              "  s.onerror = function(){console.warn(\"failed to load library \" + url);};\n",
              "  document.getElementsByTagName(\"head\")[0].appendChild(s);\n",
              "}\n",
              "\n",
              "if(typeof(LDAvis) !== \"undefined\"){\n",
              "   // already loaded: just create the visualization\n",
              "   !function(LDAvis){\n",
              "       new LDAvis(\"#\" + \"ldavis_el1201402318019746009192031854\", ldavis_el1201402318019746009192031854_data);\n",
              "   }(LDAvis);\n",
              "}else if(typeof define === \"function\" && define.amd){\n",
              "   // require.js is available: use it to load d3/LDAvis\n",
              "   require.config({paths: {d3: \"https://cdnjs.cloudflare.com/ajax/libs/d3/3.5.5/d3.min\"}});\n",
              "   require([\"d3\"], function(d3){\n",
              "      window.d3 = d3;\n",
              "      LDAvis_load_lib(\"https://cdn.rawgit.com/bmabey/pyLDAvis/files/ldavis.v1.0.0.js\", function(){\n",
              "        new LDAvis(\"#\" + \"ldavis_el1201402318019746009192031854\", ldavis_el1201402318019746009192031854_data);\n",
              "      });\n",
              "    });\n",
              "}else{\n",
              "    // require.js not available: dynamically load d3 & LDAvis\n",
              "    LDAvis_load_lib(\"https://cdnjs.cloudflare.com/ajax/libs/d3/3.5.5/d3.min.js\", function(){\n",
              "         LDAvis_load_lib(\"https://cdn.rawgit.com/bmabey/pyLDAvis/files/ldavis.v1.0.0.js\", function(){\n",
              "                 new LDAvis(\"#\" + \"ldavis_el1201402318019746009192031854\", ldavis_el1201402318019746009192031854_data);\n",
              "            })\n",
              "         });\n",
              "}\n",
              "</script>"
            ],
            "text/plain": [
              "<IPython.core.display.HTML object>"
            ]
          },
          "metadata": {
            "tags": []
          },
          "execution_count": 67
        }
      ]
    },
    {
      "cell_type": "code",
      "metadata": {
        "id": "d80U1-IrnK77",
        "colab_type": "code",
        "outputId": "8420bcb0-d7d8-497a-dcb7-b6fbea6538f8",
        "colab": {
          "base_uri": "https://localhost:8080/",
          "height": 36
        }
      },
      "source": [
        "# Where does text one belong to?\n",
        "lda_model[corpus][2]"
      ],
      "execution_count": 68,
      "outputs": [
        {
          "output_type": "execute_result",
          "data": {
            "text/plain": [
              "[(1, 0.32747653), (5, 0.3662445), (8, 0.2031378), (9, 0.07155424)]"
            ]
          },
          "metadata": {
            "tags": []
          },
          "execution_count": 68
        }
      ]
    }
  ]
}